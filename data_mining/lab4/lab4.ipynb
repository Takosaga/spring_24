{
 "cells": [
  {
   "cell_type": "markdown",
   "metadata": {},
   "source": [
    "# Lab 4"
   ]
  },
  {
   "cell_type": "markdown",
   "metadata": {},
   "source": [
    "## Load and Setup Data"
   ]
  },
  {
   "cell_type": "code",
   "execution_count": 66,
   "metadata": {},
   "outputs": [],
   "source": [
    "import math\n",
    "import numpy as np\n",
    "import pandas as pd\n",
    "import matplotlib as plt\n",
    "import matplotlib.pyplot as plt\n",
    "import seaborn as sns\n",
    "from pandas.core.array_algos import replace\n",
    "from sklearn.preprocessing import StandardScaler\n",
    "import statsmodels.api as sm\n",
    "from statsmodels.formula.api import ols\n",
    "from sklearn.model_selection import train_test_split\n",
    "from sklearn.linear_model import LogisticRegression\n",
    "from sklearn.metrics import classification_report, confusion_matrix\n",
    "from sklearn.preprocessing import StandardScaler\n",
    "from sklearn.discriminant_analysis import LinearDiscriminantAnalysis as LDA\n",
    "\n",
    "%matplotlib inline "
   ]
  },
  {
   "cell_type": "code",
   "execution_count": 67,
   "metadata": {},
   "outputs": [],
   "source": [
    "labeled_df = pd.read_csv('lab2_labeled.csv')"
   ]
  },
  {
   "cell_type": "code",
   "execution_count": 68,
   "metadata": {},
   "outputs": [
    {
     "data": {
      "text/html": [
       "<div>\n",
       "<style scoped>\n",
       "    .dataframe tbody tr th:only-of-type {\n",
       "        vertical-align: middle;\n",
       "    }\n",
       "\n",
       "    .dataframe tbody tr th {\n",
       "        vertical-align: top;\n",
       "    }\n",
       "\n",
       "    .dataframe thead th {\n",
       "        text-align: right;\n",
       "    }\n",
       "</style>\n",
       "<table border=\"1\" class=\"dataframe\">\n",
       "  <thead>\n",
       "    <tr style=\"text-align: right;\">\n",
       "      <th></th>\n",
       "      <th>Unnamed: 0</th>\n",
       "      <th>housing_median_age</th>\n",
       "      <th>total_rooms</th>\n",
       "      <th>total_bedrooms</th>\n",
       "      <th>population</th>\n",
       "      <th>households</th>\n",
       "      <th>median_income</th>\n",
       "      <th>median_house_value</th>\n",
       "      <th>labels_2_clusters</th>\n",
       "      <th>labels_3_clusters</th>\n",
       "      <th>labels_4_clusters</th>\n",
       "    </tr>\n",
       "  </thead>\n",
       "  <tbody>\n",
       "    <tr>\n",
       "      <th>0</th>\n",
       "      <td>0</td>\n",
       "      <td>39.0</td>\n",
       "      <td>2062.0</td>\n",
       "      <td>588.0</td>\n",
       "      <td>1933.0</td>\n",
       "      <td>570.0</td>\n",
       "      <td>1.3801</td>\n",
       "      <td>97000.0</td>\n",
       "      <td>1</td>\n",
       "      <td>1</td>\n",
       "      <td>1</td>\n",
       "    </tr>\n",
       "    <tr>\n",
       "      <th>1</th>\n",
       "      <td>1</td>\n",
       "      <td>35.0</td>\n",
       "      <td>1852.0</td>\n",
       "      <td>358.0</td>\n",
       "      <td>1414.0</td>\n",
       "      <td>347.0</td>\n",
       "      <td>4.2750</td>\n",
       "      <td>173600.0</td>\n",
       "      <td>1</td>\n",
       "      <td>0</td>\n",
       "      <td>0</td>\n",
       "    </tr>\n",
       "    <tr>\n",
       "      <th>2</th>\n",
       "      <td>2</td>\n",
       "      <td>9.0</td>\n",
       "      <td>2486.0</td>\n",
       "      <td>626.0</td>\n",
       "      <td>1938.0</td>\n",
       "      <td>525.0</td>\n",
       "      <td>2.1293</td>\n",
       "      <td>151400.0</td>\n",
       "      <td>1</td>\n",
       "      <td>1</td>\n",
       "      <td>0</td>\n",
       "    </tr>\n",
       "    <tr>\n",
       "      <th>3</th>\n",
       "      <td>3</td>\n",
       "      <td>20.0</td>\n",
       "      <td>37.0</td>\n",
       "      <td>11.0</td>\n",
       "      <td>34.0</td>\n",
       "      <td>8.0</td>\n",
       "      <td>1.2000</td>\n",
       "      <td>50000.0</td>\n",
       "      <td>1</td>\n",
       "      <td>1</td>\n",
       "      <td>1</td>\n",
       "    </tr>\n",
       "    <tr>\n",
       "      <th>4</th>\n",
       "      <td>4</td>\n",
       "      <td>26.0</td>\n",
       "      <td>3535.0</td>\n",
       "      <td>748.0</td>\n",
       "      <td>1322.0</td>\n",
       "      <td>666.0</td>\n",
       "      <td>7.1674</td>\n",
       "      <td>500001.0</td>\n",
       "      <td>0</td>\n",
       "      <td>2</td>\n",
       "      <td>3</td>\n",
       "    </tr>\n",
       "  </tbody>\n",
       "</table>\n",
       "</div>"
      ],
      "text/plain": [
       "   Unnamed: 0  housing_median_age  total_rooms  total_bedrooms  population  \\\n",
       "0           0                39.0       2062.0           588.0      1933.0   \n",
       "1           1                35.0       1852.0           358.0      1414.0   \n",
       "2           2                 9.0       2486.0           626.0      1938.0   \n",
       "3           3                20.0         37.0            11.0        34.0   \n",
       "4           4                26.0       3535.0           748.0      1322.0   \n",
       "\n",
       "   households  median_income  median_house_value  labels_2_clusters  \\\n",
       "0       570.0         1.3801             97000.0                  1   \n",
       "1       347.0         4.2750            173600.0                  1   \n",
       "2       525.0         2.1293            151400.0                  1   \n",
       "3         8.0         1.2000             50000.0                  1   \n",
       "4       666.0         7.1674            500001.0                  0   \n",
       "\n",
       "   labels_3_clusters  labels_4_clusters  \n",
       "0                  1                  1  \n",
       "1                  0                  0  \n",
       "2                  1                  0  \n",
       "3                  1                  1  \n",
       "4                  2                  3  "
      ]
     },
     "execution_count": 68,
     "metadata": {},
     "output_type": "execute_result"
    }
   ],
   "source": [
    "labeled_df.head()"
   ]
  },
  {
   "cell_type": "code",
   "execution_count": 69,
   "metadata": {},
   "outputs": [
    {
     "name": "stdout",
     "output_type": "stream",
     "text": [
      "<class 'pandas.core.frame.DataFrame'>\n",
      "RangeIndex: 300 entries, 0 to 299\n",
      "Data columns (total 11 columns):\n",
      " #   Column              Non-Null Count  Dtype  \n",
      "---  ------              --------------  -----  \n",
      " 0   Unnamed: 0          300 non-null    int64  \n",
      " 1   housing_median_age  300 non-null    float64\n",
      " 2   total_rooms         300 non-null    float64\n",
      " 3   total_bedrooms      300 non-null    float64\n",
      " 4   population          300 non-null    float64\n",
      " 5   households          300 non-null    float64\n",
      " 6   median_income       300 non-null    float64\n",
      " 7   median_house_value  300 non-null    float64\n",
      " 8   labels_2_clusters   300 non-null    int64  \n",
      " 9   labels_3_clusters   300 non-null    int64  \n",
      " 10  labels_4_clusters   300 non-null    int64  \n",
      "dtypes: float64(7), int64(4)\n",
      "memory usage: 25.9 KB\n"
     ]
    }
   ],
   "source": [
    "labeled_df.info()"
   ]
  },
  {
   "cell_type": "code",
   "execution_count": 70,
   "metadata": {},
   "outputs": [
    {
     "data": {
      "text/plain": [
       "Index(['Unnamed: 0', 'housing_median_age', 'total_rooms', 'total_bedrooms',\n",
       "       'population', 'households', 'median_income', 'median_house_value',\n",
       "       'labels_2_clusters', 'labels_3_clusters', 'labels_4_clusters'],\n",
       "      dtype='object')"
      ]
     },
     "execution_count": 70,
     "metadata": {},
     "output_type": "execute_result"
    }
   ],
   "source": [
    "labeled_df.columns"
   ]
  },
  {
   "cell_type": "code",
   "execution_count": 71,
   "metadata": {},
   "outputs": [],
   "source": [
    "labeled_df.drop(['Unnamed: 0','labels_2_clusters','labels_3_clusters'],axis=1, inplace=True)"
   ]
  },
  {
   "cell_type": "code",
   "execution_count": 72,
   "metadata": {},
   "outputs": [
    {
     "data": {
      "text/plain": [
       "labels_4_clusters\n",
       "1    119\n",
       "0    114\n",
       "2     44\n",
       "3     23\n",
       "Name: count, dtype: int64"
      ]
     },
     "execution_count": 72,
     "metadata": {},
     "output_type": "execute_result"
    }
   ],
   "source": [
    "labeled_df['labels_4_clusters'].value_counts()"
   ]
  },
  {
   "cell_type": "code",
   "execution_count": 73,
   "metadata": {},
   "outputs": [],
   "source": [
    "labeled_df.rename(columns={'labels_4_clusters': 'label'}, inplace=True)"
   ]
  },
  {
   "cell_type": "code",
   "execution_count": 74,
   "metadata": {},
   "outputs": [],
   "source": [
    "labeled_df = labeled_df[labeled_df['label'] <= 2]"
   ]
  },
  {
   "cell_type": "code",
   "execution_count": 75,
   "metadata": {},
   "outputs": [
    {
     "data": {
      "text/plain": [
       "label\n",
       "1    119\n",
       "0    114\n",
       "2     44\n",
       "Name: count, dtype: int64"
      ]
     },
     "execution_count": 75,
     "metadata": {},
     "output_type": "execute_result"
    }
   ],
   "source": [
    "labeled_df['label'].value_counts()"
   ]
  },
  {
   "cell_type": "code",
   "execution_count": 76,
   "metadata": {},
   "outputs": [
    {
     "data": {
      "text/plain": [
       "Index(['housing_median_age', 'total_rooms', 'total_bedrooms', 'population',\n",
       "       'households', 'median_income', 'median_house_value', 'label'],\n",
       "      dtype='object')"
      ]
     },
     "execution_count": 76,
     "metadata": {},
     "output_type": "execute_result"
    }
   ],
   "source": [
    "labeled_df.columns"
   ]
  },
  {
   "cell_type": "code",
   "execution_count": 77,
   "metadata": {},
   "outputs": [
    {
     "name": "stdout",
     "output_type": "stream",
     "text": [
      "<class 'pandas.core.frame.DataFrame'>\n",
      "Index: 277 entries, 0 to 299\n",
      "Data columns (total 8 columns):\n",
      " #   Column              Non-Null Count  Dtype  \n",
      "---  ------              --------------  -----  \n",
      " 0   housing_median_age  277 non-null    float64\n",
      " 1   total_rooms         277 non-null    float64\n",
      " 2   total_bedrooms      277 non-null    float64\n",
      " 3   population          277 non-null    float64\n",
      " 4   households          277 non-null    float64\n",
      " 5   median_income       277 non-null    float64\n",
      " 6   median_house_value  277 non-null    float64\n",
      " 7   label               277 non-null    int64  \n",
      "dtypes: float64(7), int64(1)\n",
      "memory usage: 19.5 KB\n"
     ]
    }
   ],
   "source": [
    "labeled_df.info()"
   ]
  },
  {
   "cell_type": "code",
   "execution_count": 78,
   "metadata": {},
   "outputs": [
    {
     "data": {
      "text/plain": [
       "'label'"
      ]
     },
     "execution_count": 78,
     "metadata": {},
     "output_type": "execute_result"
    }
   ],
   "source": [
    "columns_to_scale = labeled_df.columns.to_list()\n",
    "columns_to_scale.pop()"
   ]
  },
  {
   "cell_type": "code",
   "execution_count": 79,
   "metadata": {},
   "outputs": [
    {
     "data": {
      "text/plain": [
       "['housing_median_age',\n",
       " 'total_rooms',\n",
       " 'total_bedrooms',\n",
       " 'population',\n",
       " 'households',\n",
       " 'median_income',\n",
       " 'median_house_value']"
      ]
     },
     "execution_count": 79,
     "metadata": {},
     "output_type": "execute_result"
    }
   ],
   "source": [
    "columns_to_scale"
   ]
  },
  {
   "cell_type": "code",
   "execution_count": 80,
   "metadata": {},
   "outputs": [],
   "source": [
    "scaler = StandardScaler()"
   ]
  },
  {
   "cell_type": "code",
   "execution_count": 81,
   "metadata": {},
   "outputs": [],
   "source": [
    "labeled_df_scaled = labeled_df.copy()\n",
    "labeled_df_scaled[columns_to_scale] = scaler.fit_transform(labeled_df[columns_to_scale])"
   ]
  },
  {
   "cell_type": "code",
   "execution_count": 82,
   "metadata": {},
   "outputs": [
    {
     "data": {
      "text/html": [
       "<div>\n",
       "<style scoped>\n",
       "    .dataframe tbody tr th:only-of-type {\n",
       "        vertical-align: middle;\n",
       "    }\n",
       "\n",
       "    .dataframe tbody tr th {\n",
       "        vertical-align: top;\n",
       "    }\n",
       "\n",
       "    .dataframe thead th {\n",
       "        text-align: right;\n",
       "    }\n",
       "</style>\n",
       "<table border=\"1\" class=\"dataframe\">\n",
       "  <thead>\n",
       "    <tr style=\"text-align: right;\">\n",
       "      <th></th>\n",
       "      <th>housing_median_age</th>\n",
       "      <th>total_rooms</th>\n",
       "      <th>total_bedrooms</th>\n",
       "      <th>population</th>\n",
       "      <th>households</th>\n",
       "      <th>median_income</th>\n",
       "      <th>median_house_value</th>\n",
       "      <th>label</th>\n",
       "    </tr>\n",
       "  </thead>\n",
       "  <tbody>\n",
       "    <tr>\n",
       "      <th>0</th>\n",
       "      <td>0.966780</td>\n",
       "      <td>-0.267877</td>\n",
       "      <td>0.035429</td>\n",
       "      <td>0.392802</td>\n",
       "      <td>0.096190</td>\n",
       "      <td>-1.530951</td>\n",
       "      <td>-0.976741</td>\n",
       "      <td>1</td>\n",
       "    </tr>\n",
       "    <tr>\n",
       "      <th>1</th>\n",
       "      <td>0.623779</td>\n",
       "      <td>-0.358658</td>\n",
       "      <td>-0.469192</td>\n",
       "      <td>-0.088990</td>\n",
       "      <td>-0.446137</td>\n",
       "      <td>0.600574</td>\n",
       "      <td>-0.016465</td>\n",
       "      <td>0</td>\n",
       "    </tr>\n",
       "    <tr>\n",
       "      <th>2</th>\n",
       "      <td>-1.605728</td>\n",
       "      <td>-0.084586</td>\n",
       "      <td>0.118801</td>\n",
       "      <td>0.397444</td>\n",
       "      <td>-0.013248</td>\n",
       "      <td>-0.979312</td>\n",
       "      <td>-0.294769</td>\n",
       "      <td>0</td>\n",
       "    </tr>\n",
       "    <tr>\n",
       "      <th>3</th>\n",
       "      <td>-0.662475</td>\n",
       "      <td>-1.143268</td>\n",
       "      <td>-1.230510</td>\n",
       "      <td>-1.370058</td>\n",
       "      <td>-1.270570</td>\n",
       "      <td>-1.663559</td>\n",
       "      <td>-1.565945</td>\n",
       "      <td>1</td>\n",
       "    </tr>\n",
       "    <tr>\n",
       "      <th>5</th>\n",
       "      <td>-0.319474</td>\n",
       "      <td>-0.064700</td>\n",
       "      <td>-0.036973</td>\n",
       "      <td>0.050256</td>\n",
       "      <td>-0.057024</td>\n",
       "      <td>-0.827192</td>\n",
       "      <td>-1.034408</td>\n",
       "      <td>1</td>\n",
       "    </tr>\n",
       "  </tbody>\n",
       "</table>\n",
       "</div>"
      ],
      "text/plain": [
       "   housing_median_age  total_rooms  total_bedrooms  population  households  \\\n",
       "0            0.966780    -0.267877        0.035429    0.392802    0.096190   \n",
       "1            0.623779    -0.358658       -0.469192   -0.088990   -0.446137   \n",
       "2           -1.605728    -0.084586        0.118801    0.397444   -0.013248   \n",
       "3           -0.662475    -1.143268       -1.230510   -1.370058   -1.270570   \n",
       "5           -0.319474    -0.064700       -0.036973    0.050256   -0.057024   \n",
       "\n",
       "   median_income  median_house_value  label  \n",
       "0      -1.530951           -0.976741      1  \n",
       "1       0.600574           -0.016465      0  \n",
       "2      -0.979312           -0.294769      0  \n",
       "3      -1.663559           -1.565945      1  \n",
       "5      -0.827192           -1.034408      1  "
      ]
     },
     "execution_count": 82,
     "metadata": {},
     "output_type": "execute_result"
    }
   ],
   "source": [
    "labeled_df_scaled.head()"
   ]
  },
  {
   "cell_type": "markdown",
   "metadata": {},
   "source": [
    "## Logistic Regression Models"
   ]
  },
  {
   "cell_type": "code",
   "execution_count": 83,
   "metadata": {},
   "outputs": [],
   "source": [
    "X_Train, X_Test, y_Train, y_Test = train_test_split(labeled_df_scaled.drop('label', axis=1), labeled_df_scaled['label'], test_size=0.2, random_state=42)"
   ]
  },
  {
   "cell_type": "code",
   "execution_count": 84,
   "metadata": {},
   "outputs": [
    {
     "name": "stderr",
     "output_type": "stream",
     "text": [
      "/Users/takosaga/anaconda3/envs/labs/lib/python3.9/site-packages/sklearn/linear_model/_logistic.py:1247: FutureWarning: 'multi_class' was deprecated in version 1.5 and will be removed in 1.7. From then on, it will always use 'multinomial'. Leave it to its default value to avoid this warning.\n",
      "  warnings.warn(\n"
     ]
    },
    {
     "data": {
      "text/html": [
       "<style>#sk-container-id-3 {\n",
       "  /* Definition of color scheme common for light and dark mode */\n",
       "  --sklearn-color-text: black;\n",
       "  --sklearn-color-line: gray;\n",
       "  /* Definition of color scheme for unfitted estimators */\n",
       "  --sklearn-color-unfitted-level-0: #fff5e6;\n",
       "  --sklearn-color-unfitted-level-1: #f6e4d2;\n",
       "  --sklearn-color-unfitted-level-2: #ffe0b3;\n",
       "  --sklearn-color-unfitted-level-3: chocolate;\n",
       "  /* Definition of color scheme for fitted estimators */\n",
       "  --sklearn-color-fitted-level-0: #f0f8ff;\n",
       "  --sklearn-color-fitted-level-1: #d4ebff;\n",
       "  --sklearn-color-fitted-level-2: #b3dbfd;\n",
       "  --sklearn-color-fitted-level-3: cornflowerblue;\n",
       "\n",
       "  /* Specific color for light theme */\n",
       "  --sklearn-color-text-on-default-background: var(--sg-text-color, var(--theme-code-foreground, var(--jp-content-font-color1, black)));\n",
       "  --sklearn-color-background: var(--sg-background-color, var(--theme-background, var(--jp-layout-color0, white)));\n",
       "  --sklearn-color-border-box: var(--sg-text-color, var(--theme-code-foreground, var(--jp-content-font-color1, black)));\n",
       "  --sklearn-color-icon: #696969;\n",
       "\n",
       "  @media (prefers-color-scheme: dark) {\n",
       "    /* Redefinition of color scheme for dark theme */\n",
       "    --sklearn-color-text-on-default-background: var(--sg-text-color, var(--theme-code-foreground, var(--jp-content-font-color1, white)));\n",
       "    --sklearn-color-background: var(--sg-background-color, var(--theme-background, var(--jp-layout-color0, #111)));\n",
       "    --sklearn-color-border-box: var(--sg-text-color, var(--theme-code-foreground, var(--jp-content-font-color1, white)));\n",
       "    --sklearn-color-icon: #878787;\n",
       "  }\n",
       "}\n",
       "\n",
       "#sk-container-id-3 {\n",
       "  color: var(--sklearn-color-text);\n",
       "}\n",
       "\n",
       "#sk-container-id-3 pre {\n",
       "  padding: 0;\n",
       "}\n",
       "\n",
       "#sk-container-id-3 input.sk-hidden--visually {\n",
       "  border: 0;\n",
       "  clip: rect(1px 1px 1px 1px);\n",
       "  clip: rect(1px, 1px, 1px, 1px);\n",
       "  height: 1px;\n",
       "  margin: -1px;\n",
       "  overflow: hidden;\n",
       "  padding: 0;\n",
       "  position: absolute;\n",
       "  width: 1px;\n",
       "}\n",
       "\n",
       "#sk-container-id-3 div.sk-dashed-wrapped {\n",
       "  border: 1px dashed var(--sklearn-color-line);\n",
       "  margin: 0 0.4em 0.5em 0.4em;\n",
       "  box-sizing: border-box;\n",
       "  padding-bottom: 0.4em;\n",
       "  background-color: var(--sklearn-color-background);\n",
       "}\n",
       "\n",
       "#sk-container-id-3 div.sk-container {\n",
       "  /* jupyter's `normalize.less` sets `[hidden] { display: none; }`\n",
       "     but bootstrap.min.css set `[hidden] { display: none !important; }`\n",
       "     so we also need the `!important` here to be able to override the\n",
       "     default hidden behavior on the sphinx rendered scikit-learn.org.\n",
       "     See: https://github.com/scikit-learn/scikit-learn/issues/21755 */\n",
       "  display: inline-block !important;\n",
       "  position: relative;\n",
       "}\n",
       "\n",
       "#sk-container-id-3 div.sk-text-repr-fallback {\n",
       "  display: none;\n",
       "}\n",
       "\n",
       "div.sk-parallel-item,\n",
       "div.sk-serial,\n",
       "div.sk-item {\n",
       "  /* draw centered vertical line to link estimators */\n",
       "  background-image: linear-gradient(var(--sklearn-color-text-on-default-background), var(--sklearn-color-text-on-default-background));\n",
       "  background-size: 2px 100%;\n",
       "  background-repeat: no-repeat;\n",
       "  background-position: center center;\n",
       "}\n",
       "\n",
       "/* Parallel-specific style estimator block */\n",
       "\n",
       "#sk-container-id-3 div.sk-parallel-item::after {\n",
       "  content: \"\";\n",
       "  width: 100%;\n",
       "  border-bottom: 2px solid var(--sklearn-color-text-on-default-background);\n",
       "  flex-grow: 1;\n",
       "}\n",
       "\n",
       "#sk-container-id-3 div.sk-parallel {\n",
       "  display: flex;\n",
       "  align-items: stretch;\n",
       "  justify-content: center;\n",
       "  background-color: var(--sklearn-color-background);\n",
       "  position: relative;\n",
       "}\n",
       "\n",
       "#sk-container-id-3 div.sk-parallel-item {\n",
       "  display: flex;\n",
       "  flex-direction: column;\n",
       "}\n",
       "\n",
       "#sk-container-id-3 div.sk-parallel-item:first-child::after {\n",
       "  align-self: flex-end;\n",
       "  width: 50%;\n",
       "}\n",
       "\n",
       "#sk-container-id-3 div.sk-parallel-item:last-child::after {\n",
       "  align-self: flex-start;\n",
       "  width: 50%;\n",
       "}\n",
       "\n",
       "#sk-container-id-3 div.sk-parallel-item:only-child::after {\n",
       "  width: 0;\n",
       "}\n",
       "\n",
       "/* Serial-specific style estimator block */\n",
       "\n",
       "#sk-container-id-3 div.sk-serial {\n",
       "  display: flex;\n",
       "  flex-direction: column;\n",
       "  align-items: center;\n",
       "  background-color: var(--sklearn-color-background);\n",
       "  padding-right: 1em;\n",
       "  padding-left: 1em;\n",
       "}\n",
       "\n",
       "\n",
       "/* Toggleable style: style used for estimator/Pipeline/ColumnTransformer box that is\n",
       "clickable and can be expanded/collapsed.\n",
       "- Pipeline and ColumnTransformer use this feature and define the default style\n",
       "- Estimators will overwrite some part of the style using the `sk-estimator` class\n",
       "*/\n",
       "\n",
       "/* Pipeline and ColumnTransformer style (default) */\n",
       "\n",
       "#sk-container-id-3 div.sk-toggleable {\n",
       "  /* Default theme specific background. It is overwritten whether we have a\n",
       "  specific estimator or a Pipeline/ColumnTransformer */\n",
       "  background-color: var(--sklearn-color-background);\n",
       "}\n",
       "\n",
       "/* Toggleable label */\n",
       "#sk-container-id-3 label.sk-toggleable__label {\n",
       "  cursor: pointer;\n",
       "  display: block;\n",
       "  width: 100%;\n",
       "  margin-bottom: 0;\n",
       "  padding: 0.5em;\n",
       "  box-sizing: border-box;\n",
       "  text-align: center;\n",
       "}\n",
       "\n",
       "#sk-container-id-3 label.sk-toggleable__label-arrow:before {\n",
       "  /* Arrow on the left of the label */\n",
       "  content: \"▸\";\n",
       "  float: left;\n",
       "  margin-right: 0.25em;\n",
       "  color: var(--sklearn-color-icon);\n",
       "}\n",
       "\n",
       "#sk-container-id-3 label.sk-toggleable__label-arrow:hover:before {\n",
       "  color: var(--sklearn-color-text);\n",
       "}\n",
       "\n",
       "/* Toggleable content - dropdown */\n",
       "\n",
       "#sk-container-id-3 div.sk-toggleable__content {\n",
       "  max-height: 0;\n",
       "  max-width: 0;\n",
       "  overflow: hidden;\n",
       "  text-align: left;\n",
       "  /* unfitted */\n",
       "  background-color: var(--sklearn-color-unfitted-level-0);\n",
       "}\n",
       "\n",
       "#sk-container-id-3 div.sk-toggleable__content.fitted {\n",
       "  /* fitted */\n",
       "  background-color: var(--sklearn-color-fitted-level-0);\n",
       "}\n",
       "\n",
       "#sk-container-id-3 div.sk-toggleable__content pre {\n",
       "  margin: 0.2em;\n",
       "  border-radius: 0.25em;\n",
       "  color: var(--sklearn-color-text);\n",
       "  /* unfitted */\n",
       "  background-color: var(--sklearn-color-unfitted-level-0);\n",
       "}\n",
       "\n",
       "#sk-container-id-3 div.sk-toggleable__content.fitted pre {\n",
       "  /* unfitted */\n",
       "  background-color: var(--sklearn-color-fitted-level-0);\n",
       "}\n",
       "\n",
       "#sk-container-id-3 input.sk-toggleable__control:checked~div.sk-toggleable__content {\n",
       "  /* Expand drop-down */\n",
       "  max-height: 200px;\n",
       "  max-width: 100%;\n",
       "  overflow: auto;\n",
       "}\n",
       "\n",
       "#sk-container-id-3 input.sk-toggleable__control:checked~label.sk-toggleable__label-arrow:before {\n",
       "  content: \"▾\";\n",
       "}\n",
       "\n",
       "/* Pipeline/ColumnTransformer-specific style */\n",
       "\n",
       "#sk-container-id-3 div.sk-label input.sk-toggleable__control:checked~label.sk-toggleable__label {\n",
       "  color: var(--sklearn-color-text);\n",
       "  background-color: var(--sklearn-color-unfitted-level-2);\n",
       "}\n",
       "\n",
       "#sk-container-id-3 div.sk-label.fitted input.sk-toggleable__control:checked~label.sk-toggleable__label {\n",
       "  background-color: var(--sklearn-color-fitted-level-2);\n",
       "}\n",
       "\n",
       "/* Estimator-specific style */\n",
       "\n",
       "/* Colorize estimator box */\n",
       "#sk-container-id-3 div.sk-estimator input.sk-toggleable__control:checked~label.sk-toggleable__label {\n",
       "  /* unfitted */\n",
       "  background-color: var(--sklearn-color-unfitted-level-2);\n",
       "}\n",
       "\n",
       "#sk-container-id-3 div.sk-estimator.fitted input.sk-toggleable__control:checked~label.sk-toggleable__label {\n",
       "  /* fitted */\n",
       "  background-color: var(--sklearn-color-fitted-level-2);\n",
       "}\n",
       "\n",
       "#sk-container-id-3 div.sk-label label.sk-toggleable__label,\n",
       "#sk-container-id-3 div.sk-label label {\n",
       "  /* The background is the default theme color */\n",
       "  color: var(--sklearn-color-text-on-default-background);\n",
       "}\n",
       "\n",
       "/* On hover, darken the color of the background */\n",
       "#sk-container-id-3 div.sk-label:hover label.sk-toggleable__label {\n",
       "  color: var(--sklearn-color-text);\n",
       "  background-color: var(--sklearn-color-unfitted-level-2);\n",
       "}\n",
       "\n",
       "/* Label box, darken color on hover, fitted */\n",
       "#sk-container-id-3 div.sk-label.fitted:hover label.sk-toggleable__label.fitted {\n",
       "  color: var(--sklearn-color-text);\n",
       "  background-color: var(--sklearn-color-fitted-level-2);\n",
       "}\n",
       "\n",
       "/* Estimator label */\n",
       "\n",
       "#sk-container-id-3 div.sk-label label {\n",
       "  font-family: monospace;\n",
       "  font-weight: bold;\n",
       "  display: inline-block;\n",
       "  line-height: 1.2em;\n",
       "}\n",
       "\n",
       "#sk-container-id-3 div.sk-label-container {\n",
       "  text-align: center;\n",
       "}\n",
       "\n",
       "/* Estimator-specific */\n",
       "#sk-container-id-3 div.sk-estimator {\n",
       "  font-family: monospace;\n",
       "  border: 1px dotted var(--sklearn-color-border-box);\n",
       "  border-radius: 0.25em;\n",
       "  box-sizing: border-box;\n",
       "  margin-bottom: 0.5em;\n",
       "  /* unfitted */\n",
       "  background-color: var(--sklearn-color-unfitted-level-0);\n",
       "}\n",
       "\n",
       "#sk-container-id-3 div.sk-estimator.fitted {\n",
       "  /* fitted */\n",
       "  background-color: var(--sklearn-color-fitted-level-0);\n",
       "}\n",
       "\n",
       "/* on hover */\n",
       "#sk-container-id-3 div.sk-estimator:hover {\n",
       "  /* unfitted */\n",
       "  background-color: var(--sklearn-color-unfitted-level-2);\n",
       "}\n",
       "\n",
       "#sk-container-id-3 div.sk-estimator.fitted:hover {\n",
       "  /* fitted */\n",
       "  background-color: var(--sklearn-color-fitted-level-2);\n",
       "}\n",
       "\n",
       "/* Specification for estimator info (e.g. \"i\" and \"?\") */\n",
       "\n",
       "/* Common style for \"i\" and \"?\" */\n",
       "\n",
       ".sk-estimator-doc-link,\n",
       "a:link.sk-estimator-doc-link,\n",
       "a:visited.sk-estimator-doc-link {\n",
       "  float: right;\n",
       "  font-size: smaller;\n",
       "  line-height: 1em;\n",
       "  font-family: monospace;\n",
       "  background-color: var(--sklearn-color-background);\n",
       "  border-radius: 1em;\n",
       "  height: 1em;\n",
       "  width: 1em;\n",
       "  text-decoration: none !important;\n",
       "  margin-left: 1ex;\n",
       "  /* unfitted */\n",
       "  border: var(--sklearn-color-unfitted-level-1) 1pt solid;\n",
       "  color: var(--sklearn-color-unfitted-level-1);\n",
       "}\n",
       "\n",
       ".sk-estimator-doc-link.fitted,\n",
       "a:link.sk-estimator-doc-link.fitted,\n",
       "a:visited.sk-estimator-doc-link.fitted {\n",
       "  /* fitted */\n",
       "  border: var(--sklearn-color-fitted-level-1) 1pt solid;\n",
       "  color: var(--sklearn-color-fitted-level-1);\n",
       "}\n",
       "\n",
       "/* On hover */\n",
       "div.sk-estimator:hover .sk-estimator-doc-link:hover,\n",
       ".sk-estimator-doc-link:hover,\n",
       "div.sk-label-container:hover .sk-estimator-doc-link:hover,\n",
       ".sk-estimator-doc-link:hover {\n",
       "  /* unfitted */\n",
       "  background-color: var(--sklearn-color-unfitted-level-3);\n",
       "  color: var(--sklearn-color-background);\n",
       "  text-decoration: none;\n",
       "}\n",
       "\n",
       "div.sk-estimator.fitted:hover .sk-estimator-doc-link.fitted:hover,\n",
       ".sk-estimator-doc-link.fitted:hover,\n",
       "div.sk-label-container:hover .sk-estimator-doc-link.fitted:hover,\n",
       ".sk-estimator-doc-link.fitted:hover {\n",
       "  /* fitted */\n",
       "  background-color: var(--sklearn-color-fitted-level-3);\n",
       "  color: var(--sklearn-color-background);\n",
       "  text-decoration: none;\n",
       "}\n",
       "\n",
       "/* Span, style for the box shown on hovering the info icon */\n",
       ".sk-estimator-doc-link span {\n",
       "  display: none;\n",
       "  z-index: 9999;\n",
       "  position: relative;\n",
       "  font-weight: normal;\n",
       "  right: .2ex;\n",
       "  padding: .5ex;\n",
       "  margin: .5ex;\n",
       "  width: min-content;\n",
       "  min-width: 20ex;\n",
       "  max-width: 50ex;\n",
       "  color: var(--sklearn-color-text);\n",
       "  box-shadow: 2pt 2pt 4pt #999;\n",
       "  /* unfitted */\n",
       "  background: var(--sklearn-color-unfitted-level-0);\n",
       "  border: .5pt solid var(--sklearn-color-unfitted-level-3);\n",
       "}\n",
       "\n",
       ".sk-estimator-doc-link.fitted span {\n",
       "  /* fitted */\n",
       "  background: var(--sklearn-color-fitted-level-0);\n",
       "  border: var(--sklearn-color-fitted-level-3);\n",
       "}\n",
       "\n",
       ".sk-estimator-doc-link:hover span {\n",
       "  display: block;\n",
       "}\n",
       "\n",
       "/* \"?\"-specific style due to the `<a>` HTML tag */\n",
       "\n",
       "#sk-container-id-3 a.estimator_doc_link {\n",
       "  float: right;\n",
       "  font-size: 1rem;\n",
       "  line-height: 1em;\n",
       "  font-family: monospace;\n",
       "  background-color: var(--sklearn-color-background);\n",
       "  border-radius: 1rem;\n",
       "  height: 1rem;\n",
       "  width: 1rem;\n",
       "  text-decoration: none;\n",
       "  /* unfitted */\n",
       "  color: var(--sklearn-color-unfitted-level-1);\n",
       "  border: var(--sklearn-color-unfitted-level-1) 1pt solid;\n",
       "}\n",
       "\n",
       "#sk-container-id-3 a.estimator_doc_link.fitted {\n",
       "  /* fitted */\n",
       "  border: var(--sklearn-color-fitted-level-1) 1pt solid;\n",
       "  color: var(--sklearn-color-fitted-level-1);\n",
       "}\n",
       "\n",
       "/* On hover */\n",
       "#sk-container-id-3 a.estimator_doc_link:hover {\n",
       "  /* unfitted */\n",
       "  background-color: var(--sklearn-color-unfitted-level-3);\n",
       "  color: var(--sklearn-color-background);\n",
       "  text-decoration: none;\n",
       "}\n",
       "\n",
       "#sk-container-id-3 a.estimator_doc_link.fitted:hover {\n",
       "  /* fitted */\n",
       "  background-color: var(--sklearn-color-fitted-level-3);\n",
       "}\n",
       "</style><div id=\"sk-container-id-3\" class=\"sk-top-container\"><div class=\"sk-text-repr-fallback\"><pre>LogisticRegression(multi_class=&#x27;multinomial&#x27;, random_state=42)</pre><b>In a Jupyter environment, please rerun this cell to show the HTML representation or trust the notebook. <br />On GitHub, the HTML representation is unable to render, please try loading this page with nbviewer.org.</b></div><div class=\"sk-container\" hidden><div class=\"sk-item\"><div class=\"sk-estimator fitted sk-toggleable\"><input class=\"sk-toggleable__control sk-hidden--visually\" id=\"sk-estimator-id-3\" type=\"checkbox\" checked><label for=\"sk-estimator-id-3\" class=\"sk-toggleable__label fitted sk-toggleable__label-arrow fitted\">&nbsp;&nbsp;LogisticRegression<a class=\"sk-estimator-doc-link fitted\" rel=\"noreferrer\" target=\"_blank\" href=\"https://scikit-learn.org/1.5/modules/generated/sklearn.linear_model.LogisticRegression.html\">?<span>Documentation for LogisticRegression</span></a><span class=\"sk-estimator-doc-link fitted\">i<span>Fitted</span></span></label><div class=\"sk-toggleable__content fitted\"><pre>LogisticRegression(multi_class=&#x27;multinomial&#x27;, random_state=42)</pre></div> </div></div></div></div>"
      ],
      "text/plain": [
       "LogisticRegression(multi_class='multinomial', random_state=42)"
      ]
     },
     "execution_count": 84,
     "metadata": {},
     "output_type": "execute_result"
    }
   ],
   "source": [
    "logmodel = LogisticRegression(multi_class='multinomial', random_state=42, solver='lbfgs')\n",
    "logmodel.fit(X_Train, y_Train)"
   ]
  },
  {
   "cell_type": "code",
   "execution_count": 85,
   "metadata": {},
   "outputs": [
    {
     "name": "stdout",
     "output_type": "stream",
     "text": [
      "Logistic regression models coefficients of intercepts:  [ 1.951  0.315 -2.265]\n"
     ]
    }
   ],
   "source": [
    "print('Logistic regression models coefficients of intercepts: ', logmodel.intercept_)"
   ]
  },
  {
   "cell_type": "code",
   "execution_count": 86,
   "metadata": {},
   "outputs": [
    {
     "name": "stdout",
     "output_type": "stream",
     "text": [
      "Logistic regression models coefficients:  [[ 3.502e-03 -4.090e-01 -1.891e-01  2.513e-01  2.546e-01 -2.051e-02\n",
      "   6.309e-01]\n",
      " [ 1.304e-01  2.933e-01  1.090e-01 -2.862e-01 -9.696e-02 -4.072e-01\n",
      "  -4.651e+00]\n",
      " [-1.339e-01  1.157e-01  8.007e-02  3.488e-02 -1.577e-01  4.277e-01\n",
      "   4.020e+00]]\n"
     ]
    }
   ],
   "source": [
    "print('Logistic regression models coefficients: ', logmodel.coef_)"
   ]
  },
  {
   "cell_type": "code",
   "execution_count": 87,
   "metadata": {},
   "outputs": [
    {
     "data": {
      "text/plain": [
       "array([[20,  0,  0],\n",
       "       [ 0, 24,  0],\n",
       "       [ 4,  0,  8]])"
      ]
     },
     "execution_count": 87,
     "metadata": {},
     "output_type": "execute_result"
    }
   ],
   "source": [
    "predicts_test = logmodel.predict(X_Test)\n",
    "confusion_matrix(y_Test, predicts_test)"
   ]
  },
  {
   "cell_type": "code",
   "execution_count": 88,
   "metadata": {},
   "outputs": [
    {
     "name": "stdout",
     "output_type": "stream",
     "text": [
      "              precision    recall  f1-score   support\n",
      "\n",
      "           0       0.83      1.00      0.91        20\n",
      "           1       1.00      1.00      1.00        24\n",
      "           2       1.00      0.67      0.80        12\n",
      "\n",
      "    accuracy                           0.93        56\n",
      "   macro avg       0.94      0.89      0.90        56\n",
      "weighted avg       0.94      0.93      0.92        56\n",
      "\n"
     ]
    }
   ],
   "source": [
    "print(classification_report(y_Test, predicts_test))"
   ]
  },
  {
   "cell_type": "markdown",
   "metadata": {},
   "source": [
    "## Linear Discriminant Analysis"
   ]
  },
  {
   "cell_type": "code",
   "execution_count": 89,
   "metadata": {},
   "outputs": [],
   "source": [
    "X_Train_array = np.array(X_Train.values)\n",
    "X_Test_array = np.array(X_Test.values)\n",
    "y_Train_array = np.array(y_Train.values)\n",
    "y_Test_array = np.array(y_Test.values)"
   ]
  },
  {
   "cell_type": "code",
   "execution_count": 92,
   "metadata": {},
   "outputs": [],
   "source": [
    "lda = LDA(n_components=2, solver='svd', store_covariance=True)"
   ]
  },
  {
   "cell_type": "code",
   "execution_count": 93,
   "metadata": {},
   "outputs": [],
   "source": [
    "Xlda=lda.fit(X_Train_array, y_Train_array)"
   ]
  },
  {
   "cell_type": "code",
   "execution_count": 94,
   "metadata": {},
   "outputs": [
    {
     "data": {
      "text/plain": [
       "array([0, 1, 2])"
      ]
     },
     "execution_count": 94,
     "metadata": {},
     "output_type": "execute_result"
    }
   ],
   "source": [
    "Xlda.classes_"
   ]
  },
  {
   "cell_type": "code",
   "execution_count": 95,
   "metadata": {},
   "outputs": [
    {
     "data": {
      "text/plain": [
       "7"
      ]
     },
     "execution_count": 95,
     "metadata": {},
     "output_type": "execute_result"
    }
   ],
   "source": [
    "Xlda.n_features_in_"
   ]
  },
  {
   "cell_type": "code",
   "execution_count": 96,
   "metadata": {},
   "outputs": [
    {
     "data": {
      "text/plain": [
       "array([0.991, 0.009])"
      ]
     },
     "execution_count": 96,
     "metadata": {},
     "output_type": "execute_result"
    }
   ],
   "source": [
    "Xlda.explained_variance_ratio_"
   ]
  },
  {
   "cell_type": "code",
   "execution_count": 97,
   "metadata": {},
   "outputs": [
    {
     "data": {
      "text/plain": [
       "2"
      ]
     },
     "execution_count": 97,
     "metadata": {},
     "output_type": "execute_result"
    }
   ],
   "source": [
    "Xlda.n_components"
   ]
  },
  {
   "cell_type": "code",
   "execution_count": 98,
   "metadata": {},
   "outputs": [
    {
     "data": {
      "text/plain": [
       "array([[ 0.184,  0.125],\n",
       "       [-0.19 , -2.777],\n",
       "       [ 0.604,  0.328],\n",
       "       [-0.311,  1.09 ],\n",
       "       [-0.079,  1.351],\n",
       "       [ 0.124,  0.615],\n",
       "       [-2.669, -0.245]])"
      ]
     },
     "execution_count": 98,
     "metadata": {},
     "output_type": "execute_result"
    }
   ],
   "source": [
    "Xlda.scalings_"
   ]
  },
  {
   "cell_type": "code",
   "execution_count": 99,
   "metadata": {},
   "outputs": [],
   "source": [
    "X_Train_array_t = lda.fit_transform(X_Train_array, y_Train_array)\n",
    "X_Test_array_t = lda.transform(X_Test_array)"
   ]
  },
  {
   "cell_type": "code",
   "execution_count": 100,
   "metadata": {},
   "outputs": [
    {
     "name": "stdout",
     "output_type": "stream",
     "text": [
      "(221, 2) (7, 2)\n"
     ]
    }
   ],
   "source": [
    "print(X_Train_array_t.shape, Xlda.scalings_.shape)"
   ]
  },
  {
   "cell_type": "code",
   "execution_count": 101,
   "metadata": {},
   "outputs": [
    {
     "data": {
      "text/plain": [
       "array([[-2.944e-01,  6.337e-01],\n",
       "       [ 8.961e-01, -2.199e-01],\n",
       "       [-1.134e-02,  1.939e+00],\n",
       "       [-3.202e-01,  2.633e-01],\n",
       "       [-1.403e+00,  2.590e-01],\n",
       "       [ 2.367e+00,  6.606e-01],\n",
       "       [ 4.334e+00, -6.678e-01],\n",
       "       [ 2.965e+00, -4.466e-01],\n",
       "       [ 2.145e+00,  1.737e+00],\n",
       "       [ 1.767e+00,  5.525e-01],\n",
       "       [-2.198e+00,  2.853e-02],\n",
       "       [ 3.394e+00,  2.555e-01],\n",
       "       [ 2.301e+00, -9.250e-01],\n",
       "       [-3.602e-01, -1.586e-01],\n",
       "       [ 3.616e+00, -1.101e+00],\n",
       "       [ 2.604e+00, -7.181e-01],\n",
       "       [ 2.463e-01,  4.836e-01],\n",
       "       [-1.873e-01, -5.940e-01],\n",
       "       [ 3.060e+00, -1.059e+00],\n",
       "       [-1.093e+00, -6.071e-01],\n",
       "       [ 2.392e+00,  2.657e-01],\n",
       "       [-1.913e+00, -2.263e-01],\n",
       "       [-4.891e+00, -7.026e-02],\n",
       "       [-6.788e+00, -6.804e-01],\n",
       "       [-2.067e+00,  4.476e-01],\n",
       "       [ 2.364e+00,  5.040e-01],\n",
       "       [ 1.703e+00, -1.365e-01],\n",
       "       [ 3.557e+00, -2.254e-01],\n",
       "       [ 2.118e+00, -9.663e-02],\n",
       "       [ 2.654e+00, -6.582e-01],\n",
       "       [ 1.639e+00, -3.163e-01],\n",
       "       [ 1.322e+00,  1.901e-01],\n",
       "       [ 5.653e-02,  5.207e-01],\n",
       "       [-1.384e+00,  4.977e-01],\n",
       "       [-1.760e+00, -2.917e-01],\n",
       "       [-5.728e+00, -1.303e-01],\n",
       "       [ 2.748e+00, -4.237e-01],\n",
       "       [-1.251e+00,  4.427e-01],\n",
       "       [-8.384e-01,  2.924e+00],\n",
       "       [ 3.367e+00,  1.711e-01],\n",
       "       [-4.675e+00, -3.703e-01],\n",
       "       [-1.011e+00, -3.120e-01],\n",
       "       [-6.582e-02, -3.104e-02],\n",
       "       [ 4.024e-01,  1.041e+00],\n",
       "       [ 3.967e+00, -2.738e-01],\n",
       "       [-7.215e-01, -7.538e-02],\n",
       "       [ 2.822e+00, -5.585e-01],\n",
       "       [-1.099e+00, -8.931e-01],\n",
       "       [ 5.105e-01,  5.713e-01],\n",
       "       [ 3.010e-01, -2.063e-02],\n",
       "       [ 3.256e+00,  1.188e+00],\n",
       "       [-6.055e-02,  1.353e+00],\n",
       "       [-3.010e+00,  8.560e-01],\n",
       "       [ 3.184e-01,  4.945e-01],\n",
       "       [ 2.740e+00,  4.478e-01],\n",
       "       [ 1.776e+00,  7.681e-01],\n",
       "       [ 3.926e+00, -3.585e-01],\n",
       "       [-5.183e+00, -4.316e-01],\n",
       "       [ 1.237e+00,  1.293e-01],\n",
       "       [ 1.095e+00, -8.127e-01],\n",
       "       [ 6.810e-01,  5.709e-01],\n",
       "       [-1.100e+00, -2.998e-01],\n",
       "       [ 2.570e-01, -8.823e-01],\n",
       "       [ 2.113e-01, -1.973e-01],\n",
       "       [ 3.279e+00, -2.141e-01],\n",
       "       [-1.329e+00,  2.202e-01],\n",
       "       [-5.160e+00, -3.907e+00],\n",
       "       [ 3.202e+00, -9.925e-01],\n",
       "       [-6.681e+00, -6.892e-01],\n",
       "       [-3.281e+00,  3.973e-01],\n",
       "       [ 1.164e+00,  6.311e-01],\n",
       "       [-7.049e-01, -9.045e-01],\n",
       "       [-7.349e+00, -6.423e-01],\n",
       "       [ 5.026e-01,  1.937e+00],\n",
       "       [-4.243e-01,  2.193e+00],\n",
       "       [ 3.272e+00,  3.604e-01],\n",
       "       [ 1.192e+00,  6.937e-01],\n",
       "       [ 8.264e-01, -3.039e-01],\n",
       "       [-4.029e-01, -5.439e-02],\n",
       "       [ 4.584e-01,  3.913e-01],\n",
       "       [-1.728e+00, -2.780e-01],\n",
       "       [-1.397e+00,  1.813e-01],\n",
       "       [-1.457e+00, -4.853e-01],\n",
       "       [-1.917e+00,  6.118e-02],\n",
       "       [ 3.040e+00, -1.024e+00],\n",
       "       [-2.939e+00, -5.003e-01],\n",
       "       [-6.090e+00, -6.931e-02],\n",
       "       [-5.415e+00, -1.610e-01],\n",
       "       [-5.481e+00, -2.945e-01],\n",
       "       [ 5.068e-02,  9.967e-03],\n",
       "       [ 2.108e+00, -5.861e-01],\n",
       "       [-4.838e-01,  3.125e-01],\n",
       "       [ 2.089e+00, -2.239e-01],\n",
       "       [ 1.661e+00, -1.339e-01],\n",
       "       [ 2.504e+00,  7.543e-01],\n",
       "       [ 2.229e+00,  5.826e-01],\n",
       "       [-7.175e+00,  1.860e-01],\n",
       "       [-6.735e+00,  4.471e-01],\n",
       "       [ 7.078e-01,  6.008e-01],\n",
       "       [ 3.002e+00, -3.615e-01],\n",
       "       [-2.669e+00, -2.685e-01],\n",
       "       [-1.323e+00,  1.867e+00],\n",
       "       [-3.732e+00, -4.348e-01],\n",
       "       [ 1.355e+00, -1.870e-01],\n",
       "       [ 2.954e+00,  2.300e-01],\n",
       "       [ 2.696e+00, -3.321e-01],\n",
       "       [ 2.006e+00, -3.339e-01],\n",
       "       [ 2.517e+00, -9.388e-01],\n",
       "       [-1.019e-01,  1.468e-01],\n",
       "       [ 2.379e+00, -6.276e-02],\n",
       "       [ 2.544e+00, -1.284e-01],\n",
       "       [-5.897e-02,  2.866e+00],\n",
       "       [-3.946e+00,  2.740e-01],\n",
       "       [-2.009e-02, -7.492e-02],\n",
       "       [ 9.548e-01,  2.935e-01],\n",
       "       [-1.467e+00,  4.018e-01],\n",
       "       [ 8.852e-01,  1.167e+00],\n",
       "       [-4.001e+00,  3.500e-01],\n",
       "       [ 4.305e-01,  8.681e-01],\n",
       "       [-5.831e-01, -1.205e-01],\n",
       "       [ 2.750e+00, -9.648e-01],\n",
       "       [ 1.515e+00,  9.983e-02],\n",
       "       [-2.702e-01, -3.193e-01],\n",
       "       [ 2.026e+00, -1.837e+00],\n",
       "       [ 1.655e+00,  3.504e-01],\n",
       "       [-2.633e+00,  9.727e-02],\n",
       "       [-2.284e+00, -7.616e-01],\n",
       "       [-3.898e-01,  5.733e-02],\n",
       "       [-1.201e+00,  9.640e-01],\n",
       "       [-3.082e+00, -1.395e-01],\n",
       "       [ 1.669e+00, -8.206e-01],\n",
       "       [ 3.162e+00,  2.236e-01],\n",
       "       [ 2.690e+00, -1.249e-01],\n",
       "       [-6.988e+00, -6.453e-01],\n",
       "       [ 2.721e-01, -3.860e-01],\n",
       "       [ 1.043e-01,  8.929e-01],\n",
       "       [-8.787e-01,  1.856e+00],\n",
       "       [ 1.312e+00,  6.424e-01],\n",
       "       [ 3.098e+00, -1.001e+00],\n",
       "       [-3.646e-01,  8.109e-02],\n",
       "       [-2.914e+00, -8.849e-01],\n",
       "       [ 4.290e+00, -1.283e+00],\n",
       "       [ 3.147e+00,  1.473e+00],\n",
       "       [-6.223e+00,  1.108e-01],\n",
       "       [ 3.758e+00, -5.715e-01],\n",
       "       [ 5.706e-02,  2.592e+00],\n",
       "       [-4.833e-01,  3.031e-01],\n",
       "       [-5.038e-01,  8.130e-01],\n",
       "       [-2.326e+00, -4.820e-01],\n",
       "       [ 3.817e+00, -1.140e+00],\n",
       "       [-1.382e+00,  7.943e-02],\n",
       "       [ 1.358e+00, -2.696e+00],\n",
       "       [ 3.874e-01,  1.242e-01],\n",
       "       [ 4.763e-02,  6.156e-01],\n",
       "       [ 1.314e+00,  1.991e-01],\n",
       "       [ 1.282e+00,  1.061e-01],\n",
       "       [-5.633e+00,  1.559e-01],\n",
       "       [-3.279e+00, -7.287e-02],\n",
       "       [-2.423e+00,  1.665e-02],\n",
       "       [-1.252e+00,  4.267e-01],\n",
       "       [ 1.515e-01,  2.588e+00],\n",
       "       [-1.629e+00, -1.460e+00],\n",
       "       [-3.520e+00,  6.983e-03],\n",
       "       [-1.004e+00,  8.008e-01],\n",
       "       [-5.489e+00, -3.139e-01],\n",
       "       [ 2.437e+00,  3.852e-02],\n",
       "       [-1.109e+00,  4.849e-01],\n",
       "       [ 7.977e-01,  6.295e-01],\n",
       "       [ 3.925e+00, -8.772e-01],\n",
       "       [ 1.172e+00,  8.570e-01],\n",
       "       [ 1.878e+00,  9.215e-01],\n",
       "       [ 2.543e+00, -4.218e-01],\n",
       "       [ 1.697e+00, -1.058e-01],\n",
       "       [ 5.715e-01,  3.092e-01],\n",
       "       [ 1.360e+00,  3.937e-02],\n",
       "       [ 1.304e+00,  1.383e+00],\n",
       "       [-4.323e-01,  1.084e-01],\n",
       "       [-6.589e-01, -1.273e-01],\n",
       "       [ 2.179e+00, -4.560e-02],\n",
       "       [ 3.844e-01, -6.572e-01],\n",
       "       [-3.096e-02,  4.045e-01],\n",
       "       [-1.527e+00,  4.311e-01],\n",
       "       [-3.142e+00,  1.317e-01],\n",
       "       [-1.194e+00, -5.286e-01],\n",
       "       [ 9.113e-01, -3.411e-01],\n",
       "       [ 3.756e+00, -4.327e-01],\n",
       "       [ 1.430e+00, -4.927e-02],\n",
       "       [ 1.584e+00, -4.918e-01],\n",
       "       [ 1.970e-01,  3.683e-02],\n",
       "       [-1.057e+00,  1.216e+00],\n",
       "       [-1.414e+00, -7.314e-01],\n",
       "       [ 1.424e+00,  1.353e+00],\n",
       "       [ 1.395e+00,  3.179e-01],\n",
       "       [ 1.978e+00, -8.501e+00],\n",
       "       [-3.427e+00, -3.631e-01],\n",
       "       [ 1.966e+00,  1.371e-01],\n",
       "       [ 2.433e+00, -1.794e+00],\n",
       "       [-6.049e-01,  7.810e-01],\n",
       "       [ 1.236e+00, -4.805e-01],\n",
       "       [-9.806e-01,  1.698e-01],\n",
       "       [ 1.099e+00,  2.993e-01],\n",
       "       [ 1.110e+00,  3.521e-01],\n",
       "       [ 1.247e+00, -1.969e-01],\n",
       "       [-2.149e+00,  2.333e-01],\n",
       "       [ 3.345e+00,  5.554e-01],\n",
       "       [-4.169e+00, -7.225e-01],\n",
       "       [-5.398e-01, -4.198e-02],\n",
       "       [-1.226e+00, -1.689e-01],\n",
       "       [-3.460e-01, -1.203e+00],\n",
       "       [ 1.180e+00, -4.147e-01],\n",
       "       [-1.073e+00, -6.236e-02],\n",
       "       [ 1.586e+00,  8.982e-01],\n",
       "       [ 4.312e-01,  2.835e-01],\n",
       "       [-1.885e+00, -2.019e-01],\n",
       "       [ 1.110e+00, -1.392e-01],\n",
       "       [ 4.245e-01,  1.078e+00],\n",
       "       [ 2.239e+00,  9.686e-01],\n",
       "       [-7.938e-01, -2.859e+00],\n",
       "       [ 2.334e+00,  1.655e-01],\n",
       "       [-4.899e+00, -7.602e-01],\n",
       "       [ 6.204e-01, -2.809e-01]])"
      ]
     },
     "execution_count": 101,
     "metadata": {},
     "output_type": "execute_result"
    }
   ],
   "source": [
    "X_Train_array_t"
   ]
  },
  {
   "cell_type": "code",
   "execution_count": 102,
   "metadata": {},
   "outputs": [
    {
     "name": "stderr",
     "output_type": "stream",
     "text": [
      "/var/folders/gp/6f7wmxfj5xn475t83fsklqcr0000gn/T/ipykernel_21155/3907750704.py:5: UserWarning: No artists with labels found to put in legend.  Note that artists whose label start with an underscore are ignored when legend() is called with no argument.\n",
      "  plt.legend(loc='best', shadow=False, scatterpoints=1)\n"
     ]
    },
    {
     "data": {
      "image/png": "[encoded data removed]",
      "text/plain": [
       "<Figure size 640x480 with 1 Axes>"
      ]
     },
     "metadata": {},
     "output_type": "display_data"
    }
   ],
   "source": [
    "plt.figure()\n",
    "colors = ['navy','turquoise','darkorange']\n",
    "for color, i in zip(colors, [0,1,2]):\n",
    "    plt.scatter(X_Train_array_t[y_Train_array==i,0], X_Train_array_t[y_Train_array==i,1],alpha=0.3, color=color)\n",
    "plt.legend(loc='best', shadow=False, scatterpoints=1)\n",
    "plt.title('LDA dataset')\n",
    "plt.show()"
   ]
  },
  {
   "cell_type": "code",
   "execution_count": null,
   "metadata": {},
   "outputs": [
    {
     "data": {
      "image/png": "[encoded data removed]",
      "text/plain": [
       "<Figure size 640x480 with 1 Axes>"
      ]
     },
     "metadata": {},
     "output_type": "display_data"
    }
   ],
   "source": [
    "n=len(np.unique(y_Train_array))\n",
    "for i in range(0,n):\n",
    "    plt.hist(X_Train_array_t[y_Train_array==i,0],10, alpha=0.3)"
   ]
  },
  {
   "cell_type": "code",
   "execution_count": null,
   "metadata": {},
   "outputs": [
    {
     "data": {
      "image/png": "[encoded data removed]",
      "text/plain": [
       "<Figure size 640x480 with 1 Axes>"
      ]
     },
     "metadata": {},
     "output_type": "display_data"
    }
   ],
   "source": [
    "n=len(np.unique(y_Train_array))\n",
    "for i in range(0,n):\n",
    "    plt.hist(X_Train_array_t[y_Train_array==i,1],10, alpha=0.3)"
   ]
  },
  {
   "cell_type": "code",
   "execution_count": null,
   "metadata": {},
   "outputs": [
    {
     "data": {
      "text/plain": [
       "(array([ 4.,  4.,  5., 14., 11., 11., 11., 15., 13.,  6.]),\n",
       " array([-2.6326017 , -2.27386127, -1.91512083, -1.5563804 , -1.19763997,\n",
       "        -0.83889954, -0.48015911, -0.12141867,  0.23732176,  0.59606219,\n",
       "         0.95480262]),\n",
       " <BarContainer object of 10 artists>)"
      ]
     },
     "execution_count": 38,
     "metadata": {},
     "output_type": "execute_result"
    },
    {
     "data": {
      "image/png": "[encoded data removed]",
      "text/plain": [
       "<Figure size 640x480 with 1 Axes>"
      ]
     },
     "metadata": {},
     "output_type": "display_data"
    }
   ],
   "source": [
    "plt.hist(X_Train_array_t[y_Train_array==0,0],10)"
   ]
  },
  {
   "cell_type": "code",
   "execution_count": null,
   "metadata": {},
   "outputs": [
    {
     "data": {
      "text/plain": [
       "(array([ 4., 12., 15., 12., 13., 13.,  9.,  8.,  6.,  3.]),\n",
       " array([0.50263057, 0.88573351, 1.26883645, 1.65193938, 2.03504232,\n",
       "        2.41814526, 2.8012482 , 3.18435114, 3.56745408, 3.95055702,\n",
       "        4.33365996]),\n",
       " <BarContainer object of 10 artists>)"
      ]
     },
     "execution_count": 39,
     "metadata": {},
     "output_type": "execute_result"
    },
    {
     "data": {
      "image/png": "[encoded data removed]",
      "text/plain": [
       "<Figure size 640x480 with 1 Axes>"
      ]
     },
     "metadata": {},
     "output_type": "display_data"
    }
   ],
   "source": [
    "plt.hist(X_Train_array_t[y_Train_array==1,0],10)"
   ]
  },
  {
   "cell_type": "code",
   "execution_count": null,
   "metadata": {},
   "outputs": [
    {
     "data": {
      "text/plain": [
       "(array([3., 3., 2., 4., 3., 3., 1., 3., 5., 5.]),\n",
       " array([-7.3491812 , -6.88112833, -6.41307546, -5.94502259, -5.47696972,\n",
       "        -5.00891685, -4.54086398, -4.07281111, -3.60475824, -3.13670537,\n",
       "        -2.6686525 ]),\n",
       " <BarContainer object of 10 artists>)"
      ]
     },
     "execution_count": 40,
     "metadata": {},
     "output_type": "execute_result"
    },
    {
     "data": {
      "image/png": "[encoded data removed]",
      "text/plain": [
       "<Figure size 640x480 with 1 Axes>"
      ]
     },
     "metadata": {},
     "output_type": "display_data"
    }
   ],
   "source": [
    "plt.hist(X_Train_array_t[y_Train_array==2,0],10)"
   ]
  },
  {
   "cell_type": "code",
   "execution_count": null,
   "metadata": {},
   "outputs": [
    {
     "data": {
      "text/plain": [
       "(array([ 1.,  0.,  2.,  8., 28., 34., 11.,  2.,  4.,  4.]),\n",
       " array([-2.85897969, -2.28071821, -1.70245673, -1.12419524, -0.54593376,\n",
       "         0.03232773,  0.61058921,  1.18885069,  1.76711218,  2.34537366,\n",
       "         2.92363515]),\n",
       " <BarContainer object of 10 artists>)"
      ]
     },
     "execution_count": 41,
     "metadata": {},
     "output_type": "execute_result"
    },
    {
     "data": {
      "image/png": "[encoded data removed]",
      "text/plain": [
       "<Figure size 640x480 with 1 Axes>"
      ]
     },
     "metadata": {},
     "output_type": "display_data"
    }
   ],
   "source": [
    "plt.hist(X_Train_array_t[y_Train_array==0,1],10)"
   ]
  },
  {
   "cell_type": "code",
   "execution_count": null,
   "metadata": {},
   "outputs": [
    {
     "data": {
      "text/plain": [
       "(array([ 1.,  0.,  0.,  0.,  0.,  1.,  3., 38., 42., 10.]),\n",
       " array([-8.50138771, -7.45753789, -6.41368807, -5.36983825, -4.32598843,\n",
       "        -3.28213861, -2.23828879, -1.19443897, -0.15058916,  0.89326066,\n",
       "         1.93711048]),\n",
       " <BarContainer object of 10 artists>)"
      ]
     },
     "execution_count": 42,
     "metadata": {},
     "output_type": "execute_result"
    },
    {
     "data": {
      "image/png": "[encoded data removed]",
      "text/plain": [
       "<Figure size 640x480 with 1 Axes>"
      ]
     },
     "metadata": {},
     "output_type": "display_data"
    }
   ],
   "source": [
    "plt.hist(X_Train_array_t[y_Train_array==1,1],10)"
   ]
  },
  {
   "cell_type": "code",
   "execution_count": null,
   "metadata": {},
   "outputs": [
    {
     "data": {
      "text/plain": [
       "(array([ 1.,  0.,  0.,  0.,  0.,  0.,  7., 11., 10.,  3.]),\n",
       " array([-3.9065328 , -3.43028319, -2.95403359, -2.47778398, -2.00153438,\n",
       "        -1.52528477, -1.04903517, -0.57278556, -0.09653596,  0.37971365,\n",
       "         0.85596325]),\n",
       " <BarContainer object of 10 artists>)"
      ]
     },
     "execution_count": 43,
     "metadata": {},
     "output_type": "execute_result"
    },
    {
     "data": {
      "image/png": "[encoded data removed]",
      "text/plain": [
       "<Figure size 640x480 with 1 Axes>"
      ]
     },
     "metadata": {},
     "output_type": "display_data"
    }
   ],
   "source": [
    "plt.hist(X_Train_array_t[y_Train_array==2,1],10)"
   ]
  },
  {
   "cell_type": "code",
   "execution_count": null,
   "metadata": {},
   "outputs": [
    {
     "data": {
      "text/plain": [
       "array([ 0.00296261, -0.02215367, -0.03509696, -0.02256793, -0.03946078,\n",
       "        0.00392301, -0.01470043])"
      ]
     },
     "execution_count": 44,
     "metadata": {},
     "output_type": "execute_result"
    }
   ],
   "source": [
    "lda.xbar_"
   ]
  },
  {
   "cell_type": "code",
   "execution_count": null,
   "metadata": {},
   "outputs": [
    {
     "data": {
      "text/plain": [
       "array([ 0.003, -0.022, -0.035, -0.023, -0.039,  0.004, -0.015])"
      ]
     },
     "execution_count": 64,
     "metadata": {},
     "output_type": "execute_result"
    }
   ],
   "source": [
    "Xlda.xbar_"
   ]
  },
  {
   "cell_type": "code",
   "execution_count": null,
   "metadata": {},
   "outputs": [
    {
     "data": {
      "text/plain": [
       "array([[ 0.03356175, -0.06355964, -0.05156106,  0.03506735, -0.01110109,\n",
       "         0.15932069,  0.21817668],\n",
       "       [-0.00264925, -0.0984826 , -0.06115349, -0.11280397, -0.12092018,\n",
       "        -0.56791636, -0.86489158],\n",
       "       [-0.0702622 ,  0.3260779 ,  0.09062162,  0.07601667,  0.11906523,\n",
       "         1.24509045,  1.82522807]])"
      ]
     },
     "execution_count": 45,
     "metadata": {},
     "output_type": "execute_result"
    }
   ],
   "source": [
    "lda.means_"
   ]
  },
  {
   "cell_type": "code",
   "execution_count": null,
   "metadata": {},
   "outputs": [
    {
     "data": {
      "text/plain": [
       "array([[ 0.034, -0.064, -0.052,  0.035, -0.011,  0.159,  0.218],\n",
       "       [-0.003, -0.098, -0.061, -0.113, -0.121, -0.568, -0.865],\n",
       "       [-0.07 ,  0.326,  0.091,  0.076,  0.119,  1.245,  1.825]])"
      ]
     },
     "execution_count": 65,
     "metadata": {},
     "output_type": "execute_result"
    }
   ],
   "source": [
    "Xlda.means_"
   ]
  },
  {
   "cell_type": "markdown",
   "metadata": {},
   "source": [
    "### Eigenvalues, Canonical correlation, Wiks stats and Chi-sq calculation"
   ]
  },
  {
   "cell_type": "code",
   "execution_count": null,
   "metadata": {},
   "outputs": [],
   "source": [
    "np.set_printoptions(precision=3)"
   ]
  },
  {
   "cell_type": "code",
   "execution_count": null,
   "metadata": {},
   "outputs": [
    {
     "name": "stdout",
     "output_type": "stream",
     "text": [
      "Mean Vector class 0: [ 0.034 -0.064 -0.052  0.035 -0.011  0.159  0.218]\n",
      "Mean Vector class 1: [-0.003 -0.098 -0.061 -0.113 -0.121 -0.568 -0.865]\n",
      "Mean Vector class 2: [-0.07   0.326  0.091  0.076  0.119  1.245  1.825]\n"
     ]
    }
   ],
   "source": [
    "cl_number = labeled_df_scaled['label'].nunique()\n",
    "X=np.array(X_Train_array)\n",
    "y=np.array(y_Train_array)\n",
    "mean_vectors = []\n",
    "\n",
    "for cl in range(0,cl_number):\n",
    "    mean_vectors.append(np.mean(X[y==cl], axis=0))\n",
    "    print(f'Mean Vector class {cl}: {mean_vectors[cl]}')\n"
   ]
  },
  {
   "cell_type": "code",
   "execution_count": null,
   "metadata": {},
   "outputs": [
    {
     "name": "stdout",
     "output_type": "stream",
     "text": [
      "0\n",
      "[[520.444 521.22  521.124 520.432 520.801 519.439 518.969]\n",
      " [521.22  528.202 527.339 521.111 524.43  512.178 507.947]\n",
      " [521.124 527.339 526.571 521.027 523.982 513.075 509.309]\n",
      " [520.432 521.111 521.027 520.421 520.744 519.552 519.14 ]\n",
      " [520.801 524.43  523.982 520.744 522.47  516.1   513.9  ]\n",
      " [519.439 512.178 513.075 519.552 516.1   528.841 533.241]\n",
      " [518.969 507.947 509.309 519.14  513.9   533.241 539.921]]\n",
      "1\n",
      "[[608.155 591.674 598.094 589.211 587.815 510.943 459.87 ]\n",
      " [591.674 581.3   585.341 579.75  578.872 530.486 498.339]\n",
      " [598.094 585.341 590.309 583.435 582.355 522.873 483.355]\n",
      " [589.211 579.75  583.435 578.336 577.535 533.406 504.088]\n",
      " [587.815 578.872 582.355 577.535 576.778 535.061 507.346]\n",
      " [510.943 530.486 522.873 533.406 535.061 626.216 686.777]\n",
      " [459.87  498.339 483.355 504.088 507.346 686.777 805.987]]\n",
      "2\n",
      "[[436.965 384.919 415.838 417.756 412.103 264.236 188.054]\n",
      " [384.919 368.06  378.075 378.696 376.865 328.967 304.29 ]\n",
      " [415.838 378.075 400.509 401.901 397.799 290.512 235.237]\n",
      " [417.756 378.696 401.901 403.34  399.098 288.127 230.954]\n",
      " [412.103 376.865 397.799 399.098 395.27  295.158 243.579]\n",
      " [264.236 328.967 290.512 288.127 295.158 479.062 573.811]\n",
      " [188.054 304.29  235.237 230.954 243.579 573.811 743.949]]\n"
     ]
    }
   ],
   "source": [
    "n_columns = X.shape[1]\n",
    "\n",
    "S_W=np.zeros((n_columns, n_columns))\n",
    "row = np.zeros((1,n_columns))\n",
    "for cl, mv in zip(range(0,cl_number), mean_vectors):\n",
    "    class_sc_mat = np.zeros((n_columns, n_columns))\n",
    "    mv = mv.reshape(n_columns, 1)\n",
    "    for row in X[y==cl]:\n",
    "        class_sc_mat += ((row-mv)).dot((row-mv).T)\n",
    "    print(cl)\n",
    "    print(class_sc_mat)\n",
    "    S_W += class_sc_mat\n"
   ]
  },
  {
   "cell_type": "code",
   "execution_count": null,
   "metadata": {},
   "outputs": [
    {
     "name": "stdout",
     "output_type": "stream",
     "text": [
      "within-class Scatter Matrix: \n",
      "[[1565.564 1497.812 1535.056 1527.399 1520.719 1294.618 1166.893]\n",
      " [1497.812 1477.562 1490.756 1479.558 1480.167 1371.631 1310.576]\n",
      " [1535.056 1490.756 1517.389 1506.364 1504.137 1326.461 1227.9  ]\n",
      " [1527.399 1479.558 1506.364 1502.098 1497.377 1341.085 1254.182]\n",
      " [1520.719 1480.167 1504.137 1497.377 1494.518 1346.319 1264.825]\n",
      " [1294.618 1371.631 1326.461 1341.085 1346.319 1634.119 1793.829]\n",
      " [1166.893 1310.576 1227.9   1254.182 1264.825 1793.829 2089.857]]\n"
     ]
    }
   ],
   "source": [
    "print(f'within-class Scatter Matrix: \\n{S_W}')"
   ]
  },
  {
   "cell_type": "code",
   "execution_count": null,
   "metadata": {},
   "outputs": [
    {
     "name": "stdout",
     "output_type": "stream",
     "text": [
      "between-class Scatter Matrix:\n",
      " [[ 2.626e-01 -8.944e-01 -3.280e-01 -1.712e-02 -2.465e-01 -2.156e+00\n",
      "  -3.188e+00]\n",
      " [-8.944e-01  4.595e+00  1.654e+00  1.529e+00  2.247e+00  1.737e+01\n",
      "   2.576e+01]\n",
      " [-3.280e-01  1.654e+00  5.957e-01  5.308e-01  7.955e-01  6.168e+00\n",
      "   9.146e+00]\n",
      " [-1.712e-02  1.529e+00  5.308e-01  1.397e+00  1.352e+00  9.659e+00\n",
      "   1.435e+01]\n",
      " [-2.465e-01  2.247e+00  7.955e-01  1.352e+00  1.510e+00  1.114e+01\n",
      "   1.653e+01]\n",
      " [-2.156e+00  1.737e+01  6.168e+00  9.659e+00  1.114e+01  8.263e+01\n",
      "   1.227e+02]\n",
      " [-3.188e+00  2.576e+01  9.146e+00  1.435e+01  1.653e+01  1.227e+02\n",
      "   1.821e+02]]\n"
     ]
    }
   ],
   "source": [
    "overall_mean = np.mean(X, axis=0)\n",
    "S_B = np.zeros((n_columns,n_columns))\n",
    "for i,mean_vec in enumerate(mean_vectors):\n",
    "    n = X[y==i,:].shape[0]\n",
    "    mean_vec = mean_vec.reshape(n_columns,1)\n",
    "    overall_mean = overall_mean.reshape(n_columns,1)\n",
    "    S_B += n * (mean_vec - overall_mean).dot((mean_vec-overall_mean).T)\n",
    "print(f'between-class Scatter Matrix:\\n {S_B}')"
   ]
  },
  {
   "cell_type": "code",
   "execution_count": null,
   "metadata": {},
   "outputs": [
    {
     "name": "stdout",
     "output_type": "stream",
     "text": [
      "\n",
      "Eigenvector 1: \n",
      "[[-0.268]\n",
      " [-0.008]\n",
      " [-0.178]\n",
      " [ 0.881]\n",
      " [-0.344]\n",
      " [-0.036]\n",
      " [-0.027]]\n",
      "Eigenvalue 1: 1.44e-01\n",
      "\n",
      "Eigenvector 2: \n",
      "[[-0.081]\n",
      " [ 0.086]\n",
      " [-0.737]\n",
      " [ 0.538]\n",
      " [ 0.161]\n",
      " [-0.217]\n",
      " [ 0.283]]\n",
      "Eigenvalue 2: 1.65e-01\n",
      "\n",
      "Eigenvector 3: \n",
      "[[-0.359]\n",
      " [ 0.184]\n",
      " [-0.685]\n",
      " [ 0.067]\n",
      " [ 0.323]\n",
      " [ 0.419]\n",
      " [-0.288]]\n",
      "Eigenvalue 3: 1.82e-02\n",
      "\n",
      "Eigenvector 4: \n",
      "[[ 0.793]\n",
      " [ 0.402]\n",
      " [-0.299]\n",
      " [-0.164]\n",
      " [ 0.136]\n",
      " [-0.094]\n",
      " [ 0.034]]\n",
      "Eigenvalue 4: -2.24e-03\n",
      "\n",
      "Eigenvector 5: \n",
      "[[ 0.793]\n",
      " [ 0.402]\n",
      " [-0.299]\n",
      " [-0.164]\n",
      " [ 0.136]\n",
      " [-0.094]\n",
      " [ 0.034]]\n",
      "Eigenvalue 5: -2.24e-03\n",
      "\n",
      "Eigenvector 6: \n",
      "[[ 0.689]\n",
      " [ 0.092]\n",
      " [ 0.581]\n",
      " [-0.1  ]\n",
      " [ 0.408]\n",
      " [-0.042]\n",
      " [-0.032]]\n",
      "Eigenvalue 6: 7.71e-04\n",
      "\n",
      "Eigenvector 7: \n",
      "[[ 0.277]\n",
      " [-0.125]\n",
      " [ 0.761]\n",
      " [ 0.168]\n",
      " [-0.526]\n",
      " [-0.125]\n",
      " [ 0.091]]\n",
      "Eigenvalue 7: 7.74e-03\n",
      "ok\n",
      "Eigenvalues in decreasing order:\n",
      "\n",
      "0.16452743596621647\n",
      "0.14387589527139297\n",
      "0.018229621054566717\n",
      "0.007735128552097376\n",
      "0.0022671032991573954\n",
      "0.0022671032991573954\n",
      "0.0007713980198282206\n"
     ]
    },
    {
     "data": {
      "text/html": [
       "<div>\n",
       "<style scoped>\n",
       "    .dataframe tbody tr th:only-of-type {\n",
       "        vertical-align: middle;\n",
       "    }\n",
       "\n",
       "    .dataframe tbody tr th {\n",
       "        vertical-align: top;\n",
       "    }\n",
       "\n",
       "    .dataframe thead th {\n",
       "        text-align: right;\n",
       "    }\n",
       "</style>\n",
       "<table border=\"1\" class=\"dataframe\">\n",
       "  <thead>\n",
       "    <tr style=\"text-align: right;\">\n",
       "      <th></th>\n",
       "      <th>0</th>\n",
       "    </tr>\n",
       "  </thead>\n",
       "  <tbody>\n",
       "    <tr>\n",
       "      <th>0</th>\n",
       "      <td>0.164527</td>\n",
       "    </tr>\n",
       "    <tr>\n",
       "      <th>1</th>\n",
       "      <td>0.143876</td>\n",
       "    </tr>\n",
       "    <tr>\n",
       "      <th>2</th>\n",
       "      <td>0.018230</td>\n",
       "    </tr>\n",
       "    <tr>\n",
       "      <th>3</th>\n",
       "      <td>0.007735</td>\n",
       "    </tr>\n",
       "    <tr>\n",
       "      <th>4</th>\n",
       "      <td>0.002267</td>\n",
       "    </tr>\n",
       "    <tr>\n",
       "      <th>5</th>\n",
       "      <td>0.002267</td>\n",
       "    </tr>\n",
       "    <tr>\n",
       "      <th>6</th>\n",
       "      <td>0.000771</td>\n",
       "    </tr>\n",
       "  </tbody>\n",
       "</table>\n",
       "</div>"
      ],
      "text/plain": [
       "          0\n",
       "0  0.164527\n",
       "1  0.143876\n",
       "2  0.018230\n",
       "3  0.007735\n",
       "4  0.002267\n",
       "5  0.002267\n",
       "6  0.000771"
      ]
     },
     "execution_count": 51,
     "metadata": {},
     "output_type": "execute_result"
    }
   ],
   "source": [
    "#Eigen values calculation\n",
    "eig_vals, eig_vecs = np.linalg.eig(np.linalg.inv(S_W).dot(S_B))\n",
    "\n",
    "for i in range(len(eig_vals)):\n",
    "    eigvec_sc = eig_vecs[:,i].reshape(n_columns,1)   \n",
    "    print('\\nEigenvector {}: \\n{}'.format(i+1, eigvec_sc.real))\n",
    "    print('Eigenvalue {:}: {:.2e}'.format(i+1, eig_vals[i].real))\n",
    "for i in range(len(eig_vals)):\n",
    "    eigv = eig_vecs[:,i].reshape(7,1)\n",
    "    np.testing.assert_array_almost_equal(np.linalg.inv(S_W).dot(S_B).dot(eigv),\n",
    "                                         eig_vals[i] * eigv,\n",
    "                                         decimal=6, err_msg='', verbose=True)\n",
    "print('ok')\n",
    "\n",
    "eig_pairs = [(np.abs(eig_vals[i]), eig_vecs[:,i]) for i in range(len(eig_vals))]\n",
    "\n",
    "# Sort the (eigenvalue, eigenvector) tuples from high to low\n",
    "eig_pairs = sorted(eig_pairs, key=lambda k: k[0], reverse=True)\n",
    "\n",
    "# Visually confirm that the list is correctly sorted by decreasing eigenvalues\n",
    "ee=np.zeros((7,1))\n",
    "k=0\n",
    "print('Eigenvalues in decreasing order:\\n')\n",
    "for i in eig_pairs:\n",
    "    print(i[0])\n",
    "    ee[k]+=i[0]\n",
    "    k+=1\n",
    "\n",
    "eig_df=pd.DataFrame(ee)\n",
    "eig_df"
   ]
  },
  {
   "cell_type": "code",
   "execution_count": null,
   "metadata": {},
   "outputs": [
    {
     "name": "stdout",
     "output_type": "stream",
     "text": [
      "          0\n",
      "0  0.375876\n",
      "1  0.354654\n",
      "2  0.133803\n",
      "3  0.087611\n",
      "4  0.047560\n",
      "5  0.047560\n",
      "6  0.027763\n"
     ]
    }
   ],
   "source": [
    "# Canonical correlation calculation\n",
    "aa=(eig_df.apply(lambda x:x/(x+1),axis=1))\n",
    "can_cor = aa.apply(np.sqrt)\n",
    "print(can_cor)"
   ]
  },
  {
   "cell_type": "code",
   "execution_count": null,
   "metadata": {},
   "outputs": [
    {
     "name": "stdout",
     "output_type": "stream",
     "text": [
      "     Lambda     Chi-sq\n",
      "0  0.727742  32.747805\n",
      "1  0.847475  28.900817\n",
      "2  0.969407   3.884073\n",
      "3  0.987079   1.656654\n",
      "4  0.994714   0.486876\n",
      "5  0.996969   0.486876\n",
      "6  0.999229   0.165787\n"
     ]
    },
    {
     "name": "stderr",
     "output_type": "stream",
     "text": [
      "/var/folders/gp/6f7wmxfj5xn475t83fsklqcr0000gn/T/ipykernel_21155/1493184364.py:8: FutureWarning: ChainedAssignmentError: behaviour will change in pandas 3.0!\n",
      "You are setting values through chained assignment. Currently this works in certain cases, but when using Copy-on-Write (which will become the default behaviour in pandas 3.0) this will never work to update the original DataFrame or Series, because the intermediate object on which we are setting values will behave as a copy.\n",
      "A typical example is when you are setting values in a column of a DataFrame, like:\n",
      "\n",
      "df[\"col\"][row_indexer] = value\n",
      "\n",
      "Use `df.loc[row_indexer, \"col\"] = values` instead, to perform the assignment in a single step and ensure this keeps updating the original `df`.\n",
      "\n",
      "See the caveats in the documentation: https://pandas.pydata.org/pandas-docs/stable/user_guide/indexing.html#returning-a-view-versus-a-copy\n",
      "\n",
      "  LL['Lambda'][j]=L[0][j]\n",
      "/var/folders/gp/6f7wmxfj5xn475t83fsklqcr0000gn/T/ipykernel_21155/1493184364.py:10: FutureWarning: ChainedAssignmentError: behaviour will change in pandas 3.0!\n",
      "You are setting values through chained assignment. Currently this works in certain cases, but when using Copy-on-Write (which will become the default behaviour in pandas 3.0) this will never work to update the original DataFrame or Series, because the intermediate object on which we are setting values will behave as a copy.\n",
      "A typical example is when you are setting values in a column of a DataFrame, like:\n",
      "\n",
      "df[\"col\"][row_indexer] = value\n",
      "\n",
      "Use `df.loc[row_indexer, \"col\"] = values` instead, to perform the assignment in a single step and ensure this keeps updating the original `df`.\n",
      "\n",
      "See the caveats in the documentation: https://pandas.pydata.org/pandas-docs/stable/user_guide/indexing.html#returning-a-view-versus-a-copy\n",
      "\n",
      "  LL['Lambda'][j]=LL['Lambda'][j]*(L[0][i+1])\n"
     ]
    }
   ],
   "source": [
    "L = eig_df.apply(lambda x: 1/(x+1),axis=1)\n",
    "n=X.shape[0]\n",
    "p=7\n",
    "g=3\n",
    "k=-(n-(p+g)/2-1)\n",
    "LL=pd.DataFrame(np.zeros((7,2)), columns=['Lambda','Chi-sq'])\n",
    "for j in range(0,len(L)):\n",
    "  LL['Lambda'][j]=L[0][j]\n",
    "  for i in range(j,len(L)-1):\n",
    "    LL['Lambda'][j]=LL['Lambda'][j]*(L[0][i+1])\n",
    "LL['Chi-sq']=L[0].apply(math.log)\n",
    "LL['Chi-sq']=LL['Chi-sq']*k\n",
    "print(LL)"
   ]
  },
  {
   "cell_type": "code",
   "execution_count": 104,
   "metadata": {},
   "outputs": [
    {
     "name": "stdout",
     "output_type": "stream",
     "text": [
      "LDA intercept:  [ -1.052  -3.42  -13.358]\n",
      "coefficients:  [[-8.237e-02 -5.853e-01 -2.906e-01  4.682e-01  3.907e-01  7.898e-02\n",
      "   1.589e+00]\n",
      " [ 3.925e-01 -9.828e-03  1.298e+00 -8.555e-01 -3.769e-01  1.848e-01\n",
      "  -5.915e+00]\n",
      " [-9.234e-01  1.748e+00 -2.999e+00  1.164e+00 -2.865e-02 -7.806e-01\n",
      "   1.289e+01]]\n",
      "mean values of classes [[ 0.034 -0.064 -0.052  0.035 -0.011  0.159  0.218]\n",
      " [-0.003 -0.098 -0.061 -0.113 -0.121 -0.568 -0.865]\n",
      " [-0.07   0.326  0.091  0.076  0.119  1.245  1.825]]\n"
     ]
    }
   ],
   "source": [
    "print('LDA intercept: ', Xlda.intercept_)\n",
    "print('coefficients: ', Xlda.coef_)\n",
    "print('mean values of classes', Xlda.means_)\n"
   ]
  },
  {
   "cell_type": "code",
   "execution_count": 103,
   "metadata": {},
   "outputs": [
    {
     "data": {
      "text/plain": [
       "array([[ 0.034, -0.064, -0.052,  0.035, -0.011,  0.159,  0.218],\n",
       "       [-0.003, -0.098, -0.061, -0.113, -0.121, -0.568, -0.865],\n",
       "       [-0.07 ,  0.326,  0.091,  0.076,  0.119,  1.245,  1.825]])"
      ]
     },
     "execution_count": 103,
     "metadata": {},
     "output_type": "execute_result"
    }
   ],
   "source": [
    "Xlda.means_"
   ]
  },
  {
   "cell_type": "code",
   "execution_count": null,
   "metadata": {},
   "outputs": [],
   "source": [
    "lda_predictions = lda.predict(X_Test_array)"
   ]
  },
  {
   "cell_type": "code",
   "execution_count": null,
   "metadata": {},
   "outputs": [
    {
     "data": {
      "text/plain": [
       "array([[20,  0,  0],\n",
       "       [ 1, 23,  0],\n",
       "       [ 5,  0,  7]])"
      ]
     },
     "execution_count": 56,
     "metadata": {},
     "output_type": "execute_result"
    }
   ],
   "source": [
    "confusion_matrix(y_Test_array, lda_predictions)"
   ]
  },
  {
   "cell_type": "code",
   "execution_count": null,
   "metadata": {},
   "outputs": [
    {
     "data": {
      "text/plain": [
       "0.8928571428571429"
      ]
     },
     "execution_count": 57,
     "metadata": {},
     "output_type": "execute_result"
    }
   ],
   "source": [
    "Xlda.score(X_Test_array, y_Test_array)"
   ]
  },
  {
   "cell_type": "code",
   "execution_count": null,
   "metadata": {},
   "outputs": [
    {
     "name": "stdout",
     "output_type": "stream",
     "text": [
      "              precision    recall  f1-score   support\n",
      "\n",
      "           0       0.77      1.00      0.87        20\n",
      "           1       1.00      0.96      0.98        24\n",
      "           2       1.00      0.58      0.74        12\n",
      "\n",
      "    accuracy                           0.89        56\n",
      "   macro avg       0.92      0.85      0.86        56\n",
      "weighted avg       0.92      0.89      0.89        56\n",
      "\n"
     ]
    }
   ],
   "source": [
    "print(classification_report(y_Test_array, lda_predictions))"
   ]
  },
  {
   "cell_type": "markdown",
   "metadata": {},
   "source": [
    "## Logistic Model creation"
   ]
  },
  {
   "cell_type": "code",
   "execution_count": null,
   "metadata": {},
   "outputs": [
    {
     "name": "stderr",
     "output_type": "stream",
     "text": [
      "/Users/takosaga/anaconda3/envs/labs/lib/python3.9/site-packages/sklearn/linear_model/_logistic.py:1247: FutureWarning: 'multi_class' was deprecated in version 1.5 and will be removed in 1.7. From then on, it will always use 'multinomial'. Leave it to its default value to avoid this warning.\n",
      "  warnings.warn(\n"
     ]
    },
    {
     "data": {
      "text/html": [
       "<style>#sk-container-id-2 {\n",
       "  /* Definition of color scheme common for light and dark mode */\n",
       "  --sklearn-color-text: black;\n",
       "  --sklearn-color-line: gray;\n",
       "  /* Definition of color scheme for unfitted estimators */\n",
       "  --sklearn-color-unfitted-level-0: #fff5e6;\n",
       "  --sklearn-color-unfitted-level-1: #f6e4d2;\n",
       "  --sklearn-color-unfitted-level-2: #ffe0b3;\n",
       "  --sklearn-color-unfitted-level-3: chocolate;\n",
       "  /* Definition of color scheme for fitted estimators */\n",
       "  --sklearn-color-fitted-level-0: #f0f8ff;\n",
       "  --sklearn-color-fitted-level-1: #d4ebff;\n",
       "  --sklearn-color-fitted-level-2: #b3dbfd;\n",
       "  --sklearn-color-fitted-level-3: cornflowerblue;\n",
       "\n",
       "  /* Specific color for light theme */\n",
       "  --sklearn-color-text-on-default-background: var(--sg-text-color, var(--theme-code-foreground, var(--jp-content-font-color1, black)));\n",
       "  --sklearn-color-background: var(--sg-background-color, var(--theme-background, var(--jp-layout-color0, white)));\n",
       "  --sklearn-color-border-box: var(--sg-text-color, var(--theme-code-foreground, var(--jp-content-font-color1, black)));\n",
       "  --sklearn-color-icon: #696969;\n",
       "\n",
       "  @media (prefers-color-scheme: dark) {\n",
       "    /* Redefinition of color scheme for dark theme */\n",
       "    --sklearn-color-text-on-default-background: var(--sg-text-color, var(--theme-code-foreground, var(--jp-content-font-color1, white)));\n",
       "    --sklearn-color-background: var(--sg-background-color, var(--theme-background, var(--jp-layout-color0, #111)));\n",
       "    --sklearn-color-border-box: var(--sg-text-color, var(--theme-code-foreground, var(--jp-content-font-color1, white)));\n",
       "    --sklearn-color-icon: #878787;\n",
       "  }\n",
       "}\n",
       "\n",
       "#sk-container-id-2 {\n",
       "  color: var(--sklearn-color-text);\n",
       "}\n",
       "\n",
       "#sk-container-id-2 pre {\n",
       "  padding: 0;\n",
       "}\n",
       "\n",
       "#sk-container-id-2 input.sk-hidden--visually {\n",
       "  border: 0;\n",
       "  clip: rect(1px 1px 1px 1px);\n",
       "  clip: rect(1px, 1px, 1px, 1px);\n",
       "  height: 1px;\n",
       "  margin: -1px;\n",
       "  overflow: hidden;\n",
       "  padding: 0;\n",
       "  position: absolute;\n",
       "  width: 1px;\n",
       "}\n",
       "\n",
       "#sk-container-id-2 div.sk-dashed-wrapped {\n",
       "  border: 1px dashed var(--sklearn-color-line);\n",
       "  margin: 0 0.4em 0.5em 0.4em;\n",
       "  box-sizing: border-box;\n",
       "  padding-bottom: 0.4em;\n",
       "  background-color: var(--sklearn-color-background);\n",
       "}\n",
       "\n",
       "#sk-container-id-2 div.sk-container {\n",
       "  /* jupyter's `normalize.less` sets `[hidden] { display: none; }`\n",
       "     but bootstrap.min.css set `[hidden] { display: none !important; }`\n",
       "     so we also need the `!important` here to be able to override the\n",
       "     default hidden behavior on the sphinx rendered scikit-learn.org.\n",
       "     See: https://github.com/scikit-learn/scikit-learn/issues/21755 */\n",
       "  display: inline-block !important;\n",
       "  position: relative;\n",
       "}\n",
       "\n",
       "#sk-container-id-2 div.sk-text-repr-fallback {\n",
       "  display: none;\n",
       "}\n",
       "\n",
       "div.sk-parallel-item,\n",
       "div.sk-serial,\n",
       "div.sk-item {\n",
       "  /* draw centered vertical line to link estimators */\n",
       "  background-image: linear-gradient(var(--sklearn-color-text-on-default-background), var(--sklearn-color-text-on-default-background));\n",
       "  background-size: 2px 100%;\n",
       "  background-repeat: no-repeat;\n",
       "  background-position: center center;\n",
       "}\n",
       "\n",
       "/* Parallel-specific style estimator block */\n",
       "\n",
       "#sk-container-id-2 div.sk-parallel-item::after {\n",
       "  content: \"\";\n",
       "  width: 100%;\n",
       "  border-bottom: 2px solid var(--sklearn-color-text-on-default-background);\n",
       "  flex-grow: 1;\n",
       "}\n",
       "\n",
       "#sk-container-id-2 div.sk-parallel {\n",
       "  display: flex;\n",
       "  align-items: stretch;\n",
       "  justify-content: center;\n",
       "  background-color: var(--sklearn-color-background);\n",
       "  position: relative;\n",
       "}\n",
       "\n",
       "#sk-container-id-2 div.sk-parallel-item {\n",
       "  display: flex;\n",
       "  flex-direction: column;\n",
       "}\n",
       "\n",
       "#sk-container-id-2 div.sk-parallel-item:first-child::after {\n",
       "  align-self: flex-end;\n",
       "  width: 50%;\n",
       "}\n",
       "\n",
       "#sk-container-id-2 div.sk-parallel-item:last-child::after {\n",
       "  align-self: flex-start;\n",
       "  width: 50%;\n",
       "}\n",
       "\n",
       "#sk-container-id-2 div.sk-parallel-item:only-child::after {\n",
       "  width: 0;\n",
       "}\n",
       "\n",
       "/* Serial-specific style estimator block */\n",
       "\n",
       "#sk-container-id-2 div.sk-serial {\n",
       "  display: flex;\n",
       "  flex-direction: column;\n",
       "  align-items: center;\n",
       "  background-color: var(--sklearn-color-background);\n",
       "  padding-right: 1em;\n",
       "  padding-left: 1em;\n",
       "}\n",
       "\n",
       "\n",
       "/* Toggleable style: style used for estimator/Pipeline/ColumnTransformer box that is\n",
       "clickable and can be expanded/collapsed.\n",
       "- Pipeline and ColumnTransformer use this feature and define the default style\n",
       "- Estimators will overwrite some part of the style using the `sk-estimator` class\n",
       "*/\n",
       "\n",
       "/* Pipeline and ColumnTransformer style (default) */\n",
       "\n",
       "#sk-container-id-2 div.sk-toggleable {\n",
       "  /* Default theme specific background. It is overwritten whether we have a\n",
       "  specific estimator or a Pipeline/ColumnTransformer */\n",
       "  background-color: var(--sklearn-color-background);\n",
       "}\n",
       "\n",
       "/* Toggleable label */\n",
       "#sk-container-id-2 label.sk-toggleable__label {\n",
       "  cursor: pointer;\n",
       "  display: block;\n",
       "  width: 100%;\n",
       "  margin-bottom: 0;\n",
       "  padding: 0.5em;\n",
       "  box-sizing: border-box;\n",
       "  text-align: center;\n",
       "}\n",
       "\n",
       "#sk-container-id-2 label.sk-toggleable__label-arrow:before {\n",
       "  /* Arrow on the left of the label */\n",
       "  content: \"▸\";\n",
       "  float: left;\n",
       "  margin-right: 0.25em;\n",
       "  color: var(--sklearn-color-icon);\n",
       "}\n",
       "\n",
       "#sk-container-id-2 label.sk-toggleable__label-arrow:hover:before {\n",
       "  color: var(--sklearn-color-text);\n",
       "}\n",
       "\n",
       "/* Toggleable content - dropdown */\n",
       "\n",
       "#sk-container-id-2 div.sk-toggleable__content {\n",
       "  max-height: 0;\n",
       "  max-width: 0;\n",
       "  overflow: hidden;\n",
       "  text-align: left;\n",
       "  /* unfitted */\n",
       "  background-color: var(--sklearn-color-unfitted-level-0);\n",
       "}\n",
       "\n",
       "#sk-container-id-2 div.sk-toggleable__content.fitted {\n",
       "  /* fitted */\n",
       "  background-color: var(--sklearn-color-fitted-level-0);\n",
       "}\n",
       "\n",
       "#sk-container-id-2 div.sk-toggleable__content pre {\n",
       "  margin: 0.2em;\n",
       "  border-radius: 0.25em;\n",
       "  color: var(--sklearn-color-text);\n",
       "  /* unfitted */\n",
       "  background-color: var(--sklearn-color-unfitted-level-0);\n",
       "}\n",
       "\n",
       "#sk-container-id-2 div.sk-toggleable__content.fitted pre {\n",
       "  /* unfitted */\n",
       "  background-color: var(--sklearn-color-fitted-level-0);\n",
       "}\n",
       "\n",
       "#sk-container-id-2 input.sk-toggleable__control:checked~div.sk-toggleable__content {\n",
       "  /* Expand drop-down */\n",
       "  max-height: 200px;\n",
       "  max-width: 100%;\n",
       "  overflow: auto;\n",
       "}\n",
       "\n",
       "#sk-container-id-2 input.sk-toggleable__control:checked~label.sk-toggleable__label-arrow:before {\n",
       "  content: \"▾\";\n",
       "}\n",
       "\n",
       "/* Pipeline/ColumnTransformer-specific style */\n",
       "\n",
       "#sk-container-id-2 div.sk-label input.sk-toggleable__control:checked~label.sk-toggleable__label {\n",
       "  color: var(--sklearn-color-text);\n",
       "  background-color: var(--sklearn-color-unfitted-level-2);\n",
       "}\n",
       "\n",
       "#sk-container-id-2 div.sk-label.fitted input.sk-toggleable__control:checked~label.sk-toggleable__label {\n",
       "  background-color: var(--sklearn-color-fitted-level-2);\n",
       "}\n",
       "\n",
       "/* Estimator-specific style */\n",
       "\n",
       "/* Colorize estimator box */\n",
       "#sk-container-id-2 div.sk-estimator input.sk-toggleable__control:checked~label.sk-toggleable__label {\n",
       "  /* unfitted */\n",
       "  background-color: var(--sklearn-color-unfitted-level-2);\n",
       "}\n",
       "\n",
       "#sk-container-id-2 div.sk-estimator.fitted input.sk-toggleable__control:checked~label.sk-toggleable__label {\n",
       "  /* fitted */\n",
       "  background-color: var(--sklearn-color-fitted-level-2);\n",
       "}\n",
       "\n",
       "#sk-container-id-2 div.sk-label label.sk-toggleable__label,\n",
       "#sk-container-id-2 div.sk-label label {\n",
       "  /* The background is the default theme color */\n",
       "  color: var(--sklearn-color-text-on-default-background);\n",
       "}\n",
       "\n",
       "/* On hover, darken the color of the background */\n",
       "#sk-container-id-2 div.sk-label:hover label.sk-toggleable__label {\n",
       "  color: var(--sklearn-color-text);\n",
       "  background-color: var(--sklearn-color-unfitted-level-2);\n",
       "}\n",
       "\n",
       "/* Label box, darken color on hover, fitted */\n",
       "#sk-container-id-2 div.sk-label.fitted:hover label.sk-toggleable__label.fitted {\n",
       "  color: var(--sklearn-color-text);\n",
       "  background-color: var(--sklearn-color-fitted-level-2);\n",
       "}\n",
       "\n",
       "/* Estimator label */\n",
       "\n",
       "#sk-container-id-2 div.sk-label label {\n",
       "  font-family: monospace;\n",
       "  font-weight: bold;\n",
       "  display: inline-block;\n",
       "  line-height: 1.2em;\n",
       "}\n",
       "\n",
       "#sk-container-id-2 div.sk-label-container {\n",
       "  text-align: center;\n",
       "}\n",
       "\n",
       "/* Estimator-specific */\n",
       "#sk-container-id-2 div.sk-estimator {\n",
       "  font-family: monospace;\n",
       "  border: 1px dotted var(--sklearn-color-border-box);\n",
       "  border-radius: 0.25em;\n",
       "  box-sizing: border-box;\n",
       "  margin-bottom: 0.5em;\n",
       "  /* unfitted */\n",
       "  background-color: var(--sklearn-color-unfitted-level-0);\n",
       "}\n",
       "\n",
       "#sk-container-id-2 div.sk-estimator.fitted {\n",
       "  /* fitted */\n",
       "  background-color: var(--sklearn-color-fitted-level-0);\n",
       "}\n",
       "\n",
       "/* on hover */\n",
       "#sk-container-id-2 div.sk-estimator:hover {\n",
       "  /* unfitted */\n",
       "  background-color: var(--sklearn-color-unfitted-level-2);\n",
       "}\n",
       "\n",
       "#sk-container-id-2 div.sk-estimator.fitted:hover {\n",
       "  /* fitted */\n",
       "  background-color: var(--sklearn-color-fitted-level-2);\n",
       "}\n",
       "\n",
       "/* Specification for estimator info (e.g. \"i\" and \"?\") */\n",
       "\n",
       "/* Common style for \"i\" and \"?\" */\n",
       "\n",
       ".sk-estimator-doc-link,\n",
       "a:link.sk-estimator-doc-link,\n",
       "a:visited.sk-estimator-doc-link {\n",
       "  float: right;\n",
       "  font-size: smaller;\n",
       "  line-height: 1em;\n",
       "  font-family: monospace;\n",
       "  background-color: var(--sklearn-color-background);\n",
       "  border-radius: 1em;\n",
       "  height: 1em;\n",
       "  width: 1em;\n",
       "  text-decoration: none !important;\n",
       "  margin-left: 1ex;\n",
       "  /* unfitted */\n",
       "  border: var(--sklearn-color-unfitted-level-1) 1pt solid;\n",
       "  color: var(--sklearn-color-unfitted-level-1);\n",
       "}\n",
       "\n",
       ".sk-estimator-doc-link.fitted,\n",
       "a:link.sk-estimator-doc-link.fitted,\n",
       "a:visited.sk-estimator-doc-link.fitted {\n",
       "  /* fitted */\n",
       "  border: var(--sklearn-color-fitted-level-1) 1pt solid;\n",
       "  color: var(--sklearn-color-fitted-level-1);\n",
       "}\n",
       "\n",
       "/* On hover */\n",
       "div.sk-estimator:hover .sk-estimator-doc-link:hover,\n",
       ".sk-estimator-doc-link:hover,\n",
       "div.sk-label-container:hover .sk-estimator-doc-link:hover,\n",
       ".sk-estimator-doc-link:hover {\n",
       "  /* unfitted */\n",
       "  background-color: var(--sklearn-color-unfitted-level-3);\n",
       "  color: var(--sklearn-color-background);\n",
       "  text-decoration: none;\n",
       "}\n",
       "\n",
       "div.sk-estimator.fitted:hover .sk-estimator-doc-link.fitted:hover,\n",
       ".sk-estimator-doc-link.fitted:hover,\n",
       "div.sk-label-container:hover .sk-estimator-doc-link.fitted:hover,\n",
       ".sk-estimator-doc-link.fitted:hover {\n",
       "  /* fitted */\n",
       "  background-color: var(--sklearn-color-fitted-level-3);\n",
       "  color: var(--sklearn-color-background);\n",
       "  text-decoration: none;\n",
       "}\n",
       "\n",
       "/* Span, style for the box shown on hovering the info icon */\n",
       ".sk-estimator-doc-link span {\n",
       "  display: none;\n",
       "  z-index: 9999;\n",
       "  position: relative;\n",
       "  font-weight: normal;\n",
       "  right: .2ex;\n",
       "  padding: .5ex;\n",
       "  margin: .5ex;\n",
       "  width: min-content;\n",
       "  min-width: 20ex;\n",
       "  max-width: 50ex;\n",
       "  color: var(--sklearn-color-text);\n",
       "  box-shadow: 2pt 2pt 4pt #999;\n",
       "  /* unfitted */\n",
       "  background: var(--sklearn-color-unfitted-level-0);\n",
       "  border: .5pt solid var(--sklearn-color-unfitted-level-3);\n",
       "}\n",
       "\n",
       ".sk-estimator-doc-link.fitted span {\n",
       "  /* fitted */\n",
       "  background: var(--sklearn-color-fitted-level-0);\n",
       "  border: var(--sklearn-color-fitted-level-3);\n",
       "}\n",
       "\n",
       ".sk-estimator-doc-link:hover span {\n",
       "  display: block;\n",
       "}\n",
       "\n",
       "/* \"?\"-specific style due to the `<a>` HTML tag */\n",
       "\n",
       "#sk-container-id-2 a.estimator_doc_link {\n",
       "  float: right;\n",
       "  font-size: 1rem;\n",
       "  line-height: 1em;\n",
       "  font-family: monospace;\n",
       "  background-color: var(--sklearn-color-background);\n",
       "  border-radius: 1rem;\n",
       "  height: 1rem;\n",
       "  width: 1rem;\n",
       "  text-decoration: none;\n",
       "  /* unfitted */\n",
       "  color: var(--sklearn-color-unfitted-level-1);\n",
       "  border: var(--sklearn-color-unfitted-level-1) 1pt solid;\n",
       "}\n",
       "\n",
       "#sk-container-id-2 a.estimator_doc_link.fitted {\n",
       "  /* fitted */\n",
       "  border: var(--sklearn-color-fitted-level-1) 1pt solid;\n",
       "  color: var(--sklearn-color-fitted-level-1);\n",
       "}\n",
       "\n",
       "/* On hover */\n",
       "#sk-container-id-2 a.estimator_doc_link:hover {\n",
       "  /* unfitted */\n",
       "  background-color: var(--sklearn-color-unfitted-level-3);\n",
       "  color: var(--sklearn-color-background);\n",
       "  text-decoration: none;\n",
       "}\n",
       "\n",
       "#sk-container-id-2 a.estimator_doc_link.fitted:hover {\n",
       "  /* fitted */\n",
       "  background-color: var(--sklearn-color-fitted-level-3);\n",
       "}\n",
       "</style><div id=\"sk-container-id-2\" class=\"sk-top-container\"><div class=\"sk-text-repr-fallback\"><pre>LogisticRegression(multi_class=&#x27;multinomial&#x27;, random_state=42)</pre><b>In a Jupyter environment, please rerun this cell to show the HTML representation or trust the notebook. <br />On GitHub, the HTML representation is unable to render, please try loading this page with nbviewer.org.</b></div><div class=\"sk-container\" hidden><div class=\"sk-item\"><div class=\"sk-estimator fitted sk-toggleable\"><input class=\"sk-toggleable__control sk-hidden--visually\" id=\"sk-estimator-id-2\" type=\"checkbox\" checked><label for=\"sk-estimator-id-2\" class=\"sk-toggleable__label fitted sk-toggleable__label-arrow fitted\">&nbsp;&nbsp;LogisticRegression<a class=\"sk-estimator-doc-link fitted\" rel=\"noreferrer\" target=\"_blank\" href=\"https://scikit-learn.org/1.5/modules/generated/sklearn.linear_model.LogisticRegression.html\">?<span>Documentation for LogisticRegression</span></a><span class=\"sk-estimator-doc-link fitted\">i<span>Fitted</span></span></label><div class=\"sk-toggleable__content fitted\"><pre>LogisticRegression(multi_class=&#x27;multinomial&#x27;, random_state=42)</pre></div> </div></div></div></div>"
      ],
      "text/plain": [
       "LogisticRegression(multi_class='multinomial', random_state=42)"
      ]
     },
     "execution_count": 59,
     "metadata": {},
     "output_type": "execute_result"
    }
   ],
   "source": [
    "LogModel_lda = LogisticRegression(multi_class = 'multinomial', solver='lbfgs', random_state=42)\n",
    "LogModel_lda.fit(X_Train_array_t, y_Train_array)"
   ]
  },
  {
   "cell_type": "code",
   "execution_count": null,
   "metadata": {},
   "outputs": [],
   "source": [
    "y_pred = LogModel_lda.predict(X_Test_array_t)"
   ]
  },
  {
   "cell_type": "code",
   "execution_count": null,
   "metadata": {},
   "outputs": [
    {
     "data": {
      "text/plain": [
       "array([[20,  0,  0],\n",
       "       [ 1, 23,  0],\n",
       "       [ 1,  0, 11]])"
      ]
     },
     "execution_count": 61,
     "metadata": {},
     "output_type": "execute_result"
    }
   ],
   "source": [
    "confusion_matrix(y_Test_array, y_pred)"
   ]
  },
  {
   "cell_type": "code",
   "execution_count": null,
   "metadata": {},
   "outputs": [
    {
     "data": {
      "text/plain": [
       "0.9285714285714286"
      ]
     },
     "execution_count": 62,
     "metadata": {},
     "output_type": "execute_result"
    }
   ],
   "source": [
    "Xlda.score(X_Test_array, y_pred)"
   ]
  },
  {
   "cell_type": "code",
   "execution_count": null,
   "metadata": {},
   "outputs": [
    {
     "name": "stdout",
     "output_type": "stream",
     "text": [
      "              precision    recall  f1-score   support\n",
      "\n",
      "           0       0.91      1.00      0.95        20\n",
      "           1       1.00      0.96      0.98        24\n",
      "           2       1.00      0.92      0.96        12\n",
      "\n",
      "    accuracy                           0.96        56\n",
      "   macro avg       0.97      0.96      0.96        56\n",
      "weighted avg       0.97      0.96      0.96        56\n",
      "\n"
     ]
    }
   ],
   "source": [
    "print(classification_report(y_Test_array,y_pred))"
   ]
  }
 ],
 "metadata": {
  "kernelspec": {
   "display_name": "labs",
   "language": "python",
   "name": "python3"
  },
  "language_info": {
   "codemirror_mode": {
    "name": "ipython",
    "version": 3
   },
   "file_extension": ".py",
   "mimetype": "text/x-python",
   "name": "python",
   "nbconvert_exporter": "python",
   "pygments_lexer": "ipython3",
   "version": "3.9.18"
  }
 },
 "nbformat": 4,
 "nbformat_minor": 2
}

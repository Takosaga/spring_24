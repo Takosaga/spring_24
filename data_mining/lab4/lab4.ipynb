{
 "cells": [
  {
   "cell_type": "markdown",
   "metadata": {},
   "source": [
    "# Lab 4"
   ]
  },
  {
   "cell_type": "code",
   "execution_count": 1,
   "metadata": {},
   "outputs": [],
   "source": [
    "import numpy as np\n",
    "import pandas as pd\n",
    "import matplotlib as plt\n",
    "import matplotlib.pyplot as plt\n",
    "import seaborn as sns\n",
    "from pandas.core.array_algos import replace\n",
    "from sklearn.preprocessing import StandardScaler\n",
    "import statsmodels.api as sm\n",
    "from statsmodels.formula.api import ols\n",
    "from sklearn.model_selection import train_test_split\n",
    "from sklearn.linear_model import LogisticRegression\n",
    "from sklearn.metrics import classification_report, confusion_matrix\n",
    "from sklearn.preprocessing import StandardScaler\n",
    "\n",
    "%matplotlib inline "
   ]
  },
  {
   "cell_type": "code",
   "execution_count": 2,
   "metadata": {},
   "outputs": [],
   "source": [
    "labels_df = pd.read_csv('lab2_classes.csv')"
   ]
  },
  {
   "cell_type": "code",
   "execution_count": 3,
   "metadata": {},
   "outputs": [
    {
     "data": {
      "text/html": [
       "<div>\n",
       "<style scoped>\n",
       "    .dataframe tbody tr th:only-of-type {\n",
       "        vertical-align: middle;\n",
       "    }\n",
       "\n",
       "    .dataframe tbody tr th {\n",
       "        vertical-align: top;\n",
       "    }\n",
       "\n",
       "    .dataframe thead th {\n",
       "        text-align: right;\n",
       "    }\n",
       "</style>\n",
       "<table border=\"1\" class=\"dataframe\">\n",
       "  <thead>\n",
       "    <tr style=\"text-align: right;\">\n",
       "      <th></th>\n",
       "      <th>Unnamed: 0</th>\n",
       "      <th>housing_median_age</th>\n",
       "      <th>total_rooms</th>\n",
       "      <th>total_bedrooms</th>\n",
       "      <th>population</th>\n",
       "      <th>households</th>\n",
       "      <th>median_income</th>\n",
       "      <th>median_house_value</th>\n",
       "      <th>labels_2_clusters</th>\n",
       "      <th>labels_3_clusters</th>\n",
       "      <th>labels_4_clusters</th>\n",
       "    </tr>\n",
       "  </thead>\n",
       "  <tbody>\n",
       "    <tr>\n",
       "      <th>0</th>\n",
       "      <td>0</td>\n",
       "      <td>39.0</td>\n",
       "      <td>2062.0</td>\n",
       "      <td>588.0</td>\n",
       "      <td>1933.0</td>\n",
       "      <td>570.0</td>\n",
       "      <td>1.3801</td>\n",
       "      <td>97000.0</td>\n",
       "      <td>1</td>\n",
       "      <td>1</td>\n",
       "      <td>1</td>\n",
       "    </tr>\n",
       "    <tr>\n",
       "      <th>1</th>\n",
       "      <td>1</td>\n",
       "      <td>35.0</td>\n",
       "      <td>1852.0</td>\n",
       "      <td>358.0</td>\n",
       "      <td>1414.0</td>\n",
       "      <td>347.0</td>\n",
       "      <td>4.2750</td>\n",
       "      <td>173600.0</td>\n",
       "      <td>1</td>\n",
       "      <td>0</td>\n",
       "      <td>0</td>\n",
       "    </tr>\n",
       "    <tr>\n",
       "      <th>2</th>\n",
       "      <td>2</td>\n",
       "      <td>9.0</td>\n",
       "      <td>2486.0</td>\n",
       "      <td>626.0</td>\n",
       "      <td>1938.0</td>\n",
       "      <td>525.0</td>\n",
       "      <td>2.1293</td>\n",
       "      <td>151400.0</td>\n",
       "      <td>1</td>\n",
       "      <td>1</td>\n",
       "      <td>0</td>\n",
       "    </tr>\n",
       "    <tr>\n",
       "      <th>3</th>\n",
       "      <td>3</td>\n",
       "      <td>20.0</td>\n",
       "      <td>37.0</td>\n",
       "      <td>11.0</td>\n",
       "      <td>34.0</td>\n",
       "      <td>8.0</td>\n",
       "      <td>1.2000</td>\n",
       "      <td>50000.0</td>\n",
       "      <td>1</td>\n",
       "      <td>1</td>\n",
       "      <td>1</td>\n",
       "    </tr>\n",
       "    <tr>\n",
       "      <th>4</th>\n",
       "      <td>4</td>\n",
       "      <td>26.0</td>\n",
       "      <td>3535.0</td>\n",
       "      <td>748.0</td>\n",
       "      <td>1322.0</td>\n",
       "      <td>666.0</td>\n",
       "      <td>7.1674</td>\n",
       "      <td>500001.0</td>\n",
       "      <td>0</td>\n",
       "      <td>2</td>\n",
       "      <td>3</td>\n",
       "    </tr>\n",
       "  </tbody>\n",
       "</table>\n",
       "</div>"
      ],
      "text/plain": [
       "   Unnamed: 0  housing_median_age  total_rooms  total_bedrooms  population  \\\n",
       "0           0                39.0       2062.0           588.0      1933.0   \n",
       "1           1                35.0       1852.0           358.0      1414.0   \n",
       "2           2                 9.0       2486.0           626.0      1938.0   \n",
       "3           3                20.0         37.0            11.0        34.0   \n",
       "4           4                26.0       3535.0           748.0      1322.0   \n",
       "\n",
       "   households  median_income  median_house_value  labels_2_clusters  \\\n",
       "0       570.0         1.3801             97000.0                  1   \n",
       "1       347.0         4.2750            173600.0                  1   \n",
       "2       525.0         2.1293            151400.0                  1   \n",
       "3         8.0         1.2000             50000.0                  1   \n",
       "4       666.0         7.1674            500001.0                  0   \n",
       "\n",
       "   labels_3_clusters  labels_4_clusters  \n",
       "0                  1                  1  \n",
       "1                  0                  0  \n",
       "2                  1                  0  \n",
       "3                  1                  1  \n",
       "4                  2                  3  "
      ]
     },
     "execution_count": 3,
     "metadata": {},
     "output_type": "execute_result"
    }
   ],
   "source": [
    "labels_df.head()"
   ]
  },
  {
   "cell_type": "code",
   "execution_count": 4,
   "metadata": {},
   "outputs": [
    {
     "data": {
      "text/plain": [
       "Index(['Unnamed: 0', 'housing_median_age', 'total_rooms', 'total_bedrooms',\n",
       "       'population', 'households', 'median_income', 'median_house_value',\n",
       "       'labels_2_clusters', 'labels_3_clusters', 'labels_4_clusters'],\n",
       "      dtype='object')"
      ]
     },
     "execution_count": 4,
     "metadata": {},
     "output_type": "execute_result"
    }
   ],
   "source": [
    "labels_df.columns"
   ]
  }
 ],
 "metadata": {
  "kernelspec": {
   "display_name": "labs",
   "language": "python",
   "name": "python3"
  },
  "language_info": {
   "codemirror_mode": {
    "name": "ipython",
    "version": 3
   },
   "file_extension": ".py",
   "mimetype": "text/x-python",
   "name": "python",
   "nbconvert_exporter": "python",
   "pygments_lexer": "ipython3",
   "version": "3.9.18"
  }
 },
 "nbformat": 4,
 "nbformat_minor": 2
}

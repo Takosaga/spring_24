{
  "nbformat": 4,
  "nbformat_minor": 0,
  "metadata": {
    "colab": {
      "provenance": [],
      "collapsed_sections": [
        "9ixMh62XS42I",
        "yfb8sotDTcpP",
        "YQwc-sC2WOrv",
        "u_PFv-qVZsC1",
        "wsDA7ZpFaSEM",
        "F4hZHZN3_VwA",
        "0zYVmyttcMp4",
        "NjmxFeZULfyi",
        "3YxHpMcgD9rf",
        "YVGphRzkB69r",
        "SkzgPvbr9WNu",
        "Ha-pd6D_ZgZI",
        "Mi6C4_hb0YHS",
        "pHuVujoP0e8M",
        "eDYTtZqHtJjR",
        "4p3BV5ARuI8V",
        "CSOEcX23-T0R",
        "qJ4-nIZu-oiP",
        "Dhpcn1r-Crbp",
        "3JJ0dukFDO8R"
      ]
    },
    "kernelspec": {
      "name": "python3",
      "display_name": "Python 3"
    },
    "language_info": {
      "name": "python"
    }
  },
  "cells": [
    {
      "cell_type": "markdown",
      "source": [
        "##  Import needed libraries"
      ],
      "metadata": {
        "id": "YMx-8P0ESy3K"
      }
    },
    {
      "cell_type": "code",
      "execution_count": 3,
      "metadata": {
        "id": "wMXRnlhONdFP"
      },
      "outputs": [],
      "source": [
        "import numpy as np\n",
        "import pandas as pd\n",
        "import matplotlib as plt\n",
        "import matplotlib.pyplot as plt\n",
        "import seaborn as sns\n",
        "from pandas.core.array_algos import replace\n",
        "from sklearn.preprocessing import StandardScaler\n",
        "import statsmodels.api as sm\n",
        "from statsmodels.formula.api import ols\n",
        "from sklearn.model_selection import train_test_split\n",
        "from sklearn.linear_model import LogisticRegression\n",
        "from sklearn.metrics import classification_report, confusion_matrix\n",
        "from sklearn.preprocessing import StandardScaler\n",
        "\n",
        "%matplotlib inline "
      ]
    },
    {
      "cell_type": "markdown",
      "source": [
        "## Read data from csv file with results of clustering.\n",
        "Variable 'labels' contains the information about the clusters formed by k-means method. Now these labels are considered as labels of classes for the task of classification."
      ],
      "metadata": {
        "id": "9ixMh62XS42I"
      }
    },
    {
      "cell_type": "code",
      "source": [
        "df = pd.read_csv('df_classes_3.csv')\n"
      ],
      "metadata": {
        "id": "Ghm95xA_Padk"
      },
      "execution_count": 4,
      "outputs": []
    },
    {
      "cell_type": "markdown",
      "source": [
        "## Data review and transformation.\n",
        "We need to exclude NA or Nulls in data, apply data rescaling by means of standard scaling approach. "
      ],
      "metadata": {
        "id": "yfb8sotDTcpP"
      }
    },
    {
      "cell_type": "code",
      "source": [
        "# information about the columns\n",
        "df.columns"
      ],
      "metadata": {
        "colab": {
          "base_uri": "https://localhost:8080/"
        },
        "id": "2WcCLYi67m8J",
        "outputId": "1efdb16b-9229-4f84-d4bf-6f2758625e36"
      },
      "execution_count": 5,
      "outputs": [
        {
          "output_type": "execute_result",
          "data": {
            "text/plain": [
              "Index(['price', 'bedrooms', 'bathrooms', 'sqft_living', 'sqft_lot', 'floors',\n",
              "       'grade', 'sqft_above', 'sqft_basement', 'lat', 'long', 'sqft_living15',\n",
              "       'sqft_lot15', 'labels'],\n",
              "      dtype='object')"
            ]
          },
          "metadata": {},
          "execution_count": 5
        }
      ]
    },
    {
      "cell_type": "code",
      "source": [
        "# review of data frame information: dimention, list of variables/features with information about the data type\n",
        "df.info()"
      ],
      "metadata": {
        "colab": {
          "base_uri": "https://localhost:8080/"
        },
        "id": "Z8HALFhWRAaV",
        "outputId": "9a991062-a373-482a-edbb-0dbef1a9b926"
      },
      "execution_count": 6,
      "outputs": [
        {
          "output_type": "stream",
          "name": "stdout",
          "text": [
            "<class 'pandas.core.frame.DataFrame'>\n",
            "RangeIndex: 21611 entries, 0 to 21610\n",
            "Data columns (total 14 columns):\n",
            " #   Column         Non-Null Count  Dtype  \n",
            "---  ------         --------------  -----  \n",
            " 0   price          21611 non-null  float64\n",
            " 1   bedrooms       21611 non-null  int64  \n",
            " 2   bathrooms      21611 non-null  float64\n",
            " 3   sqft_living    21611 non-null  int64  \n",
            " 4   sqft_lot       21611 non-null  int64  \n",
            " 5   floors         21611 non-null  float64\n",
            " 6   grade          21611 non-null  int64  \n",
            " 7   sqft_above     21611 non-null  float64\n",
            " 8   sqft_basement  21611 non-null  int64  \n",
            " 9   lat            21611 non-null  float64\n",
            " 10  long           21611 non-null  float64\n",
            " 11  sqft_living15  21611 non-null  int64  \n",
            " 12  sqft_lot15     21611 non-null  int64  \n",
            " 13  labels         21611 non-null  int64  \n",
            "dtypes: float64(6), int64(8)\n",
            "memory usage: 2.3 MB\n"
          ]
        }
      ]
    },
    {
      "cell_type": "code",
      "source": [
        "# check the na records in dataframe\n",
        "df.isna().sum()"
      ],
      "metadata": {
        "colab": {
          "base_uri": "https://localhost:8080/"
        },
        "id": "k6Vl9U5sbIOi",
        "outputId": "f43acfee-87db-4d3a-cf52-52b30c83e638"
      },
      "execution_count": 7,
      "outputs": [
        {
          "output_type": "execute_result",
          "data": {
            "text/plain": [
              "price            0\n",
              "bedrooms         0\n",
              "bathrooms        0\n",
              "sqft_living      0\n",
              "sqft_lot         0\n",
              "floors           0\n",
              "grade            0\n",
              "sqft_above       0\n",
              "sqft_basement    0\n",
              "lat              0\n",
              "long             0\n",
              "sqft_living15    0\n",
              "sqft_lot15       0\n",
              "labels           0\n",
              "dtype: int64"
            ]
          },
          "metadata": {},
          "execution_count": 7
        }
      ]
    },
    {
      "cell_type": "code",
      "source": [
        "df['labels'].value_counts()"
      ],
      "metadata": {
        "colab": {
          "base_uri": "https://localhost:8080/"
        },
        "id": "G1AQdD0QLSeo",
        "outputId": "45943262-5245-4ba0-a8e1-548b7d0eb368"
      },
      "execution_count": 8,
      "outputs": [
        {
          "output_type": "execute_result",
          "data": {
            "text/plain": [
              "2    14884\n",
              "0     6070\n",
              "1      657\n",
              "Name: labels, dtype: int64"
            ]
          },
          "metadata": {},
          "execution_count": 8
        }
      ]
    },
    {
      "cell_type": "code",
      "source": [
        "# create the train, test data samples by means of train_test_split function\n",
        "X_train, X_test, y_train, y_test = train_test_split(df.drop('labels', axis=1), \n",
        "                                                    df['labels'],\n",
        "                                                    test_size=0.3,\n",
        "                                                    random_state=100)"
      ],
      "metadata": {
        "id": "vASwpGGGVK4Q"
      },
      "execution_count": 9,
      "outputs": []
    },
    {
      "cell_type": "markdown",
      "source": [
        "## Logistic Regression Model (LRM) Creation \n",
        "### LRM creation on the base of original data"
      ],
      "metadata": {
        "id": "YQwc-sC2WOrv"
      }
    },
    {
      "cell_type": "code",
      "source": [
        "# create Logistic Regression model\n",
        "logmodel = LogisticRegression(random_state=100,solver='lbfgs')\n",
        "logmodel.fit(X_train, y_train)"
      ],
      "metadata": {
        "colab": {
          "base_uri": "https://localhost:8080/",
          "height": 213
        },
        "id": "OdxH1WmJVCVo",
        "outputId": "586e0a5d-8438-4f3e-9769-a228676e7362"
      },
      "execution_count": 10,
      "outputs": [
        {
          "output_type": "stream",
          "name": "stderr",
          "text": [
            "/usr/local/lib/python3.10/dist-packages/sklearn/linear_model/_logistic.py:458: ConvergenceWarning: lbfgs failed to converge (status=1):\n",
            "STOP: TOTAL NO. of ITERATIONS REACHED LIMIT.\n",
            "\n",
            "Increase the number of iterations (max_iter) or scale the data as shown in:\n",
            "    https://scikit-learn.org/stable/modules/preprocessing.html\n",
            "Please also refer to the documentation for alternative solver options:\n",
            "    https://scikit-learn.org/stable/modules/linear_model.html#logistic-regression\n",
            "  n_iter_i = _check_optimize_result(\n"
          ]
        },
        {
          "output_type": "execute_result",
          "data": {
            "text/plain": [
              "LogisticRegression(random_state=100)"
            ],
            "text/html": [
              "<style>#sk-container-id-1 {color: black;background-color: white;}#sk-container-id-1 pre{padding: 0;}#sk-container-id-1 div.sk-toggleable {background-color: white;}#sk-container-id-1 label.sk-toggleable__label {cursor: pointer;display: block;width: 100%;margin-bottom: 0;padding: 0.3em;box-sizing: border-box;text-align: center;}#sk-container-id-1 label.sk-toggleable__label-arrow:before {content: \"▸\";float: left;margin-right: 0.25em;color: #696969;}#sk-container-id-1 label.sk-toggleable__label-arrow:hover:before {color: black;}#sk-container-id-1 div.sk-estimator:hover label.sk-toggleable__label-arrow:before {color: black;}#sk-container-id-1 div.sk-toggleable__content {max-height: 0;max-width: 0;overflow: hidden;text-align: left;background-color: #f0f8ff;}#sk-container-id-1 div.sk-toggleable__content pre {margin: 0.2em;color: black;border-radius: 0.25em;background-color: #f0f8ff;}#sk-container-id-1 input.sk-toggleable__control:checked~div.sk-toggleable__content {max-height: 200px;max-width: 100%;overflow: auto;}#sk-container-id-1 input.sk-toggleable__control:checked~label.sk-toggleable__label-arrow:before {content: \"▾\";}#sk-container-id-1 div.sk-estimator input.sk-toggleable__control:checked~label.sk-toggleable__label {background-color: #d4ebff;}#sk-container-id-1 div.sk-label input.sk-toggleable__control:checked~label.sk-toggleable__label {background-color: #d4ebff;}#sk-container-id-1 input.sk-hidden--visually {border: 0;clip: rect(1px 1px 1px 1px);clip: rect(1px, 1px, 1px, 1px);height: 1px;margin: -1px;overflow: hidden;padding: 0;position: absolute;width: 1px;}#sk-container-id-1 div.sk-estimator {font-family: monospace;background-color: #f0f8ff;border: 1px dotted black;border-radius: 0.25em;box-sizing: border-box;margin-bottom: 0.5em;}#sk-container-id-1 div.sk-estimator:hover {background-color: #d4ebff;}#sk-container-id-1 div.sk-parallel-item::after {content: \"\";width: 100%;border-bottom: 1px solid gray;flex-grow: 1;}#sk-container-id-1 div.sk-label:hover label.sk-toggleable__label {background-color: #d4ebff;}#sk-container-id-1 div.sk-serial::before {content: \"\";position: absolute;border-left: 1px solid gray;box-sizing: border-box;top: 0;bottom: 0;left: 50%;z-index: 0;}#sk-container-id-1 div.sk-serial {display: flex;flex-direction: column;align-items: center;background-color: white;padding-right: 0.2em;padding-left: 0.2em;position: relative;}#sk-container-id-1 div.sk-item {position: relative;z-index: 1;}#sk-container-id-1 div.sk-parallel {display: flex;align-items: stretch;justify-content: center;background-color: white;position: relative;}#sk-container-id-1 div.sk-item::before, #sk-container-id-1 div.sk-parallel-item::before {content: \"\";position: absolute;border-left: 1px solid gray;box-sizing: border-box;top: 0;bottom: 0;left: 50%;z-index: -1;}#sk-container-id-1 div.sk-parallel-item {display: flex;flex-direction: column;z-index: 1;position: relative;background-color: white;}#sk-container-id-1 div.sk-parallel-item:first-child::after {align-self: flex-end;width: 50%;}#sk-container-id-1 div.sk-parallel-item:last-child::after {align-self: flex-start;width: 50%;}#sk-container-id-1 div.sk-parallel-item:only-child::after {width: 0;}#sk-container-id-1 div.sk-dashed-wrapped {border: 1px dashed gray;margin: 0 0.4em 0.5em 0.4em;box-sizing: border-box;padding-bottom: 0.4em;background-color: white;}#sk-container-id-1 div.sk-label label {font-family: monospace;font-weight: bold;display: inline-block;line-height: 1.2em;}#sk-container-id-1 div.sk-label-container {text-align: center;}#sk-container-id-1 div.sk-container {/* jupyter's `normalize.less` sets `[hidden] { display: none; }` but bootstrap.min.css set `[hidden] { display: none !important; }` so we also need the `!important` here to be able to override the default hidden behavior on the sphinx rendered scikit-learn.org. See: https://github.com/scikit-learn/scikit-learn/issues/21755 */display: inline-block !important;position: relative;}#sk-container-id-1 div.sk-text-repr-fallback {display: none;}</style><div id=\"sk-container-id-1\" class=\"sk-top-container\"><div class=\"sk-text-repr-fallback\"><pre>LogisticRegression(random_state=100)</pre><b>In a Jupyter environment, please rerun this cell to show the HTML representation or trust the notebook. <br />On GitHub, the HTML representation is unable to render, please try loading this page with nbviewer.org.</b></div><div class=\"sk-container\" hidden><div class=\"sk-item\"><div class=\"sk-estimator sk-toggleable\"><input class=\"sk-toggleable__control sk-hidden--visually\" id=\"sk-estimator-id-1\" type=\"checkbox\" checked><label for=\"sk-estimator-id-1\" class=\"sk-toggleable__label sk-toggleable__label-arrow\">LogisticRegression</label><div class=\"sk-toggleable__content\"><pre>LogisticRegression(random_state=100)</pre></div></div></div></div></div>"
            ]
          },
          "metadata": {},
          "execution_count": 10
        }
      ]
    },
    {
      "cell_type": "code",
      "source": [
        "logmodel.classes_"
      ],
      "metadata": {
        "colab": {
          "base_uri": "https://localhost:8080/"
        },
        "id": "hrLm49wgVl7w",
        "outputId": "7aa62c69-c329-479f-f02e-10dd375cea4f"
      },
      "execution_count": 11,
      "outputs": [
        {
          "output_type": "execute_result",
          "data": {
            "text/plain": [
              "array([0, 1, 2])"
            ]
          },
          "metadata": {},
          "execution_count": 11
        }
      ]
    },
    {
      "cell_type": "code",
      "source": [
        "# get the inetrcepts for logistic regression models\n",
        "print('Logistic regression models coefficients of intercepts: ', logmodel.intercept_)"
      ],
      "metadata": {
        "colab": {
          "base_uri": "https://localhost:8080/"
        },
        "id": "R_qE7qmnY-D8",
        "outputId": "34ec4bf6-8b31-4ebd-e543-6e6863b15bc3"
      },
      "execution_count": 12,
      "outputs": [
        {
          "output_type": "stream",
          "name": "stdout",
          "text": [
            "Logistic regression models coefficients of intercepts:  [-4.42024254e-07 -3.30466792e-07  7.72491046e-07]\n"
          ]
        }
      ]
    },
    {
      "cell_type": "code",
      "source": [
        "# get the coefficients for logistic regression models\n",
        "print('Logistic regression models coefficients: ',logmodel.coef_)"
      ],
      "metadata": {
        "colab": {
          "base_uri": "https://localhost:8080/"
        },
        "id": "XE4rz-faVxkk",
        "outputId": "92d44ed5-c559-44a6-b316-47032f769791"
      },
      "execution_count": 13,
      "outputs": [
        {
          "output_type": "stream",
          "name": "stdout",
          "text": [
            "Logistic regression models coefficients:  [[ 2.51922621e-06 -1.05384382e-06 -4.59113305e-07 -1.78639959e-04\n",
            "   6.09867349e-06 -4.21386929e-07 -2.41806484e-06 -1.61121423e-04\n",
            "  -1.75185361e-05 -2.09670381e-05  5.40499697e-05 -3.20218727e-04\n",
            "   1.69113195e-05]\n",
            " [ 2.63480508e-06 -9.50584713e-07 -5.15175855e-07 -3.30395321e-04\n",
            "  -2.18915886e-06 -4.92984976e-07 -2.16412702e-06 -2.99767535e-04\n",
            "  -3.06277863e-05 -1.57200935e-05  4.04036730e-05 -4.13578904e-04\n",
            "  -4.17528313e-05]\n",
            " [-5.15403129e-06  2.00442854e-06  9.74289160e-07  5.09035280e-04\n",
            "  -3.90951463e-06  9.14371905e-07  4.58219186e-06  4.60888958e-04\n",
            "   4.81463224e-05  3.66871316e-05 -9.44536427e-05  7.33797631e-04\n",
            "   2.48415118e-05]]\n"
          ]
        }
      ]
    },
    {
      "cell_type": "code",
      "source": [
        "# Generate prediction based on testing data sample\n",
        "predictions = logmodel.predict(X_test)"
      ],
      "metadata": {
        "id": "KD5NDSh2WXs6"
      },
      "execution_count": 14,
      "outputs": []
    },
    {
      "cell_type": "markdown",
      "source": [
        "### Evaluate the models quality"
      ],
      "metadata": {
        "id": "u_PFv-qVZsC1"
      }
    },
    {
      "cell_type": "code",
      "source": [
        "#Generate the confusion matrix\n",
        "confusion_matrix(predictions, y_test )"
      ],
      "metadata": {
        "colab": {
          "base_uri": "https://localhost:8080/"
        },
        "id": "NWN2Ozj1Wh20",
        "outputId": "b2b75e5d-ceb7-4a5d-87d3-a08fc0c308cd"
      },
      "execution_count": 15,
      "outputs": [
        {
          "output_type": "execute_result",
          "data": {
            "text/plain": [
              "array([[ 967,  194,  770],\n",
              "       [   0,    0,    0],\n",
              "       [ 798,    3, 3752]])"
            ]
          },
          "metadata": {},
          "execution_count": 15
        }
      ]
    },
    {
      "cell_type": "code",
      "source": [
        "#Generate the created classification models' performamce measures: precision, recall, f1-score, accuracy\n",
        "print(classification_report(y_test, predictions))"
      ],
      "metadata": {
        "colab": {
          "base_uri": "https://localhost:8080/"
        },
        "id": "SoGY9XNsW4nP",
        "outputId": "18e06a01-7a39-41c5-e31b-8828034e644c"
      },
      "execution_count": 16,
      "outputs": [
        {
          "output_type": "stream",
          "name": "stdout",
          "text": [
            "              precision    recall  f1-score   support\n",
            "\n",
            "           0       0.50      0.55      0.52      1765\n",
            "           1       0.00      0.00      0.00       197\n",
            "           2       0.82      0.83      0.83      4522\n",
            "\n",
            "    accuracy                           0.73      6484\n",
            "   macro avg       0.44      0.46      0.45      6484\n",
            "weighted avg       0.71      0.73      0.72      6484\n",
            "\n"
          ]
        },
        {
          "output_type": "stream",
          "name": "stderr",
          "text": [
            "/usr/local/lib/python3.10/dist-packages/sklearn/metrics/_classification.py:1344: UndefinedMetricWarning: Precision and F-score are ill-defined and being set to 0.0 in labels with no predicted samples. Use `zero_division` parameter to control this behavior.\n",
            "  _warn_prf(average, modifier, msg_start, len(result))\n",
            "/usr/local/lib/python3.10/dist-packages/sklearn/metrics/_classification.py:1344: UndefinedMetricWarning: Precision and F-score are ill-defined and being set to 0.0 in labels with no predicted samples. Use `zero_division` parameter to control this behavior.\n",
            "  _warn_prf(average, modifier, msg_start, len(result))\n",
            "/usr/local/lib/python3.10/dist-packages/sklearn/metrics/_classification.py:1344: UndefinedMetricWarning: Precision and F-score are ill-defined and being set to 0.0 in labels with no predicted samples. Use `zero_division` parameter to control this behavior.\n",
            "  _warn_prf(average, modifier, msg_start, len(result))\n"
          ]
        }
      ]
    },
    {
      "cell_type": "markdown",
      "source": [
        "## LRM creation on the base of scaled data"
      ],
      "metadata": {
        "id": "wsDA7ZpFaSEM"
      }
    },
    {
      "cell_type": "markdown",
      "source": [
        "### Data scaling and preperation for modelling"
      ],
      "metadata": {
        "id": "F4hZHZN3_VwA"
      }
    },
    {
      "cell_type": "code",
      "source": [
        "#call the standard scaler object \n",
        "scaler = StandardScaler()"
      ],
      "metadata": {
        "id": "eFSVAOPkY7By"
      },
      "execution_count": 17,
      "outputs": []
    },
    {
      "cell_type": "code",
      "source": [
        "#List of columns\n",
        "df.columns"
      ],
      "metadata": {
        "colab": {
          "base_uri": "https://localhost:8080/"
        },
        "id": "0Jghjisw_bWc",
        "outputId": "55947f02-ffba-4836-bf62-514c61db6128"
      },
      "execution_count": 18,
      "outputs": [
        {
          "output_type": "execute_result",
          "data": {
            "text/plain": [
              "Index(['price', 'bedrooms', 'bathrooms', 'sqft_living', 'sqft_lot', 'floors',\n",
              "       'grade', 'sqft_above', 'sqft_basement', 'lat', 'long', 'sqft_living15',\n",
              "       'sqft_lot15', 'labels'],\n",
              "      dtype='object')"
            ]
          },
          "metadata": {},
          "execution_count": 18
        }
      ]
    },
    {
      "cell_type": "code",
      "source": [
        "#Create the dataframes with numerical and separately categorical variables. The reason of it: to separate the numerical variables which should be rescaled\n",
        "df_for_scaling = df[['price', 'bedrooms', 'bathrooms', 'sqft_living', 'sqft_lot', 'floors',\n",
        "       'grade', 'sqft_above', 'sqft_basement', 'lat', 'long', 'sqft_living15',\n",
        "       'sqft_lot15']]\n",
        "\n",
        "scaled_columns = df_for_scaling.columns\n",
        "\n",
        "df_not_scaled = df[[ 'labels']]"
      ],
      "metadata": {
        "id": "QupdMrcR_oD6"
      },
      "execution_count": 19,
      "outputs": []
    },
    {
      "cell_type": "code",
      "source": [
        "# convert the dataframe to array data type\n",
        "array = df_for_scaling.values"
      ],
      "metadata": {
        "id": "BLlI40V___iI"
      },
      "execution_count": 20,
      "outputs": []
    },
    {
      "cell_type": "code",
      "source": [
        "#apply the numerical variables scaling\n",
        "array_scaled = scaler.fit_transform(array)\n",
        "print(array_scaled)"
      ],
      "metadata": {
        "id": "jFuaKew-ASx3",
        "colab": {
          "base_uri": "https://localhost:8080/"
        },
        "outputId": "6855ae79-b5e3-4bea-fb5f-e9408f40c4fe"
      },
      "execution_count": 21,
      "outputs": [
        {
          "output_type": "stream",
          "name": "stdout",
          "text": [
            "[[-0.86667142 -0.39871154 -1.44751897 ... -0.30609222 -0.94333079\n",
            "  -0.26072491]\n",
            " [-0.00567919 -0.39871154  0.17556427 ... -0.74634533 -0.43268059\n",
            "  -0.18788041]\n",
            " [-0.98079852 -1.47389933 -1.44751897 ... -0.13567167  1.07009\n",
            "  -0.17238859]\n",
            " ...\n",
            " [-0.37584048 -1.47389933 -1.77213562 ... -0.6043282  -1.41021098\n",
            "  -0.39414498]\n",
            " [-0.38156318 -0.39871154  0.50018091 ...  1.02886879 -0.84120075\n",
            "  -0.42051403]\n",
            " [-0.58584795 -1.47389933 -1.77213562 ... -0.6043282  -1.41021098\n",
            "  -0.41795037]]\n"
          ]
        }
      ]
    },
    {
      "cell_type": "code",
      "source": [
        "#Convert the scaled array to dataframe\n",
        "df_scaled = pd.DataFrame(array_scaled, columns = scaled_columns )"
      ],
      "metadata": {
        "id": "ZABuzSEcAY_2"
      },
      "execution_count": 22,
      "outputs": []
    },
    {
      "cell_type": "code",
      "source": [
        "#merge the dataframe with scaled data with notnumerical data to one dataframe\n",
        "df_new = pd.merge(df_scaled, df_not_scaled, left_index=True, right_index=True)"
      ],
      "metadata": {
        "id": "JI13iUeRt12P"
      },
      "execution_count": 23,
      "outputs": []
    },
    {
      "cell_type": "code",
      "source": [
        "df_new.info()"
      ],
      "metadata": {
        "colab": {
          "base_uri": "https://localhost:8080/"
        },
        "id": "mBg6gnJ0cBd9",
        "outputId": "370dafb7-b8e8-43dd-99a4-3ba8cdb01a65"
      },
      "execution_count": 24,
      "outputs": [
        {
          "output_type": "stream",
          "name": "stdout",
          "text": [
            "<class 'pandas.core.frame.DataFrame'>\n",
            "RangeIndex: 21611 entries, 0 to 21610\n",
            "Data columns (total 14 columns):\n",
            " #   Column         Non-Null Count  Dtype  \n",
            "---  ------         --------------  -----  \n",
            " 0   price          21611 non-null  float64\n",
            " 1   bedrooms       21611 non-null  float64\n",
            " 2   bathrooms      21611 non-null  float64\n",
            " 3   sqft_living    21611 non-null  float64\n",
            " 4   sqft_lot       21611 non-null  float64\n",
            " 5   floors         21611 non-null  float64\n",
            " 6   grade          21611 non-null  float64\n",
            " 7   sqft_above     21611 non-null  float64\n",
            " 8   sqft_basement  21611 non-null  float64\n",
            " 9   lat            21611 non-null  float64\n",
            " 10  long           21611 non-null  float64\n",
            " 11  sqft_living15  21611 non-null  float64\n",
            " 12  sqft_lot15     21611 non-null  float64\n",
            " 13  labels         21611 non-null  int64  \n",
            "dtypes: float64(13), int64(1)\n",
            "memory usage: 2.3 MB\n"
          ]
        }
      ]
    },
    {
      "cell_type": "code",
      "source": [
        "#create the train and test data samples for logistic regression models creation\n",
        "X_train_sc, X_test_sc, y_train_sc, y_test_sc = train_test_split(df_new.drop('labels', axis=1), df_new['labels'], test_size = 0.3, random_state=100 )"
      ],
      "metadata": {
        "id": "1Z_V8e7Oxzze"
      },
      "execution_count": 25,
      "outputs": []
    },
    {
      "cell_type": "markdown",
      "source": [
        "### Logistic Regression Models Creation on the base of scaled data"
      ],
      "metadata": {
        "id": "0zYVmyttcMp4"
      }
    },
    {
      "cell_type": "code",
      "source": [
        "#LRM creation on the base of scaled data\n",
        "logmodel_scaled = LogisticRegression(multi_class='multinomial',random_state=100,solver='lbfgs')\n",
        "logmodel_scaled.fit(X_train_sc, y_train_sc)"
      ],
      "metadata": {
        "id": "nWaLzhQIHD35",
        "colab": {
          "base_uri": "https://localhost:8080/",
          "height": 0
        },
        "outputId": "dc8b6a25-9d5b-4a02-dad6-35c1fb745a92"
      },
      "execution_count": 26,
      "outputs": [
        {
          "output_type": "stream",
          "name": "stderr",
          "text": [
            "/usr/local/lib/python3.10/dist-packages/sklearn/linear_model/_logistic.py:458: ConvergenceWarning: lbfgs failed to converge (status=1):\n",
            "STOP: TOTAL NO. of ITERATIONS REACHED LIMIT.\n",
            "\n",
            "Increase the number of iterations (max_iter) or scale the data as shown in:\n",
            "    https://scikit-learn.org/stable/modules/preprocessing.html\n",
            "Please also refer to the documentation for alternative solver options:\n",
            "    https://scikit-learn.org/stable/modules/linear_model.html#logistic-regression\n",
            "  n_iter_i = _check_optimize_result(\n"
          ]
        },
        {
          "output_type": "execute_result",
          "data": {
            "text/plain": [
              "LogisticRegression(multi_class='multinomial', random_state=100)"
            ],
            "text/html": [
              "<style>#sk-container-id-2 {color: black;background-color: white;}#sk-container-id-2 pre{padding: 0;}#sk-container-id-2 div.sk-toggleable {background-color: white;}#sk-container-id-2 label.sk-toggleable__label {cursor: pointer;display: block;width: 100%;margin-bottom: 0;padding: 0.3em;box-sizing: border-box;text-align: center;}#sk-container-id-2 label.sk-toggleable__label-arrow:before {content: \"▸\";float: left;margin-right: 0.25em;color: #696969;}#sk-container-id-2 label.sk-toggleable__label-arrow:hover:before {color: black;}#sk-container-id-2 div.sk-estimator:hover label.sk-toggleable__label-arrow:before {color: black;}#sk-container-id-2 div.sk-toggleable__content {max-height: 0;max-width: 0;overflow: hidden;text-align: left;background-color: #f0f8ff;}#sk-container-id-2 div.sk-toggleable__content pre {margin: 0.2em;color: black;border-radius: 0.25em;background-color: #f0f8ff;}#sk-container-id-2 input.sk-toggleable__control:checked~div.sk-toggleable__content {max-height: 200px;max-width: 100%;overflow: auto;}#sk-container-id-2 input.sk-toggleable__control:checked~label.sk-toggleable__label-arrow:before {content: \"▾\";}#sk-container-id-2 div.sk-estimator input.sk-toggleable__control:checked~label.sk-toggleable__label {background-color: #d4ebff;}#sk-container-id-2 div.sk-label input.sk-toggleable__control:checked~label.sk-toggleable__label {background-color: #d4ebff;}#sk-container-id-2 input.sk-hidden--visually {border: 0;clip: rect(1px 1px 1px 1px);clip: rect(1px, 1px, 1px, 1px);height: 1px;margin: -1px;overflow: hidden;padding: 0;position: absolute;width: 1px;}#sk-container-id-2 div.sk-estimator {font-family: monospace;background-color: #f0f8ff;border: 1px dotted black;border-radius: 0.25em;box-sizing: border-box;margin-bottom: 0.5em;}#sk-container-id-2 div.sk-estimator:hover {background-color: #d4ebff;}#sk-container-id-2 div.sk-parallel-item::after {content: \"\";width: 100%;border-bottom: 1px solid gray;flex-grow: 1;}#sk-container-id-2 div.sk-label:hover label.sk-toggleable__label {background-color: #d4ebff;}#sk-container-id-2 div.sk-serial::before {content: \"\";position: absolute;border-left: 1px solid gray;box-sizing: border-box;top: 0;bottom: 0;left: 50%;z-index: 0;}#sk-container-id-2 div.sk-serial {display: flex;flex-direction: column;align-items: center;background-color: white;padding-right: 0.2em;padding-left: 0.2em;position: relative;}#sk-container-id-2 div.sk-item {position: relative;z-index: 1;}#sk-container-id-2 div.sk-parallel {display: flex;align-items: stretch;justify-content: center;background-color: white;position: relative;}#sk-container-id-2 div.sk-item::before, #sk-container-id-2 div.sk-parallel-item::before {content: \"\";position: absolute;border-left: 1px solid gray;box-sizing: border-box;top: 0;bottom: 0;left: 50%;z-index: -1;}#sk-container-id-2 div.sk-parallel-item {display: flex;flex-direction: column;z-index: 1;position: relative;background-color: white;}#sk-container-id-2 div.sk-parallel-item:first-child::after {align-self: flex-end;width: 50%;}#sk-container-id-2 div.sk-parallel-item:last-child::after {align-self: flex-start;width: 50%;}#sk-container-id-2 div.sk-parallel-item:only-child::after {width: 0;}#sk-container-id-2 div.sk-dashed-wrapped {border: 1px dashed gray;margin: 0 0.4em 0.5em 0.4em;box-sizing: border-box;padding-bottom: 0.4em;background-color: white;}#sk-container-id-2 div.sk-label label {font-family: monospace;font-weight: bold;display: inline-block;line-height: 1.2em;}#sk-container-id-2 div.sk-label-container {text-align: center;}#sk-container-id-2 div.sk-container {/* jupyter's `normalize.less` sets `[hidden] { display: none; }` but bootstrap.min.css set `[hidden] { display: none !important; }` so we also need the `!important` here to be able to override the default hidden behavior on the sphinx rendered scikit-learn.org. See: https://github.com/scikit-learn/scikit-learn/issues/21755 */display: inline-block !important;position: relative;}#sk-container-id-2 div.sk-text-repr-fallback {display: none;}</style><div id=\"sk-container-id-2\" class=\"sk-top-container\"><div class=\"sk-text-repr-fallback\"><pre>LogisticRegression(multi_class=&#x27;multinomial&#x27;, random_state=100)</pre><b>In a Jupyter environment, please rerun this cell to show the HTML representation or trust the notebook. <br />On GitHub, the HTML representation is unable to render, please try loading this page with nbviewer.org.</b></div><div class=\"sk-container\" hidden><div class=\"sk-item\"><div class=\"sk-estimator sk-toggleable\"><input class=\"sk-toggleable__control sk-hidden--visually\" id=\"sk-estimator-id-2\" type=\"checkbox\" checked><label for=\"sk-estimator-id-2\" class=\"sk-toggleable__label sk-toggleable__label-arrow\">LogisticRegression</label><div class=\"sk-toggleable__content\"><pre>LogisticRegression(multi_class=&#x27;multinomial&#x27;, random_state=100)</pre></div></div></div></div></div>"
            ]
          },
          "metadata": {},
          "execution_count": 26
        }
      ]
    },
    {
      "cell_type": "code",
      "source": [
        "# get the inetrcepts for logistic regression models\n",
        "print('Logistic regression models coefficients of intercepts: ', logmodel_scaled.intercept_)"
      ],
      "metadata": {
        "colab": {
          "base_uri": "https://localhost:8080/"
        },
        "id": "8ZVCExD112He",
        "outputId": "81d594c0-8146-40de-d05e-0bc9ffb8685b"
      },
      "execution_count": 27,
      "outputs": [
        {
          "output_type": "stream",
          "name": "stdout",
          "text": [
            "Logistic regression models coefficients of intercepts:  [  4.44685675 -11.93785338   7.49099663]\n"
          ]
        }
      ]
    },
    {
      "cell_type": "code",
      "source": [
        "# get the coefficients for logistic regression models\n",
        "print('Logistic regression models coefficients: ',logmodel_scaled.coef_)"
      ],
      "metadata": {
        "colab": {
          "base_uri": "https://localhost:8080/"
        },
        "id": "D7IDa5Nh2Ck3",
        "outputId": "d2ff8913-a166-42d9-ea07-df2f13a84b00"
      },
      "execution_count": 28,
      "outputs": [
        {
          "output_type": "stream",
          "name": "stdout",
          "text": [
            "Logistic regression models coefficients:  [[ 5.71582643e+00  2.60601178e-02  4.28352456e-02 -1.05887245e-02\n",
            "  -2.44803332e-03 -5.37927601e-02 -5.63801243e-03 -2.48710313e-02\n",
            "   2.45690175e-02  1.90459039e-02  4.80553768e-02  1.74204344e-02\n",
            "  -2.08671640e-02]\n",
            " [ 1.25199055e+01 -2.33334461e-02 -6.10727743e-02  4.59266834e-02\n",
            "   1.45313695e-02  1.56642161e-01  1.46245825e-01  3.84135279e-02\n",
            "   2.34329201e-02  9.58128648e-02 -9.04650457e-02  4.76024746e-02\n",
            "   1.21267555e-01]\n",
            " [-1.82357319e+01 -2.72667171e-03  1.82375286e-02 -3.53379589e-02\n",
            "  -1.20833362e-02 -1.02849401e-01 -1.40607812e-01 -1.35424966e-02\n",
            "  -4.80019376e-02 -1.14858769e-01  4.24096689e-02 -6.50229090e-02\n",
            "  -1.00400391e-01]]\n"
          ]
        }
      ]
    },
    {
      "cell_type": "code",
      "source": [
        "#prediction on the base of test data sample\n",
        "predicts_sc_test = logmodel_scaled.predict(X_test_sc)"
      ],
      "metadata": {
        "id": "g6wItsft2IjH"
      },
      "execution_count": 29,
      "outputs": []
    },
    {
      "cell_type": "code",
      "source": [
        "#Generation of confusion matrix\n",
        "confusion_matrix(y_test_sc, predicts_sc_test)"
      ],
      "metadata": {
        "colab": {
          "base_uri": "https://localhost:8080/"
        },
        "id": "bhjuFup02qS5",
        "outputId": "359e421a-c9e1-461e-cafd-04b967fef02d"
      },
      "execution_count": 30,
      "outputs": [
        {
          "output_type": "execute_result",
          "data": {
            "text/plain": [
              "array([[1755,    0,   10],\n",
              "       [   7,  190,    0],\n",
              "       [   2,    0, 4520]])"
            ]
          },
          "metadata": {},
          "execution_count": 30
        }
      ]
    },
    {
      "cell_type": "code",
      "source": [
        "#Generation of classification report\n",
        "print(classification_report(y_test_sc, predicts_sc_test))"
      ],
      "metadata": {
        "colab": {
          "base_uri": "https://localhost:8080/"
        },
        "id": "9wuf6zgj2xB5",
        "outputId": "c5402923-7135-49c6-9c89-63e1741f431d"
      },
      "execution_count": 31,
      "outputs": [
        {
          "output_type": "stream",
          "name": "stdout",
          "text": [
            "              precision    recall  f1-score   support\n",
            "\n",
            "           0       0.99      0.99      0.99      1765\n",
            "           1       1.00      0.96      0.98       197\n",
            "           2       1.00      1.00      1.00      4522\n",
            "\n",
            "    accuracy                           1.00      6484\n",
            "   macro avg       1.00      0.99      0.99      6484\n",
            "weighted avg       1.00      1.00      1.00      6484\n",
            "\n"
          ]
        }
      ]
    },
    {
      "cell_type": "markdown",
      "source": [
        "## Discriminant Analysis\n"
      ],
      "metadata": {
        "id": "NjmxFeZULfyi"
      }
    },
    {
      "cell_type": "markdown",
      "source": [
        "### Linear Discriminant model creation based on scaled data"
      ],
      "metadata": {
        "id": "3YxHpMcgD9rf"
      }
    },
    {
      "cell_type": "code",
      "source": [
        "# import library for Linear discriminant Analysis\n",
        "from sklearn.discriminant_analysis import LinearDiscriminantAnalysis as LDA"
      ],
      "metadata": {
        "id": "w7QIhSmALk07"
      },
      "execution_count": 50,
      "outputs": []
    },
    {
      "cell_type": "code",
      "source": [
        "#Convert the dataframes to the arrays\n",
        "X_train_sc_ar = np.array(X_train_sc)\n",
        "X_test_sc_ar = np.array(X_test_sc.values)\n",
        "y_train_sc_ar = np.array(y_train_sc.values)\n",
        "y_test_sc_ar = np.array(y_test_sc.values)"
      ],
      "metadata": {
        "id": "pVq4Q_LsM6kz"
      },
      "execution_count": 51,
      "outputs": []
    },
    {
      "cell_type": "code",
      "source": [
        "#Create the linear discriminant model, where n_components should be equal to the number of classes - 1\n",
        "lda = LDA(n_components=2, solver='svd', store_covariance = True)"
      ],
      "metadata": {
        "id": "rjvfWAzTL1ht"
      },
      "execution_count": 52,
      "outputs": []
    },
    {
      "cell_type": "code",
      "source": [
        "#Fit the Linear Discriminant Analysis model.\n",
        "Xlda=lda.fit(X_train_sc_ar, y_train_sc_ar)"
      ],
      "metadata": {
        "id": "-Y425h40tNPc"
      },
      "execution_count": 53,
      "outputs": []
    },
    {
      "cell_type": "markdown",
      "source": [
        "### Information about created Canonical Discriminant Functions (CDF) and Linear DA classifiers "
      ],
      "metadata": {
        "id": "YVGphRzkB69r"
      }
    },
    {
      "cell_type": "code",
      "source": [
        "Xlda.classes_"
      ],
      "metadata": {
        "id": "-fGKEZ33L-l1",
        "colab": {
          "base_uri": "https://localhost:8080/"
        },
        "outputId": "ebdd0b3f-eb07-4cab-b375-3faba982afea"
      },
      "execution_count": 54,
      "outputs": [
        {
          "output_type": "execute_result",
          "data": {
            "text/plain": [
              "array([0, 1, 2])"
            ]
          },
          "metadata": {},
          "execution_count": 54
        }
      ]
    },
    {
      "cell_type": "markdown",
      "source": [
        "#### General information about CDF"
      ],
      "metadata": {
        "id": "SkzgPvbr9WNu"
      }
    },
    {
      "cell_type": "code",
      "source": [
        "Xlda.n_features_in_"
      ],
      "metadata": {
        "colab": {
          "base_uri": "https://localhost:8080/"
        },
        "id": "2BGgIhxH4M-O",
        "outputId": "c1147c14-186f-4df0-9807-0f87acb8449b"
      },
      "execution_count": 55,
      "outputs": [
        {
          "output_type": "execute_result",
          "data": {
            "text/plain": [
              "13"
            ]
          },
          "metadata": {},
          "execution_count": 55
        }
      ]
    },
    {
      "cell_type": "code",
      "source": [
        "#Information about explained ratio by discriminant functions\n",
        "Xlda.explained_variance_ratio_"
      ],
      "metadata": {
        "colab": {
          "base_uri": "https://localhost:8080/"
        },
        "id": "bw9tMg8R5Rv3",
        "outputId": "68bb7da3-231b-4322-d574-64c47acc666a"
      },
      "execution_count": 56,
      "outputs": [
        {
          "output_type": "execute_result",
          "data": {
            "text/plain": [
              "array([0.956, 0.044])"
            ]
          },
          "metadata": {},
          "execution_count": 56
        }
      ]
    },
    {
      "cell_type": "code",
      "source": [
        "Xlda.n_components"
      ],
      "metadata": {
        "colab": {
          "base_uri": "https://localhost:8080/"
        },
        "id": "XfMHRM015b20",
        "outputId": "acd8a1de-b8cb-46fd-fe98-ab30f3479f28"
      },
      "execution_count": 57,
      "outputs": [
        {
          "output_type": "execute_result",
          "data": {
            "text/plain": [
              "2"
            ]
          },
          "metadata": {},
          "execution_count": 57
        }
      ]
    },
    {
      "cell_type": "code",
      "source": [
        "#Scaling coefficients to recalculate the data to the space of canoonical discriminant funcitons\n",
        "Xlda.scalings_\n",
        "\n"
      ],
      "metadata": {
        "colab": {
          "base_uri": "https://localhost:8080/"
        },
        "id": "kQfUCXVlt3Go",
        "outputId": "63955ec4-8abe-4243-f97b-ebd357224de0"
      },
      "execution_count": 58,
      "outputs": [
        {
          "output_type": "execute_result",
          "data": {
            "text/plain": [
              "array([[-2.002, -1.143],\n",
              "       [-0.024,  0.198],\n",
              "       [ 0.066, -0.192],\n",
              "       [ 0.015,  0.151],\n",
              "       [-0.022,  0.08 ],\n",
              "       [ 0.017,  0.155],\n",
              "       [-0.098,  0.594],\n",
              "       [-0.015,  0.038],\n",
              "       [ 0.041,  0.152],\n",
              "       [ 0.095,  0.788],\n",
              "       [ 0.042, -0.036],\n",
              "       [-0.068,  0.526],\n",
              "       [-0.003,  0.005]])"
            ]
          },
          "metadata": {},
          "execution_count": 58
        }
      ]
    },
    {
      "cell_type": "code",
      "source": [
        "# Transform the original data sample to the space of canonical discriminant functions\n",
        "X_train_sc_ar_t = lda.fit_transform(X_train_sc_ar, y_train_sc_ar)\n",
        "X_test_sc_ar_t = lda.transform(X_test_sc_ar)\n"
      ],
      "metadata": {
        "id": "odxMQe8_j2Ng"
      },
      "execution_count": 60,
      "outputs": []
    },
    {
      "cell_type": "code",
      "source": [
        "print(X_train_sc_ar_t.shape)\n",
        "print(Xlda.scalings_.shape)"
      ],
      "metadata": {
        "colab": {
          "base_uri": "https://localhost:8080/"
        },
        "id": "rPSNq6KrtYtD",
        "outputId": "6e0fe0ba-6f2b-483b-97bc-acf587df5f51"
      },
      "execution_count": 61,
      "outputs": [
        {
          "output_type": "stream",
          "name": "stdout",
          "text": [
            "(15127, 2)\n",
            "(13, 2)\n"
          ]
        }
      ]
    },
    {
      "cell_type": "code",
      "source": [
        "X_train_sc_ar_t"
      ],
      "metadata": {
        "colab": {
          "base_uri": "https://localhost:8080/"
        },
        "id": "-qwp4q5AEr4V",
        "outputId": "43616322-7937-4077-c18f-bd79ba15c553"
      },
      "execution_count": 62,
      "outputs": [
        {
          "output_type": "execute_result",
          "data": {
            "text/plain": [
              "array([[ 0.554, -0.103],\n",
              "       [ 0.644,  0.456],\n",
              "       [ 0.04 , -0.396],\n",
              "       ...,\n",
              "       [ 2.128, -0.824],\n",
              "       [ 0.559,  0.626],\n",
              "       [ 0.072,  1.258]])"
            ]
          },
          "metadata": {},
          "execution_count": 62
        }
      ]
    },
    {
      "cell_type": "code",
      "source": [
        "#scater plot of observations rescaled to the space of canonical discriminant functions\n",
        "plt.figure()\n",
        "colors = [\"navy\", \"turquoise\", \"darkorange\"]\n",
        "for color, i in zip(colors, [0,1,2,3]):\n",
        "  plt.scatter(X_train_sc_ar_t[y_train_sc_ar==i, 0], X_train_sc_ar_t[y_train_sc_ar==i, 1], alpha=0.3, color=color)\n",
        "plt.legend(loc=\"best\", shadow=False, scatterpoints=1)\n",
        "plt.title(\"LDA dataset\")\n",
        "\n",
        "plt.show() "
      ],
      "metadata": {
        "colab": {
          "base_uri": "https://localhost:8080/",
          "height": 489
        },
        "id": "QI7pk_mIE0zB",
        "outputId": "1673c5f6-e948-4a7d-a2bb-b59d3971842d"
      },
      "execution_count": 63,
      "outputs": [
        {
          "output_type": "stream",
          "name": "stderr",
          "text": [
            "WARNING:matplotlib.legend:No artists with labels found to put in legend.  Note that artists whose label start with an underscore are ignored when legend() is called with no argument.\n"
          ]
        },
        {
          "output_type": "display_data",
          "data": {
            "text/plain": [
              "<Figure size 640x480 with 1 Axes>"
            ],
            "image/png": "[encoded data removed]"
          },
          "metadata": {}
        }
      ]
    },
    {
      "cell_type": "code",
      "source": [
        "\n",
        "n=len(np.unique(y_train_sc_ar))\n",
        "for i in range(0,n):\n",
        "  plt.hist(X_train_sc_ar_t[y_train_sc_ar==i, 0],10, alpha=0.3)\n"
      ],
      "metadata": {
        "colab": {
          "base_uri": "https://localhost:8080/",
          "height": 430
        },
        "id": "JM-t_3e1GRYH",
        "outputId": "dbb8cd84-e3e9-49e5-be27-23f16555da1a"
      },
      "execution_count": 64,
      "outputs": [
        {
          "output_type": "display_data",
          "data": {
            "text/plain": [
              "<Figure size 640x480 with 1 Axes>"
            ],
            "image/png": "[encoded data removed]"
          },
          "metadata": {}
        }
      ]
    },
    {
      "cell_type": "code",
      "source": [
        "n=len(np.unique(y_train_sc_ar))\n",
        "for i in range(0,n):\n",
        "  plt.hist(X_train_sc_ar_t[y_train_sc_ar==i, 1],10, alpha=0.3)"
      ],
      "metadata": {
        "colab": {
          "base_uri": "https://localhost:8080/",
          "height": 430
        },
        "id": "1yc8ab9ABkyV",
        "outputId": "a5269b0c-2d75-498f-b786-adbbfb744748"
      },
      "execution_count": 65,
      "outputs": [
        {
          "output_type": "display_data",
          "data": {
            "text/plain": [
              "<Figure size 640x480 with 1 Axes>"
            ],
            "image/png": "[encoded data removed]"
          },
          "metadata": {}
        }
      ]
    },
    {
      "cell_type": "markdown",
      "source": [
        "\n",
        "\n",
        "```\n",
        "Histograms of rescaled data for the 1st canonical discriminant function\n",
        "```\n",
        "\n"
      ],
      "metadata": {
        "id": "QlzKZpEpCHqJ"
      }
    },
    {
      "cell_type": "code",
      "source": [
        "plt.hist(X_train_sc_ar_t[y_train_sc_ar==0, 0],10)\n"
      ],
      "metadata": {
        "colab": {
          "base_uri": "https://localhost:8080/",
          "height": 517
        },
        "id": "2rXB7QHWfvfy",
        "outputId": "a5030d77-f257-4b56-c2b9-3cb70b61e4d3"
      },
      "execution_count": 66,
      "outputs": [
        {
          "output_type": "execute_result",
          "data": {
            "text/plain": [
              "(array([  64.,  127.,  149.,  151.,  274.,  436.,  712.,  944., 1198.,\n",
              "         250.]),\n",
              " array([-4.923, -4.404, -3.885, -3.366, -2.848, -2.329, -1.81 , -1.292,\n",
              "        -0.773, -0.254,  0.264]),\n",
              " <BarContainer object of 10 artists>)"
            ]
          },
          "metadata": {},
          "execution_count": 66
        },
        {
          "output_type": "display_data",
          "data": {
            "text/plain": [
              "<Figure size 640x480 with 1 Axes>"
            ],
            "image/png": "[encoded data removed]"
          },
          "metadata": {}
        }
      ]
    },
    {
      "cell_type": "code",
      "source": [
        "plt.hist(X_train_sc_ar_t[y_train_sc_ar==1, 0],10)\n"
      ],
      "metadata": {
        "colab": {
          "base_uri": "https://localhost:8080/",
          "height": 499
        },
        "id": "opXK-a99f69x",
        "outputId": "7c53e381-dcc9-4add-cacb-e74b5a7af377"
      },
      "execution_count": 67,
      "outputs": [
        {
          "output_type": "execute_result",
          "data": {
            "text/plain": [
              "(array([  2.,   0.,   0.,   1.,   2.,   3.,  14.,  34.,  96., 308.]),\n",
              " array([-38.86 , -35.428, -31.996, -28.564, -25.133, -21.701, -18.269,\n",
              "        -14.838, -11.406,  -7.974,  -4.543]),\n",
              " <BarContainer object of 10 artists>)"
            ]
          },
          "metadata": {},
          "execution_count": 67
        },
        {
          "output_type": "display_data",
          "data": {
            "text/plain": [
              "<Figure size 640x480 with 1 Axes>"
            ],
            "image/png": "[encoded data removed]"
          },
          "metadata": {}
        }
      ]
    },
    {
      "cell_type": "code",
      "source": [
        "plt.hist(X_train_sc_ar_t[y_train_sc_ar==2, 0],10)"
      ],
      "metadata": {
        "colab": {
          "base_uri": "https://localhost:8080/",
          "height": 517
        },
        "id": "BhGQq9Kuf9AV",
        "outputId": "0cd5c017-89b7-4a75-f4a0-20b48e102ef2"
      },
      "execution_count": 68,
      "outputs": [
        {
          "output_type": "execute_result",
          "data": {
            "text/plain": [
              "(array([  10.,  378., 1342., 1777., 2117., 2311., 1775.,  541.,   98.,\n",
              "          13.]),\n",
              " array([-0.856, -0.475, -0.094,  0.287,  0.668,  1.049,  1.43 ,  1.811,\n",
              "         2.192,  2.573,  2.954]),\n",
              " <BarContainer object of 10 artists>)"
            ]
          },
          "metadata": {},
          "execution_count": 68
        },
        {
          "output_type": "display_data",
          "data": {
            "text/plain": [
              "<Figure size 640x480 with 1 Axes>"
            ],
            "image/png": "[encoded data removed]"
          },
          "metadata": {}
        }
      ]
    },
    {
      "cell_type": "code",
      "source": [
        "plt.hist(X_train_sc_ar_t[y_train_sc_ar==1, 0],10)"
      ],
      "metadata": {
        "colab": {
          "base_uri": "https://localhost:8080/",
          "height": 499
        },
        "id": "bYvMk-9JHlRn",
        "outputId": "05b92bda-6a86-46c0-e00e-e452ae5094b0"
      },
      "execution_count": 69,
      "outputs": [
        {
          "output_type": "execute_result",
          "data": {
            "text/plain": [
              "(array([  2.,   0.,   0.,   1.,   2.,   3.,  14.,  34.,  96., 308.]),\n",
              " array([-38.86 , -35.428, -31.996, -28.564, -25.133, -21.701, -18.269,\n",
              "        -14.838, -11.406,  -7.974,  -4.543]),\n",
              " <BarContainer object of 10 artists>)"
            ]
          },
          "metadata": {},
          "execution_count": 69
        },
        {
          "output_type": "display_data",
          "data": {
            "text/plain": [
              "<Figure size 640x480 with 1 Axes>"
            ],
            "image/png": "[encoded data removed]"
          },
          "metadata": {}
        }
      ]
    },
    {
      "cell_type": "markdown",
      "source": [
        "\n",
        "\n",
        "```\n",
        "Histograms of rescaled data for the 2nd canonical discriminant function\n",
        "```\n",
        "\n"
      ],
      "metadata": {
        "id": "WauLq214CZuM"
      }
    },
    {
      "cell_type": "code",
      "source": [
        "plt.hist(X_train_sc_ar_t[y_train_sc_ar==0,1],10)"
      ],
      "metadata": {
        "colab": {
          "base_uri": "https://localhost:8080/",
          "height": 517
        },
        "id": "LcphTQ0wgFDl",
        "outputId": "47452b6e-6194-41b1-8623-67aa777b91ef"
      },
      "execution_count": 70,
      "outputs": [
        {
          "output_type": "execute_result",
          "data": {
            "text/plain": [
              "(array([1.800e+01, 1.410e+02, 8.110e+02, 1.416e+03, 1.146e+03, 6.010e+02,\n",
              "        1.560e+02, 1.400e+01, 1.000e+00, 1.000e+00]),\n",
              " array([-2.897, -2.023, -1.148, -0.273,  0.601,  1.476,  2.351,  3.225,\n",
              "         4.1  ,  4.975,  5.849]),\n",
              " <BarContainer object of 10 artists>)"
            ]
          },
          "metadata": {},
          "execution_count": 70
        },
        {
          "output_type": "display_data",
          "data": {
            "text/plain": [
              "<Figure size 640x480 with 1 Axes>"
            ],
            "image/png": "[encoded data removed]"
          },
          "metadata": {}
        }
      ]
    },
    {
      "cell_type": "code",
      "source": [
        "plt.hist(X_train_sc_ar_t[y_train_sc_ar==1,1],10)"
      ],
      "metadata": {
        "colab": {
          "base_uri": "https://localhost:8080/",
          "height": 499
        },
        "id": "KMtFNH4BgIqQ",
        "outputId": "44772f92-edfc-4ebd-dc84-561c66013c7d"
      },
      "execution_count": 71,
      "outputs": [
        {
          "output_type": "execute_result",
          "data": {
            "text/plain": [
              "(array([  2.,   0.,   0.,   2.,   8.,  20.,  88., 208., 107.,  25.]),\n",
              " array([-15.21 , -13.346, -11.483,  -9.619,  -7.756,  -5.892,  -4.029,\n",
              "         -2.165,  -0.302,   1.562,   3.425]),\n",
              " <BarContainer object of 10 artists>)"
            ]
          },
          "metadata": {},
          "execution_count": 71
        },
        {
          "output_type": "display_data",
          "data": {
            "text/plain": [
              "<Figure size 640x480 with 1 Axes>"
            ],
            "image/png": "[encoded data removed]"
          },
          "metadata": {}
        }
      ]
    },
    {
      "cell_type": "code",
      "source": [
        "plt.hist(X_train_sc_ar_t[y_train_sc_ar==2,1],10)"
      ],
      "metadata": {
        "colab": {
          "base_uri": "https://localhost:8080/",
          "height": 517
        },
        "id": "fuAPE3dTgLKd",
        "outputId": "de63148d-9cf2-4924-f0ab-c5adbc3ac94d"
      },
      "execution_count": 72,
      "outputs": [
        {
          "output_type": "execute_result",
          "data": {
            "text/plain": [
              "(array([  11.,  109.,  538., 2037., 3092., 2857., 1234.,  399.,   76.,\n",
              "           9.]),\n",
              " array([-3.721, -2.982, -2.244, -1.505, -0.766, -0.028,  0.711,  1.45 ,\n",
              "         2.188,  2.927,  3.666]),\n",
              " <BarContainer object of 10 artists>)"
            ]
          },
          "metadata": {},
          "execution_count": 72
        },
        {
          "output_type": "display_data",
          "data": {
            "text/plain": [
              "<Figure size 640x480 with 1 Axes>"
            ],
            "image/png": "[encoded data removed]"
          },
          "metadata": {}
        }
      ]
    },
    {
      "cell_type": "code",
      "source": [
        "# Overall mean value (centr of data sample)\n",
        "lda.xbar_"
      ],
      "metadata": {
        "colab": {
          "base_uri": "https://localhost:8080/"
        },
        "id": "aBx833VUlYAb",
        "outputId": "06606bb7-7a8e-4820-cd9b-a84c79f65bdd"
      },
      "execution_count": 73,
      "outputs": [
        {
          "output_type": "execute_result",
          "data": {
            "text/plain": [
              "array([ 2.954e-03, -4.090e-03,  1.979e-04, -6.270e-04,  3.225e-03,\n",
              "        3.519e-03, -9.787e-05,  1.406e-03, -3.932e-03,  2.344e-03,\n",
              "       -5.662e-03, -1.294e-04,  5.238e-03])"
            ]
          },
          "metadata": {},
          "execution_count": 73
        }
      ]
    },
    {
      "cell_type": "code",
      "source": [
        "# Centers of classes \n",
        "lda.means_"
      ],
      "metadata": {
        "colab": {
          "base_uri": "https://localhost:8080/"
        },
        "id": "ZdQRGkvNkvBB",
        "outputId": "867d0a46-d9ef-4b92-fd4b-0aae802ea590"
      },
      "execution_count": 74,
      "outputs": [
        {
          "output_type": "execute_result",
          "data": {
            "text/plain": [
              "array([[ 0.697,  0.368,  0.496,  0.668,  0.115,  0.323,  0.706,  0.604,\n",
              "         0.257,  0.44 ,  0.091,  0.662,  0.111],\n",
              "       [ 3.889,  0.845,  1.717,  2.346,  0.339,  0.731,  2.163,  2.036,\n",
              "         1.058,  0.42 , -0.113,  1.829,  0.298],\n",
              "       [-0.458, -0.196, -0.282, -0.383, -0.058, -0.162, -0.39 , -0.339,\n",
              "        -0.159, -0.198, -0.041, -0.356, -0.052]])"
            ]
          },
          "metadata": {},
          "execution_count": 74
        }
      ]
    },
    {
      "cell_type": "markdown",
      "source": [
        "#### Eigen values, Canonical correlation, Wilks stats and Chi-Sq calculation"
      ],
      "metadata": {
        "id": "dnv5Uk37ZaaV"
      }
    },
    {
      "cell_type": "markdown",
      "source": [
        "#####Step 1: Computing the d-dimensional mean vectors"
      ],
      "metadata": {
        "id": "Ha-pd6D_ZgZI"
      }
    },
    {
      "cell_type": "code",
      "source": [
        "np.set_printoptions(precision=3)"
      ],
      "metadata": {
        "id": "scO8RoJEZYfd"
      },
      "execution_count": 75,
      "outputs": []
    },
    {
      "cell_type": "code",
      "source": [
        "cl_number = df['labels'].nunique()\n",
        "X=np.array(X_train_sc)\n",
        "y=np.array(y_train_sc)\n",
        "mean_vectors = []\n",
        "\n",
        "for cl in range(0,cl_number):\n",
        "  mean_vectors.append(np.mean(X[y==cl], axis=0))\n",
        "  print('Mean Vector class %s\\n: %s\\n' %(cl, mean_vectors[cl]))\n"
      ],
      "metadata": {
        "id": "H4EJcht1ZpZj",
        "colab": {
          "base_uri": "https://localhost:8080/"
        },
        "outputId": "ebbf641a-15cc-4a2a-c04c-c63dde7588ea"
      },
      "execution_count": 76,
      "outputs": [
        {
          "output_type": "stream",
          "name": "stdout",
          "text": [
            "Mean Vector class 0\n",
            ": [0.697 0.368 0.496 0.668 0.115 0.323 0.706 0.604 0.257 0.44  0.091 0.662\n",
            " 0.111]\n",
            "\n",
            "Mean Vector class 1\n",
            ": [ 3.889  0.845  1.717  2.346  0.339  0.731  2.163  2.036  1.058  0.42\n",
            " -0.113  1.829  0.298]\n",
            "\n",
            "Mean Vector class 2\n",
            ": [-0.458 -0.196 -0.282 -0.383 -0.058 -0.162 -0.39  -0.339 -0.159 -0.198\n",
            " -0.041 -0.356 -0.052]\n",
            "\n"
          ]
        }
      ]
    },
    {
      "cell_type": "markdown",
      "source": [
        "#####Step 2: Computing the Scatter Matrices"
      ],
      "metadata": {
        "id": "Mi6C4_hb0YHS"
      }
    },
    {
      "cell_type": "markdown",
      "source": [
        "######2.1 Within-class scatter matrix SW"
      ],
      "metadata": {
        "id": "pHuVujoP0e8M"
      }
    },
    {
      "cell_type": "code",
      "source": [
        "n_columns = X.shape[1]\n",
        "\n",
        "S_W=np.zeros((n_columns, n_columns))\n",
        "row = np.zeros((1,n_columns))\n",
        "for cl, mv in zip(range(0,cl_number), mean_vectors):\n",
        "  class_sc_mat = np.zeros((n_columns, n_columns))\n",
        "  mv = mv.reshape(n_columns, 1)\n",
        "  for row in X[y==cl]:\n",
        "    row = row.reshape(n_columns,1)\n",
        "    class_sc_mat += ((row - mv)).dot((row-mv).T)\n",
        "  print(cl) \n",
        "  print(class_sc_mat)\n",
        "  S_W += class_sc_mat\n",
        "print('within-class Scatter Matrix:\\n', S_W)"
      ],
      "metadata": {
        "id": "yFIWB_f00hZO",
        "colab": {
          "base_uri": "https://localhost:8080/"
        },
        "outputId": "99885f08-5745-4da0-de6b-45aa3179a691"
      },
      "execution_count": 77,
      "outputs": [
        {
          "output_type": "stream",
          "name": "stdout",
          "text": [
            "0\n",
            "[[ 1094.697   340.538   605.909   891.999    38.672   232.094   892.607\n",
            "    777.199   396.874   -12.167  -119.155   810.471    14.377]\n",
            " [  340.538  4721.548  1528.008  1685.118   -98.82    415.925   638.795\n",
            "   1365.819   941.443   -66.704   601.664   858.812   -90.376]\n",
            " [  605.909  1528.008  3540.977  2406.286   326.527  1374.208  1848.128\n",
            "   2265.268   754.948  -274.718  1106.248  1516.019   413.369]\n",
            " [  891.999  1685.118  2406.286  3551.348   770.34   1020.981  2328.392\n",
            "   3281.314  1230.068  -367.282  1558.267  2531.177   886.435]\n",
            " [   38.672   -98.82    326.527   770.34   7345.776  -121.101   507.918\n",
            "    977.555  -230.614  -732.88   1525.712   514.151  5221.16 ]\n",
            " [  232.094   415.925  1374.208  1020.981  -121.101  3819.501  1453.658\n",
            "   2128.689 -1864.766   -76.239   655.511   642.247   -42.247]\n",
            " [  892.607   638.795  1848.128  2328.392   507.918  1453.658  3706.597\n",
            "   2823.873  -452.175  -365.755  1553.411  2568.695   671.272]\n",
            " [  777.199  1365.819  2265.268  3281.314   977.555  2128.689  2823.873\n",
            "   4547.743 -1700.572  -347.529  2384.198  2884.912  1127.99 ]\n",
            " [  396.874   941.443   754.948  1230.068  -230.614 -1864.766  -452.175\n",
            "  -1700.572  5735.789  -111.915 -1227.774  -145.512  -271.192]\n",
            " [  -12.167   -66.704  -274.718  -367.282  -732.88    -76.239  -365.755\n",
            "   -347.529  -111.915  1466.107  -494.104  -420.964  -624.417]\n",
            " [ -119.155   601.664  1106.248  1558.267  1525.712   655.511  1553.411\n",
            "   2384.198 -1227.774  -494.104  4337.05   2419.989  1671.96 ]\n",
            " [  810.471   858.812  1516.019  2531.177   514.151   642.247  2568.695\n",
            "   2884.912  -145.512  -420.964  2419.989  4677.064   822.236]\n",
            " [   14.377   -90.376   413.369   886.435  5221.16    -42.247   671.272\n",
            "   1127.99   -271.192  -624.417  1671.96    822.236  6425.292]]\n",
            "1\n",
            "[[1641.329  159.893  431.728  672.612  -38.303   22.186  276.539  472.519\n",
            "   511.733   19.884  -24.027  216.427  -39.73 ]\n",
            " [ 159.893  481.752  239.136  267.748  -44.489   93.548   55.43   228.14\n",
            "   128.763   -2.259   10.965   94.93   -22.273]\n",
            " [ 431.728  239.136  654.253  536.627  151.947  137.747  257.987  483.984\n",
            "   208.027  -13.311   74.986  128.588  160.293]\n",
            " [ 672.612  267.748  536.627  869.8    258.711  163.443  356.534  699.149\n",
            "   496.871  -16.199  124.849  279.738  263.364]\n",
            " [ -38.303  -44.489  151.947  258.711 1833.748   63.061  158.269  330.233\n",
            "   -81.062  -24.185  326.514   21.465 1353.292]\n",
            " [  22.186   93.548  137.747  163.443   63.061  385.286  131.076  256.171\n",
            "  -140.192    5.453   -4.841  -29.752   29.335]\n",
            " [ 276.539   55.43   257.987  356.534  158.269  131.076  426.708  373.095\n",
            "    41.761  -27.629   82.395  195.968  139.131]\n",
            " [ 472.519  228.14   483.984  699.149  330.233  256.171  373.095  852.826\n",
            "  -144.944  -15.028  153.545  221.396  333.146]\n",
            " [ 511.733  128.763  208.027  496.871  -81.062 -140.192   41.761 -144.944\n",
            "  1302.567   -5.497  -28.229  166.272  -76.857]\n",
            " [  19.884   -2.259  -13.311  -16.199  -24.185    5.453  -27.629  -15.028\n",
            "    -5.497   71.354  -31.61   -42.773   -2.039]\n",
            " [ -24.027   10.965   74.986  124.849  326.514   -4.841   82.395  153.545\n",
            "   -28.229  -31.61   224.402  125.487  277.333]\n",
            " [ 216.427   94.93   128.588  279.738   21.465  -29.752  195.968  221.396\n",
            "   166.272  -42.773  125.487  658.579   73.182]\n",
            " [ -39.73   -22.273  160.293  263.364 1353.292   29.335  139.131  333.146\n",
            "   -76.857   -2.039  277.333   73.182 1582.217]]\n",
            "2\n",
            "[[  964.726   513.946   884.984   846.562   140.554   662.315   973.713\n",
            "    666.789   509.201  1681.292   144.683   794.678   144.7  ]\n",
            " [  513.946  8693.811  3927.939  3919.67    147.312  1097.371  1870.1\n",
            "   3135.095  2268.205 -1302.534  1134.762  2379.936    52.147]\n",
            " [  884.984  3927.939  7674.067  3993.996    68.054  4405.347  3495.474\n",
            "   3685.576  1392.235 -1143.411  1859.425  3015.328    81.691]\n",
            " [  846.562  3919.67   3993.996  4602.742   629.276  1877.972  2787.959\n",
            "   3876.768  2297.921 -1235.595  1556.899  3290.38    761.359]\n",
            " [  140.554   147.312    68.054   629.276  6513.397  -441.694    24.097\n",
            "    586.644   208.196  -824.115  1686.175   847.097  4825.223]\n",
            " [  662.315  1097.371  4405.347  1877.972  -441.694  9986.628  2990.878\n",
            "   3451.824 -2562.29   -189.573   996.903  1458.78   -574.424]\n",
            " [  973.713  1870.1    3495.474  2787.959    24.097  2990.878  5049.037\n",
            "   2872.      411.626  -371.451   917.917  2724.947    90.515]\n",
            " [  666.789  3135.095  3685.576  3876.768   586.644  3451.824  2872.\n",
            "   4894.323 -1113.289 -1733.252  2305.815  3232.776   727.09 ]\n",
            " [  509.201  2268.205  1392.235  2297.921   208.196 -2562.29    411.626\n",
            "  -1113.289  6853.096   679.243 -1083.917   779.243   219.498]\n",
            " [ 1681.292 -1302.534 -1143.411 -1235.595  -824.115  -189.573  -371.451\n",
            "  -1733.252   679.243 12226.248 -1657.572 -1049.405 -1060.581]\n",
            " [  144.683  1134.762  1859.425  1556.899  1686.175   996.903   917.917\n",
            "   2305.815 -1083.917 -1657.572 10526.608  2137.284  1981.903]\n",
            " [  794.678  2379.936  3015.328  3290.38    847.097  1458.78   2724.947\n",
            "   3232.776   779.243 -1049.405  2137.284  5049.132  1087.801]\n",
            " [  144.7      52.147    81.691   761.359  4825.223  -574.424    90.515\n",
            "    727.09    219.498 -1060.581  1981.903  1087.801  7609.433]]\n",
            "within-class Scatter Matrix:\n",
            " [[ 3.701e+03  1.014e+03  1.923e+03  2.411e+03  1.409e+02  9.166e+02\n",
            "   2.143e+03  1.917e+03  1.418e+03  1.689e+03  1.501e+00  1.822e+03\n",
            "   1.193e+02]\n",
            " [ 1.014e+03  1.390e+04  5.695e+03  5.873e+03  4.004e+00  1.607e+03\n",
            "   2.564e+03  4.729e+03  3.338e+03 -1.371e+03  1.747e+03  3.334e+03\n",
            "  -6.050e+01]\n",
            " [ 1.923e+03  5.695e+03  1.187e+04  6.937e+03  5.465e+02  5.917e+03\n",
            "   5.602e+03  6.435e+03  2.355e+03 -1.431e+03  3.041e+03  4.660e+03\n",
            "   6.554e+02]\n",
            " [ 2.411e+03  5.873e+03  6.937e+03  9.024e+03  1.658e+03  3.062e+03\n",
            "   5.473e+03  7.857e+03  4.025e+03 -1.619e+03  3.240e+03  6.101e+03\n",
            "   1.911e+03]\n",
            " [ 1.409e+02  4.004e+00  5.465e+02  1.658e+03  1.569e+04 -4.997e+02\n",
            "   6.903e+02  1.894e+03 -1.035e+02 -1.581e+03  3.538e+03  1.383e+03\n",
            "   1.140e+04]\n",
            " [ 9.166e+02  1.607e+03  5.917e+03  3.062e+03 -4.997e+02  1.419e+04\n",
            "   4.576e+03  5.837e+03 -4.567e+03 -2.604e+02  1.648e+03  2.071e+03\n",
            "  -5.873e+02]\n",
            " [ 2.143e+03  2.564e+03  5.602e+03  5.473e+03  6.903e+02  4.576e+03\n",
            "   9.182e+03  6.069e+03  1.212e+00 -7.648e+02  2.554e+03  5.490e+03\n",
            "   9.009e+02]\n",
            " [ 1.917e+03  4.729e+03  6.435e+03  7.857e+03  1.894e+03  5.837e+03\n",
            "   6.069e+03  1.029e+04 -2.959e+03 -2.096e+03  4.844e+03  6.339e+03\n",
            "   2.188e+03]\n",
            " [ 1.418e+03  3.338e+03  2.355e+03  4.025e+03 -1.035e+02 -4.567e+03\n",
            "   1.212e+00 -2.959e+03  1.389e+04  5.618e+02 -2.340e+03  8.000e+02\n",
            "  -1.286e+02]\n",
            " [ 1.689e+03 -1.371e+03 -1.431e+03 -1.619e+03 -1.581e+03 -2.604e+02\n",
            "  -7.648e+02 -2.096e+03  5.618e+02  1.376e+04 -2.183e+03 -1.513e+03\n",
            "  -1.687e+03]\n",
            " [ 1.501e+00  1.747e+03  3.041e+03  3.240e+03  3.538e+03  1.648e+03\n",
            "   2.554e+03  4.844e+03 -2.340e+03 -2.183e+03  1.509e+04  4.683e+03\n",
            "   3.931e+03]\n",
            " [ 1.822e+03  3.334e+03  4.660e+03  6.101e+03  1.383e+03  2.071e+03\n",
            "   5.490e+03  6.339e+03  8.000e+02 -1.513e+03  4.683e+03  1.038e+04\n",
            "   1.983e+03]\n",
            " [ 1.193e+02 -6.050e+01  6.554e+02  1.911e+03  1.140e+04 -5.873e+02\n",
            "   9.009e+02  2.188e+03 -1.286e+02 -1.687e+03  3.931e+03  1.983e+03\n",
            "   1.562e+04]]\n"
          ]
        }
      ]
    },
    {
      "cell_type": "markdown",
      "source": [
        "######2.2 Between-class scatter matrix SB"
      ],
      "metadata": {
        "id": "eDYTtZqHtJjR"
      }
    },
    {
      "cell_type": "code",
      "source": [
        "overall_mean = np.mean(X, axis=0)\n",
        "S_B = np.zeros((n_columns,n_columns))\n",
        "for i,mean_vec in enumerate(mean_vectors):  \n",
        "    n = X[y==i,:].shape[0]\n",
        "    mean_vec = mean_vec.reshape(n_columns,1) \n",
        "    overall_mean = overall_mean.reshape(n_columns, 1)\n",
        "    S_B += n * (mean_vec - overall_mean).dot((mean_vec - overall_mean).T)\n",
        "\n",
        "print('between-class Scatter Matrix:\\n', S_B)"
      ],
      "metadata": {
        "id": "6UySArN9tMWU",
        "colab": {
          "base_uri": "https://localhost:8080/"
        },
        "outputId": "1ef0d559-cf65-4260-eebf-ef30f2f734b3"
      },
      "execution_count": 78,
      "outputs": [
        {
          "output_type": "stream",
          "name": "stdout",
          "text": [
            "between-class Scatter Matrix:\n",
            " [[11224.724  3549.727  5898.617  8019.117  1227.412  3045.317  7841.13\n",
            "   7066.557  3419.13   3010.787   267.98   6951.096  1113.416]\n",
            " [ 3549.727  1311.919  2027.535  2750.152   432.366  1125.813  2754.193\n",
            "   2439.848  1141.941  1263.453   184.317  2485.852   398.081]\n",
            " [ 5898.617  2027.535  3238.59   4397.469   682.864  1739.696  4355.598\n",
            "   3889.135  1848.714  1848.77    226.091  3899.122   624.47 ]\n",
            " [ 8019.117  2750.152  4397.469  5971.235   926.886  2359.717  5912.315\n",
            "   5280.458  2511.303  2503.087   304.075  5291.307   847.441]\n",
            " [ 1227.412   432.366   682.864   926.886   144.537   371.001   921.508\n",
            "    820.608   388.043   401.91     52.55    827.248   132.484]\n",
            " [ 3045.317  1125.813  1739.696  2359.717   371.001   966.108  2363.284\n",
            "   2093.492   979.774  1084.438   158.292  2133.096   341.591]\n",
            " [ 7841.13   2754.193  4355.598  5912.315   921.508  2363.284  5875.438\n",
            "   5233.755  2476.417  2554.533   331.549  5272.725   844.433]\n",
            " [ 7066.557  2439.848  3889.135  5280.458   820.608  2093.492  5233.755\n",
            "   4670.952  2218.242  2232.68    276.566  4687.649   750.753]\n",
            " [ 3419.13   1141.941  1848.714  2511.303   388.043   979.774  2476.417\n",
            "   2218.242  1060.93   1016.857   113.532  2209.512   353.884]\n",
            " [ 3010.787  1263.453  1848.77   2503.087   401.91   1084.438  2554.533\n",
            "   2232.68   1016.857  1319.433   235.59   2337.381   374.235]\n",
            " [  267.98    184.317   226.091   304.075    52.55    158.292   331.549\n",
            "    276.566   113.532   235.59     58.758   317.202    50.757]\n",
            " [ 6951.096  2485.852  3899.122  5291.307   827.248  2133.096  5272.725\n",
            "   4687.649  2209.512  2337.381   317.202  4741.494   759.334]\n",
            " [ 1113.416   398.081   624.47    847.441   132.484   341.591   844.433\n",
            "    750.753   353.884   374.235    50.757   759.334   121.605]]\n"
          ]
        }
      ]
    },
    {
      "cell_type": "markdown",
      "source": [
        "#####Step 3: Solving the generalized eigenvalue problem for the matrix SW−1SB\n",
        "\n",
        "\n",
        "```\n",
        "Next, we will solve the generalized eigenvalue problem for the matrix SW-1SB to obtain the linear discriminants.\n",
        "```\n",
        "\n",
        "\n"
      ],
      "metadata": {
        "id": "4p3BV5ARuI8V"
      }
    },
    {
      "cell_type": "code",
      "source": [
        "#Eigen values calculation\n",
        "eig_vals, eig_vecs = np.linalg.eig(np.linalg.inv(S_W).dot(S_B))\n",
        "\n",
        "for i in range(len(eig_vals)):\n",
        "    eigvec_sc = eig_vecs[:,i].reshape(n_columns,1)   \n",
        "    print('\\nEigenvector {}: \\n{}'.format(i+1, eigvec_sc.real))\n",
        "    print('Eigenvalue {:}: {:.2e}'.format(i+1, eig_vals[i].real))\n",
        "for i in range(len(eig_vals)):\n",
        "    eigv = eig_vecs[:,i].reshape(13,1)\n",
        "    np.testing.assert_array_almost_equal(np.linalg.inv(S_W).dot(S_B).dot(eigv),\n",
        "                                         eig_vals[i] * eigv,\n",
        "                                         decimal=6, err_msg='', verbose=True)\n",
        "print('ok')\n",
        "\n",
        "eig_pairs = [(np.abs(eig_vals[i]), eig_vecs[:,i]) for i in range(len(eig_vals))]\n",
        "\n",
        "# Sort the (eigenvalue, eigenvector) tuples from high to low\n",
        "eig_pairs = sorted(eig_pairs, key=lambda k: k[0], reverse=True)\n",
        "\n",
        "# Visually confirm that the list is correctly sorted by decreasing eigenvalues\n",
        "ee=np.zeros((13,1))\n",
        "k=0\n",
        "print('Eigenvalues in decreasing order:\\n')\n",
        "for i in eig_pairs:\n",
        "    print(i[0])\n",
        "    ee[k]+=i[0]\n",
        "    k+=1\n",
        "\n",
        "eig_df=pd.DataFrame(ee)\n",
        "eig_df"
      ],
      "metadata": {
        "id": "cTM56D2Duano",
        "colab": {
          "base_uri": "https://localhost:8080/",
          "height": 1000
        },
        "outputId": "05a49e7c-e540-479e-98c4-4b93b0941627"
      },
      "execution_count": 79,
      "outputs": [
        {
          "output_type": "stream",
          "name": "stdout",
          "text": [
            "\n",
            "Eigenvector 1: \n",
            "[[-0.996]\n",
            " [-0.012]\n",
            " [ 0.034]\n",
            " [-0.014]\n",
            " [-0.011]\n",
            " [ 0.009]\n",
            " [-0.048]\n",
            " [ 0.009]\n",
            " [ 0.03 ]\n",
            " [ 0.047]\n",
            " [ 0.021]\n",
            " [-0.034]\n",
            " [-0.002]]\n",
            "Eigenvalue 1: 3.10e+00\n",
            "\n",
            "Eigenvector 2: \n",
            "[[-0.635]\n",
            " [ 0.111]\n",
            " [-0.108]\n",
            " [ 0.35 ]\n",
            " [ 0.045]\n",
            " [ 0.086]\n",
            " [ 0.332]\n",
            " [-0.218]\n",
            " [-0.054]\n",
            " [ 0.44 ]\n",
            " [-0.02 ]\n",
            " [ 0.294]\n",
            " [ 0.003]]\n",
            "Eigenvalue 2: 1.43e-01\n",
            "\n",
            "Eigenvector 3: \n",
            "[[ 0.155]\n",
            " [ 0.031]\n",
            " [-0.036]\n",
            " [-0.65 ]\n",
            " [ 0.014]\n",
            " [ 0.018]\n",
            " [ 0.095]\n",
            " [ 0.285]\n",
            " [-0.029]\n",
            " [ 0.091]\n",
            " [-0.011]\n",
            " [ 0.081]\n",
            " [ 0.001]]\n",
            "Eigenvalue 3: -1.43e-03\n",
            "\n",
            "Eigenvector 4: \n",
            "[[ 0.155]\n",
            " [ 0.031]\n",
            " [-0.036]\n",
            " [-0.65 ]\n",
            " [ 0.014]\n",
            " [ 0.018]\n",
            " [ 0.095]\n",
            " [ 0.285]\n",
            " [-0.029]\n",
            " [ 0.091]\n",
            " [-0.011]\n",
            " [ 0.081]\n",
            " [ 0.001]]\n",
            "Eigenvalue 4: -1.43e-03\n",
            "\n",
            "Eigenvector 5: \n",
            "[[-0.301]\n",
            " [-0.056]\n",
            " [ 0.067]\n",
            " [ 0.107]\n",
            " [-0.026]\n",
            " [-0.033]\n",
            " [-0.174]\n",
            " [ 0.357]\n",
            " [ 0.825]\n",
            " [-0.166]\n",
            " [ 0.021]\n",
            " [-0.149]\n",
            " [-0.002]]\n",
            "Eigenvalue 5: -8.27e-05\n",
            "\n",
            "Eigenvector 6: \n",
            "[[-0.274]\n",
            " [-0.077]\n",
            " [ 0.072]\n",
            " [ 0.059]\n",
            " [-0.023]\n",
            " [-0.031]\n",
            " [-0.204]\n",
            " [ 0.38 ]\n",
            " [ 0.83 ]\n",
            " [-0.115]\n",
            " [ 0.015]\n",
            " [-0.142]\n",
            " [-0.015]]\n",
            "Eigenvalue 6: -2.34e-15\n",
            "\n",
            "Eigenvector 7: \n",
            "[[-0.119]\n",
            " [ 0.024]\n",
            " [ 0.347]\n",
            " [ 0.166]\n",
            " [-0.093]\n",
            " [-0.276]\n",
            " [ 0.435]\n",
            " [-0.497]\n",
            " [ 0.414]\n",
            " [ 0.046]\n",
            " [ 0.05 ]\n",
            " [-0.366]\n",
            " [-0.079]]\n",
            "Eigenvalue 7: 1.01e-16\n",
            "\n",
            "Eigenvector 8: \n",
            "[[ 0.027]\n",
            " [ 0.53 ]\n",
            " [-0.096]\n",
            " [-0.063]\n",
            " [-0.068]\n",
            " [-0.17 ]\n",
            " [ 0.059]\n",
            " [ 0.051]\n",
            " [-0.368]\n",
            " [-0.25 ]\n",
            " [ 0.054]\n",
            " [ 0.093]\n",
            " [ 0.015]]\n",
            "Eigenvalue 8: -1.76e-17\n",
            "\n",
            "Eigenvector 9: \n",
            "[[ 0.027]\n",
            " [ 0.53 ]\n",
            " [-0.096]\n",
            " [-0.063]\n",
            " [-0.068]\n",
            " [-0.17 ]\n",
            " [ 0.059]\n",
            " [ 0.051]\n",
            " [-0.368]\n",
            " [-0.25 ]\n",
            " [ 0.054]\n",
            " [ 0.093]\n",
            " [ 0.015]]\n",
            "Eigenvalue 9: -1.76e-17\n",
            "\n",
            "Eigenvector 10: \n",
            "[[-0.11 ]\n",
            " [-0.408]\n",
            " [ 0.299]\n",
            " [ 0.134]\n",
            " [ 0.111]\n",
            " [ 0.422]\n",
            " [ 0.437]\n",
            " [-0.452]\n",
            " [-0.138]\n",
            " [-0.191]\n",
            " [-0.015]\n",
            " [-0.145]\n",
            " [ 0.227]]\n",
            "Eigenvalue 10: -5.77e-17\n",
            "\n",
            "Eigenvector 11: \n",
            "[[ 0.094]\n",
            " [ 0.584]\n",
            " [-0.254]\n",
            " [-0.091]\n",
            " [-0.169]\n",
            " [-0.477]\n",
            " [-0.26 ]\n",
            " [ 0.333]\n",
            " [-0.042]\n",
            " [-0.054]\n",
            " [ 0.299]\n",
            " [ 0.126]\n",
            " [-0.18 ]]\n",
            "Eigenvalue 11: -3.52e-17\n",
            "\n",
            "Eigenvector 12: \n",
            "[[-0.064]\n",
            " [ 0.361]\n",
            " [-0.057]\n",
            " [ 0.034]\n",
            " [-0.342]\n",
            " [-0.298]\n",
            " [-0.034]\n",
            " [ 0.158]\n",
            " [-0.104]\n",
            " [-0.252]\n",
            " [ 0.158]\n",
            " [ 0.033]\n",
            " [ 0.727]]\n",
            "Eigenvalue 12: 4.83e-18\n",
            "\n",
            "Eigenvector 13: \n",
            "[[-0.066]\n",
            " [ 0.203]\n",
            " [-0.115]\n",
            " [-0.019]\n",
            " [ 0.534]\n",
            " [-0.423]\n",
            " [-0.049]\n",
            " [ 0.145]\n",
            " [-0.202]\n",
            " [-0.057]\n",
            " [-0.306]\n",
            " [ 0.17 ]\n",
            " [ 0.536]]\n",
            "Eigenvalue 13: -5.64e-18\n",
            "ok\n",
            "Eigenvalues in decreasing order:\n",
            "\n",
            "3.101458012644545\n",
            "0.14311014438436193\n",
            "0.0020476103200358386\n",
            "0.0020476103200358386\n",
            "8.270702707781805e-05\n",
            "2.336161673779943e-15\n",
            "1.0112938145841315e-16\n",
            "6.909404732431359e-17\n",
            "6.909404732431359e-17\n",
            "5.765607121483965e-17\n",
            "3.516333854795597e-17\n",
            "5.643822605586758e-18\n",
            "4.8342450161598615e-18\n"
          ]
        },
        {
          "output_type": "execute_result",
          "data": {
            "text/plain": [
              "               0\n",
              "0   3.101458e+00\n",
              "1   1.431101e-01\n",
              "2   2.047610e-03\n",
              "3   2.047610e-03\n",
              "4   8.270703e-05\n",
              "5   2.336162e-15\n",
              "6   1.011294e-16\n",
              "7   6.909405e-17\n",
              "8   6.909405e-17\n",
              "9   5.765607e-17\n",
              "10  3.516334e-17\n",
              "11  5.643823e-18\n",
              "12  4.834245e-18"
            ],
            "text/html": [
              "\n",
              "  <div id=\"df-e0d8a31e-078d-4f99-ac31-b7dd1c875607\">\n",
              "    <div class=\"colab-df-container\">\n",
              "      <div>\n",
              "<style scoped>\n",
              "    .dataframe tbody tr th:only-of-type {\n",
              "        vertical-align: middle;\n",
              "    }\n",
              "\n",
              "    .dataframe tbody tr th {\n",
              "        vertical-align: top;\n",
              "    }\n",
              "\n",
              "    .dataframe thead th {\n",
              "        text-align: right;\n",
              "    }\n",
              "</style>\n",
              "<table border=\"1\" class=\"dataframe\">\n",
              "  <thead>\n",
              "    <tr style=\"text-align: right;\">\n",
              "      <th></th>\n",
              "      <th>0</th>\n",
              "    </tr>\n",
              "  </thead>\n",
              "  <tbody>\n",
              "    <tr>\n",
              "      <th>0</th>\n",
              "      <td>3.101458e+00</td>\n",
              "    </tr>\n",
              "    <tr>\n",
              "      <th>1</th>\n",
              "      <td>1.431101e-01</td>\n",
              "    </tr>\n",
              "    <tr>\n",
              "      <th>2</th>\n",
              "      <td>2.047610e-03</td>\n",
              "    </tr>\n",
              "    <tr>\n",
              "      <th>3</th>\n",
              "      <td>2.047610e-03</td>\n",
              "    </tr>\n",
              "    <tr>\n",
              "      <th>4</th>\n",
              "      <td>8.270703e-05</td>\n",
              "    </tr>\n",
              "    <tr>\n",
              "      <th>5</th>\n",
              "      <td>2.336162e-15</td>\n",
              "    </tr>\n",
              "    <tr>\n",
              "      <th>6</th>\n",
              "      <td>1.011294e-16</td>\n",
              "    </tr>\n",
              "    <tr>\n",
              "      <th>7</th>\n",
              "      <td>6.909405e-17</td>\n",
              "    </tr>\n",
              "    <tr>\n",
              "      <th>8</th>\n",
              "      <td>6.909405e-17</td>\n",
              "    </tr>\n",
              "    <tr>\n",
              "      <th>9</th>\n",
              "      <td>5.765607e-17</td>\n",
              "    </tr>\n",
              "    <tr>\n",
              "      <th>10</th>\n",
              "      <td>3.516334e-17</td>\n",
              "    </tr>\n",
              "    <tr>\n",
              "      <th>11</th>\n",
              "      <td>5.643823e-18</td>\n",
              "    </tr>\n",
              "    <tr>\n",
              "      <th>12</th>\n",
              "      <td>4.834245e-18</td>\n",
              "    </tr>\n",
              "  </tbody>\n",
              "</table>\n",
              "</div>\n",
              "      <button class=\"colab-df-convert\" onclick=\"convertToInteractive('df-e0d8a31e-078d-4f99-ac31-b7dd1c875607')\"\n",
              "              title=\"Convert this dataframe to an interactive table.\"\n",
              "              style=\"display:none;\">\n",
              "        \n",
              "  <svg xmlns=\"http://www.w3.org/2000/svg\" height=\"24px\"viewBox=\"0 0 24 24\"\n",
              "       width=\"24px\">\n",
              "    <path d=\"M0 0h24v24H0V0z\" fill=\"none\"/>\n",
              "    <path d=\"M18.56 5.44l.94 2.06.94-2.06 2.06-.94-2.06-.94-.94-2.06-.94 2.06-2.06.94zm-11 1L8.5 8.5l.94-2.06 2.06-.94-2.06-.94L8.5 2.5l-.94 2.06-2.06.94zm10 10l.94 2.06.94-2.06 2.06-.94-2.06-.94-.94-2.06-.94 2.06-2.06.94z\"/><path d=\"M17.41 7.96l-1.37-1.37c-.4-.4-.92-.59-1.43-.59-.52 0-1.04.2-1.43.59L10.3 9.45l-7.72 7.72c-.78.78-.78 2.05 0 2.83L4 21.41c.39.39.9.59 1.41.59.51 0 1.02-.2 1.41-.59l7.78-7.78 2.81-2.81c.8-.78.8-2.07 0-2.86zM5.41 20L4 18.59l7.72-7.72 1.47 1.35L5.41 20z\"/>\n",
              "  </svg>\n",
              "      </button>\n",
              "      \n",
              "  <style>\n",
              "    .colab-df-container {\n",
              "      display:flex;\n",
              "      flex-wrap:wrap;\n",
              "      gap: 12px;\n",
              "    }\n",
              "\n",
              "    .colab-df-convert {\n",
              "      background-color: #E8F0FE;\n",
              "      border: none;\n",
              "      border-radius: 50%;\n",
              "      cursor: pointer;\n",
              "      display: none;\n",
              "      fill: #1967D2;\n",
              "      height: 32px;\n",
              "      padding: 0 0 0 0;\n",
              "      width: 32px;\n",
              "    }\n",
              "\n",
              "    .colab-df-convert:hover {\n",
              "      background-color: #E2EBFA;\n",
              "      box-shadow: 0px 1px 2px rgba(60, 64, 67, 0.3), 0px 1px 3px 1px rgba(60, 64, 67, 0.15);\n",
              "      fill: #174EA6;\n",
              "    }\n",
              "\n",
              "    [theme=dark] .colab-df-convert {\n",
              "      background-color: #3B4455;\n",
              "      fill: #D2E3FC;\n",
              "    }\n",
              "\n",
              "    [theme=dark] .colab-df-convert:hover {\n",
              "      background-color: #434B5C;\n",
              "      box-shadow: 0px 1px 3px 1px rgba(0, 0, 0, 0.15);\n",
              "      filter: drop-shadow(0px 1px 2px rgba(0, 0, 0, 0.3));\n",
              "      fill: #FFFFFF;\n",
              "    }\n",
              "  </style>\n",
              "\n",
              "      <script>\n",
              "        const buttonEl =\n",
              "          document.querySelector('#df-e0d8a31e-078d-4f99-ac31-b7dd1c875607 button.colab-df-convert');\n",
              "        buttonEl.style.display =\n",
              "          google.colab.kernel.accessAllowed ? 'block' : 'none';\n",
              "\n",
              "        async function convertToInteractive(key) {\n",
              "          const element = document.querySelector('#df-e0d8a31e-078d-4f99-ac31-b7dd1c875607');\n",
              "          const dataTable =\n",
              "            await google.colab.kernel.invokeFunction('convertToInteractive',\n",
              "                                                     [key], {});\n",
              "          if (!dataTable) return;\n",
              "\n",
              "          const docLinkHtml = 'Like what you see? Visit the ' +\n",
              "            '<a target=\"_blank\" href=https://colab.research.google.com/notebooks/data_table.ipynb>data table notebook</a>'\n",
              "            + ' to learn more about interactive tables.';\n",
              "          element.innerHTML = '';\n",
              "          dataTable['output_type'] = 'display_data';\n",
              "          await google.colab.output.renderOutput(dataTable, element);\n",
              "          const docLink = document.createElement('div');\n",
              "          docLink.innerHTML = docLinkHtml;\n",
              "          element.appendChild(docLink);\n",
              "        }\n",
              "      </script>\n",
              "    </div>\n",
              "  </div>\n",
              "  "
            ]
          },
          "metadata": {},
          "execution_count": 79
        }
      ]
    },
    {
      "cell_type": "markdown",
      "source": [
        "#####Step 4: Canonical Correlation Calculation"
      ],
      "metadata": {
        "id": "CSOEcX23-T0R"
      }
    },
    {
      "cell_type": "code",
      "source": [
        "# Canonical correlation calculation\n",
        "aa=(eig_df.apply(lambda x:x/(x+1),axis=1))\n",
        "can_cor = aa.apply(np.sqrt)\n",
        "print(can_cor)"
      ],
      "metadata": {
        "colab": {
          "base_uri": "https://localhost:8080/"
        },
        "id": "k64o3qN6psVe",
        "outputId": "abe7e97a-fc1b-4893-887d-f31c375ab41c"
      },
      "execution_count": 80,
      "outputs": [
        {
          "output_type": "stream",
          "name": "stdout",
          "text": [
            "               0\n",
            "0   8.695886e-01\n",
            "1   3.538272e-01\n",
            "2   4.520427e-02\n",
            "3   4.520427e-02\n",
            "4   9.093964e-03\n",
            "5   4.833386e-08\n",
            "6   1.005631e-08\n",
            "7   8.312283e-09\n",
            "8   8.312283e-09\n",
            "9   7.593160e-09\n",
            "10  5.929868e-09\n",
            "11  2.375673e-09\n",
            "12  2.198692e-09\n"
          ]
        }
      ]
    },
    {
      "cell_type": "markdown",
      "source": [
        "#####Step 5: Wilks-Labda and Chi-square calculation"
      ],
      "metadata": {
        "id": "qJ4-nIZu-oiP"
      }
    },
    {
      "cell_type": "code",
      "source": [
        "import math"
      ],
      "metadata": {
        "id": "m8gmu1zC__GP"
      },
      "execution_count": 82,
      "outputs": []
    },
    {
      "cell_type": "code",
      "source": [
        "L = eig_df.apply(lambda x: 1/(x+1),axis=1)\n",
        "n=X.shape[0]\n",
        "p=13\n",
        "g=3\n",
        "k=-(n-(p+g)/2-1)\n",
        "LL=pd.DataFrame(np.zeros((13,2)), columns=['Lambda','Chi-sq'])\n",
        "for j in range(0,len(L)):\n",
        "  LL['Lambda'][j]=L[0][j]\n",
        "  for i in range(j,len(L)-1):\n",
        "    LL['Lambda'][j]=LL['Lambda'][j]*(L[0][i+1])\n",
        "LL['Chi-sq']=L[0].apply(math.log)\n",
        "LL['Chi-sq']=LL['Chi-sq']*k\n",
        "print(LL)"
      ],
      "metadata": {
        "colab": {
          "base_uri": "https://localhost:8080/"
        },
        "id": "JXarGsLH3h7q",
        "outputId": "ace4e586-5ed3-4fa5-c0f8-fe91baf895bd"
      },
      "execution_count": 83,
      "outputs": [
        {
          "output_type": "stream",
          "name": "stdout",
          "text": [
            "      Lambda        Chi-sq\n",
            "0   0.212403  2.133668e+04\n",
            "1   0.871163  2.022074e+03\n",
            "2   0.995835  3.092412e+01\n",
            "3   0.997874  3.092412e+01\n",
            "4   0.999917  1.250313e+00\n",
            "5   1.000000  3.692557e-11\n",
            "6   1.000000 -0.000000e+00\n",
            "7   1.000000 -0.000000e+00\n",
            "8   1.000000 -0.000000e+00\n",
            "9   1.000000 -0.000000e+00\n",
            "10  1.000000 -0.000000e+00\n",
            "11  1.000000 -0.000000e+00\n",
            "12  1.000000 -0.000000e+00\n"
          ]
        }
      ]
    },
    {
      "cell_type": "markdown",
      "source": [
        "### New LDA classifiers application and performance evaluaiton "
      ],
      "metadata": {
        "id": "Dhpcn1r-Crbp"
      }
    },
    {
      "cell_type": "code",
      "source": [
        "print('LDA intercept: ', Xlda.intercept_)\n",
        "print('LDA coefficients: ', Xlda.coef_)"
      ],
      "metadata": {
        "colab": {
          "base_uri": "https://localhost:8080/"
        },
        "id": "c10PaWe44XLQ",
        "outputId": "3aac0607-d9f3-4609-944e-64c1fadb5eb8"
      },
      "execution_count": 86,
      "outputs": [
        {
          "output_type": "stream",
          "name": "stdout",
          "text": [
            "LDA intercept:  [ -2.407 -35.853  -0.83 ]\n",
            "LDA coefficients:  [[ 2.254e+00  1.364e-01 -1.922e-01  5.691e-02  7.286e-02  5.621e-02\n",
            "   4.458e-01  4.136e-02  1.937e-02  2.730e-01 -7.791e-02  3.682e-01\n",
            "   6.961e-03]\n",
            " [ 1.735e+01 -6.619e-02 -2.733e-01 -3.135e-01  7.197e-02 -3.349e-01\n",
            "   1.142e-02  7.324e-02 -5.242e-01 -1.766e+00 -2.834e-01 -1.384e-01\n",
            "   1.871e-02]\n",
            " [-1.707e+00 -5.372e-02  9.197e-02 -9.728e-03 -3.346e-02 -8.486e-03\n",
            "  -1.857e-01 -2.043e-02  1.523e-02 -3.506e-02  4.495e-02 -1.468e-01\n",
            "  -3.722e-03]]\n"
          ]
        }
      ]
    },
    {
      "cell_type": "code",
      "source": [
        "#LDA classifiers application for prediction on the base of test data sample\n",
        "lda_predictions = lda.predict(X_test_sc_ar)\n"
      ],
      "metadata": {
        "id": "Vrs6tev1nQkG"
      },
      "execution_count": 87,
      "outputs": []
    },
    {
      "cell_type": "code",
      "source": [
        "#confusion matrix calculation on the base of predicted data\n",
        "confusion_matrix(y_test_sc_ar, lda_predictions)"
      ],
      "metadata": {
        "colab": {
          "base_uri": "https://localhost:8080/"
        },
        "id": "0ZIgK0x-nk-5",
        "outputId": "7ee11bf9-aba6-463a-9254-64a526f04b68"
      },
      "execution_count": 88,
      "outputs": [
        {
          "output_type": "execute_result",
          "data": {
            "text/plain": [
              "array([[1361,    1,  403],\n",
              "       [  19,  178,    0],\n",
              "       [  31,    0, 4491]])"
            ]
          },
          "metadata": {},
          "execution_count": 88
        }
      ]
    },
    {
      "cell_type": "code",
      "source": [
        "# Accuracy of DA classification functions\n",
        "Xlda.score(X_test_sc_ar,y_test_sc_ar)"
      ],
      "metadata": {
        "colab": {
          "base_uri": "https://localhost:8080/"
        },
        "id": "MiQpL1rY6vl3",
        "outputId": "6b7190cb-6812-475d-e429-7dee0ddd306a"
      },
      "execution_count": 89,
      "outputs": [
        {
          "output_type": "execute_result",
          "data": {
            "text/plain": [
              "0.9299814929056138"
            ]
          },
          "metadata": {},
          "execution_count": 89
        }
      ]
    },
    {
      "cell_type": "code",
      "source": [
        "#classification report calculation on the base of predicted data\n",
        "print(classification_report(y_test_sc_ar, lda_predictions))"
      ],
      "metadata": {
        "colab": {
          "base_uri": "https://localhost:8080/"
        },
        "id": "mTkbifArn0QB",
        "outputId": "89da49eb-3603-4741-8bd3-2033f1e713e1"
      },
      "execution_count": 90,
      "outputs": [
        {
          "output_type": "stream",
          "name": "stdout",
          "text": [
            "              precision    recall  f1-score   support\n",
            "\n",
            "           0       0.96      0.77      0.86      1765\n",
            "           1       0.99      0.90      0.95       197\n",
            "           2       0.92      0.99      0.95      4522\n",
            "\n",
            "    accuracy                           0.93      6484\n",
            "   macro avg       0.96      0.89      0.92      6484\n",
            "weighted avg       0.93      0.93      0.93      6484\n",
            "\n"
          ]
        }
      ]
    },
    {
      "cell_type": "markdown",
      "source": [
        "## Logistic Model creation on the base of rescaled data by means of CDF"
      ],
      "metadata": {
        "id": "3JJ0dukFDO8R"
      }
    },
    {
      "cell_type": "code",
      "source": [
        "LogModel_lda = LogisticRegression(multi_class = 'multinomial', solver='lbfgs', random_state=100)\n",
        "LogModel_lda.fit(X_train_sc_ar_t, y_train_sc_ar)"
      ],
      "metadata": {
        "colab": {
          "base_uri": "https://localhost:8080/",
          "height": 75
        },
        "id": "Kn_M1faDRDGI",
        "outputId": "7d0a5db4-9f67-41ef-97d4-0d40ad92d88b"
      },
      "execution_count": null,
      "outputs": [
        {
          "output_type": "execute_result",
          "data": {
            "text/plain": [
              "LogisticRegression(multi_class='multinomial', random_state=100)"
            ],
            "text/html": [
              "<style>#sk-container-id-5 {color: black;background-color: white;}#sk-container-id-5 pre{padding: 0;}#sk-container-id-5 div.sk-toggleable {background-color: white;}#sk-container-id-5 label.sk-toggleable__label {cursor: pointer;display: block;width: 100%;margin-bottom: 0;padding: 0.3em;box-sizing: border-box;text-align: center;}#sk-container-id-5 label.sk-toggleable__label-arrow:before {content: \"▸\";float: left;margin-right: 0.25em;color: #696969;}#sk-container-id-5 label.sk-toggleable__label-arrow:hover:before {color: black;}#sk-container-id-5 div.sk-estimator:hover label.sk-toggleable__label-arrow:before {color: black;}#sk-container-id-5 div.sk-toggleable__content {max-height: 0;max-width: 0;overflow: hidden;text-align: left;background-color: #f0f8ff;}#sk-container-id-5 div.sk-toggleable__content pre {margin: 0.2em;color: black;border-radius: 0.25em;background-color: #f0f8ff;}#sk-container-id-5 input.sk-toggleable__control:checked~div.sk-toggleable__content {max-height: 200px;max-width: 100%;overflow: auto;}#sk-container-id-5 input.sk-toggleable__control:checked~label.sk-toggleable__label-arrow:before {content: \"▾\";}#sk-container-id-5 div.sk-estimator input.sk-toggleable__control:checked~label.sk-toggleable__label {background-color: #d4ebff;}#sk-container-id-5 div.sk-label input.sk-toggleable__control:checked~label.sk-toggleable__label {background-color: #d4ebff;}#sk-container-id-5 input.sk-hidden--visually {border: 0;clip: rect(1px 1px 1px 1px);clip: rect(1px, 1px, 1px, 1px);height: 1px;margin: -1px;overflow: hidden;padding: 0;position: absolute;width: 1px;}#sk-container-id-5 div.sk-estimator {font-family: monospace;background-color: #f0f8ff;border: 1px dotted black;border-radius: 0.25em;box-sizing: border-box;margin-bottom: 0.5em;}#sk-container-id-5 div.sk-estimator:hover {background-color: #d4ebff;}#sk-container-id-5 div.sk-parallel-item::after {content: \"\";width: 100%;border-bottom: 1px solid gray;flex-grow: 1;}#sk-container-id-5 div.sk-label:hover label.sk-toggleable__label {background-color: #d4ebff;}#sk-container-id-5 div.sk-serial::before {content: \"\";position: absolute;border-left: 1px solid gray;box-sizing: border-box;top: 0;bottom: 0;left: 50%;z-index: 0;}#sk-container-id-5 div.sk-serial {display: flex;flex-direction: column;align-items: center;background-color: white;padding-right: 0.2em;padding-left: 0.2em;position: relative;}#sk-container-id-5 div.sk-item {position: relative;z-index: 1;}#sk-container-id-5 div.sk-parallel {display: flex;align-items: stretch;justify-content: center;background-color: white;position: relative;}#sk-container-id-5 div.sk-item::before, #sk-container-id-5 div.sk-parallel-item::before {content: \"\";position: absolute;border-left: 1px solid gray;box-sizing: border-box;top: 0;bottom: 0;left: 50%;z-index: -1;}#sk-container-id-5 div.sk-parallel-item {display: flex;flex-direction: column;z-index: 1;position: relative;background-color: white;}#sk-container-id-5 div.sk-parallel-item:first-child::after {align-self: flex-end;width: 50%;}#sk-container-id-5 div.sk-parallel-item:last-child::after {align-self: flex-start;width: 50%;}#sk-container-id-5 div.sk-parallel-item:only-child::after {width: 0;}#sk-container-id-5 div.sk-dashed-wrapped {border: 1px dashed gray;margin: 0 0.4em 0.5em 0.4em;box-sizing: border-box;padding-bottom: 0.4em;background-color: white;}#sk-container-id-5 div.sk-label label {font-family: monospace;font-weight: bold;display: inline-block;line-height: 1.2em;}#sk-container-id-5 div.sk-label-container {text-align: center;}#sk-container-id-5 div.sk-container {/* jupyter's `normalize.less` sets `[hidden] { display: none; }` but bootstrap.min.css set `[hidden] { display: none !important; }` so we also need the `!important` here to be able to override the default hidden behavior on the sphinx rendered scikit-learn.org. See: https://github.com/scikit-learn/scikit-learn/issues/21755 */display: inline-block !important;position: relative;}#sk-container-id-5 div.sk-text-repr-fallback {display: none;}</style><div id=\"sk-container-id-5\" class=\"sk-top-container\"><div class=\"sk-text-repr-fallback\"><pre>LogisticRegression(multi_class=&#x27;multinomial&#x27;, random_state=100)</pre><b>In a Jupyter environment, please rerun this cell to show the HTML representation or trust the notebook. <br />On GitHub, the HTML representation is unable to render, please try loading this page with nbviewer.org.</b></div><div class=\"sk-container\" hidden><div class=\"sk-item\"><div class=\"sk-estimator sk-toggleable\"><input class=\"sk-toggleable__control sk-hidden--visually\" id=\"sk-estimator-id-5\" type=\"checkbox\" checked><label for=\"sk-estimator-id-5\" class=\"sk-toggleable__label sk-toggleable__label-arrow\">LogisticRegression</label><div class=\"sk-toggleable__content\"><pre>LogisticRegression(multi_class=&#x27;multinomial&#x27;, random_state=100)</pre></div></div></div></div></div>"
            ]
          },
          "metadata": {},
          "execution_count": 325
        }
      ]
    },
    {
      "cell_type": "code",
      "source": [
        "y_pred = LogModel_lda.predict(X_test_sc_ar_t)"
      ],
      "metadata": {
        "id": "Jhwwk_FiR8nJ"
      },
      "execution_count": null,
      "outputs": []
    },
    {
      "cell_type": "code",
      "source": [
        "confusion_matrix(y_test_sc_ar, y_pred)"
      ],
      "metadata": {
        "colab": {
          "base_uri": "https://localhost:8080/"
        },
        "id": "5-1kVM9YSK3W",
        "outputId": "6815e95c-967b-4fc2-819a-359486e57f1f"
      },
      "execution_count": null,
      "outputs": [
        {
          "output_type": "execute_result",
          "data": {
            "text/plain": [
              "array([[1686,    3,   76],\n",
              "       [   7,  190,    0],\n",
              "       [  69,    0, 4453]])"
            ]
          },
          "metadata": {},
          "execution_count": 327
        }
      ]
    },
    {
      "cell_type": "code",
      "source": [
        "print(classification_report(y_test_sc_ar, y_pred))"
      ],
      "metadata": {
        "colab": {
          "base_uri": "https://localhost:8080/"
        },
        "id": "dVghN3sSSU58",
        "outputId": "a3d07e97-13c3-4efb-c23b-356698e6b74a"
      },
      "execution_count": null,
      "outputs": [
        {
          "output_type": "stream",
          "name": "stdout",
          "text": [
            "              precision    recall  f1-score   support\n",
            "\n",
            "           0       0.96      0.96      0.96      1765\n",
            "           1       0.98      0.96      0.97       197\n",
            "           2       0.98      0.98      0.98      4522\n",
            "\n",
            "    accuracy                           0.98      6484\n",
            "   macro avg       0.97      0.97      0.97      6484\n",
            "weighted avg       0.98      0.98      0.98      6484\n",
            "\n"
          ]
        }
      ]
    }
  ]
}